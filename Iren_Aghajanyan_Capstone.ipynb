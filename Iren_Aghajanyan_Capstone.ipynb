{
  "cells": [
    {
      "cell_type": "code",
      "execution_count": 5,
      "id": "bab962b4",
      "metadata": {
        "id": "bab962b4"
      },
      "outputs": [],
      "source": [
        "import io\n",
        "import openpyxl\n",
        "import seaborn as sns\n",
        "import numpy as np\n",
        "from numpy import mean, std\n",
        "import pandas as pd\n",
        "from math import sqrt\n",
        "from matplotlib import pyplot as plt\n",
        "import matplotlib.pyplot as plt\n",
        "%matplotlib inline\n",
        "import warnings\n",
        "warnings.filterwarnings('ignore')\n",
        "\n",
        "\n",
        "from sklearn.linear_model import LinearRegression\n",
        "from sklearn.tree import DecisionTreeRegressor\n",
        "from sklearn.ensemble import RandomForestRegressor\n",
        "from sklearn.preprocessing import OneHotEncoder, LabelEncoder\n",
        "from sklearn.datasets import make_multilabel_classification\n",
        "from sklearn import tree\n",
        "from sklearn.pipeline import Pipeline\n",
        "from sklearn.inspection import permutation_importance\n",
        "from sklearn.model_selection import cross_val_score, GridSearchCV,RandomizedSearchCV, KFold, train_test_split, RepeatedKFold\n",
        "from sklearn import metrics\n",
        "from sklearn.metrics import mean_squared_error, accuracy_score, f1_score,roc_auc_score,confusion_matrix,roc_curve\n",
        "from sklearn.preprocessing import label_binarize\n",
        "from sklearn.preprocessing import LabelEncoder\n",
        "\n",
        "import xgboost as xgb\n",
        "from xgboost.sklearn import XGBClassifier\n",
        "#from xgboost.sklearn import plot_importance\n",
        "from xgboost import XGBRegressor, plot_importance\n",
        "\n",
        "# pip install category_encoders\n",
        "\n",
        "import category_encoders as ce\n",
        "# pip install shap\n",
        "\n",
        "import shap"
      ]
    },
    {
      "cell_type": "code",
      "execution_count": 6,
      "id": "b76c0a52",
      "metadata": {
        "id": "b76c0a52"
      },
      "outputs": [],
      "source": [
        "data_train = pd.read_csv(\"Train.csv\", sep=\",\")\n",
        "data_test = pd.read_csv(\"Test.csv\", sep=\",\")\n",
        "data = pd.concat([data_train, data_test])\n",
        "#data\n"
      ]
    },
    {
      "cell_type": "code",
      "execution_count": 7,
      "id": "yc8-3egRtv1i",
      "metadata": {
        "colab": {
          "base_uri": "https://localhost:8080/"
        },
        "id": "yc8-3egRtv1i",
        "outputId": "d5a4934a-3561-450e-8dea-bafced57aca2"
      },
      "outputs": [
        {
          "output_type": "execute_result",
          "data": {
            "text/plain": [
              "(10695, 11)"
            ]
          },
          "metadata": {},
          "execution_count": 7
        }
      ],
      "source": [
        "data.shape"
      ]
    },
    {
      "cell_type": "code",
      "execution_count": 8,
      "id": "kweq_T_1nvzO",
      "metadata": {
        "colab": {
          "base_uri": "https://localhost:8080/"
        },
        "id": "kweq_T_1nvzO",
        "outputId": "2ef4fc27-a67a-4e0d-e908-47a89f64533f"
      },
      "outputs": [
        {
          "output_type": "stream",
          "name": "stdout",
          "text": [
            "<class 'pandas.core.frame.DataFrame'>\n",
            "Int64Index: 10695 entries, 0 to 2626\n",
            "Data columns (total 11 columns):\n",
            " #   Column           Non-Null Count  Dtype  \n",
            "---  ------           --------------  -----  \n",
            " 0   ID               10695 non-null  int64  \n",
            " 1   Gender           10695 non-null  object \n",
            " 2   Ever_Married     10505 non-null  object \n",
            " 3   Age              10695 non-null  int64  \n",
            " 4   Graduated        10593 non-null  object \n",
            " 5   Profession       10533 non-null  object \n",
            " 6   Work_Experience  9597 non-null   float64\n",
            " 7   Spending_Score   10695 non-null  object \n",
            " 8   Family_Size      10247 non-null  float64\n",
            " 9   Var_1            10587 non-null  object \n",
            " 10  Segmentation     10695 non-null  object \n",
            "dtypes: float64(2), int64(2), object(7)\n",
            "memory usage: 1002.7+ KB\n"
          ]
        }
      ],
      "source": [
        "data.info()"
      ]
    },
    {
      "cell_type": "code",
      "execution_count": 9,
      "id": "QdeHLjRdtnbK",
      "metadata": {
        "colab": {
          "base_uri": "https://localhost:8080/"
        },
        "id": "QdeHLjRdtnbK",
        "outputId": "8b22d498-44df-4690-d516-7f8eac3ff1cd"
      },
      "outputs": [
        {
          "output_type": "execute_result",
          "data": {
            "text/plain": [
              "ID                    0\n",
              "Gender                0\n",
              "Ever_Married        190\n",
              "Age                   0\n",
              "Graduated           102\n",
              "Profession          162\n",
              "Work_Experience    1098\n",
              "Spending_Score        0\n",
              "Family_Size         448\n",
              "Var_1               108\n",
              "Segmentation          0\n",
              "dtype: int64"
            ]
          },
          "metadata": {},
          "execution_count": 9
        }
      ],
      "source": [
        "data.isnull().sum() #check for nulls in dataset"
      ]
    },
    {
      "cell_type": "code",
      "source": [
        "plt.subplots(figsize=(10,5))\n",
        "sns.heatmap(data.isnull(),cbar=False)\n",
        "plt.xlabel('Feature')\n",
        "plt.ylabel('Index')\n",
        "plt.title('Missing Value Visualization')\n",
        "\n",
        "plt.show()"
      ],
      "metadata": {
        "colab": {
          "base_uri": "https://localhost:8080/",
          "height": 425
        },
        "id": "VpmSId0xyK22",
        "outputId": "6f85d2b8-cc6b-485c-8a3e-e607054a74aa"
      },
      "id": "VpmSId0xyK22",
      "execution_count": 10,
      "outputs": [
        {
          "output_type": "display_data",
          "data": {
            "text/plain": [
              "<Figure size 720x360 with 1 Axes>"
            ],
            "image/png": "[encoded data removed]"
          },
          "metadata": {
            "needs_background": "light"
          }
        }
      ]
    },
    {
      "cell_type": "code",
      "source": [
        "data_balancing = pd.DataFrame()\n",
        "data_balancing[\"Count\"] = data[\"Segmentation\"].value_counts()\n",
        "data_balancing[\"Count%\"] = data[\"Segmentation\"].value_counts()/data.shape[0]*100\n",
        "\n",
        "data_balancing"
      ],
      "metadata": {
        "colab": {
          "base_uri": "https://localhost:8080/",
          "height": 175
        },
        "id": "bhg3s6wLyQGO",
        "outputId": "4c4e06d9-1635-42cb-d395-1b56f6c0f4b9"
      },
      "id": "bhg3s6wLyQGO",
      "execution_count": 11,
      "outputs": [
        {
          "output_type": "execute_result",
          "data": {
            "text/plain": [
              "   Count     Count%\n",
              "D   3027  28.302945\n",
              "A   2818  26.348761\n",
              "C   2442  22.833100\n",
              "B   2408  22.515194"
            ],
            "text/html": [
              "\n",
              "  <div id=\"df-f3f4b632-d46f-4be3-94ec-7a0a53cc4668\">\n",
              "    <div class=\"colab-df-container\">\n",
              "      <div>\n",
              "<style scoped>\n",
              "    .dataframe tbody tr th:only-of-type {\n",
              "        vertical-align: middle;\n",
              "    }\n",
              "\n",
              "    .dataframe tbody tr th {\n",
              "        vertical-align: top;\n",
              "    }\n",
              "\n",
              "    .dataframe thead th {\n",
              "        text-align: right;\n",
              "    }\n",
              "</style>\n",
              "<table border=\"1\" class=\"dataframe\">\n",
              "  <thead>\n",
              "    <tr style=\"text-align: right;\">\n",
              "      <th></th>\n",
              "      <th>Count</th>\n",
              "      <th>Count%</th>\n",
              "    </tr>\n",
              "  </thead>\n",
              "  <tbody>\n",
              "    <tr>\n",
              "      <th>D</th>\n",
              "      <td>3027</td>\n",
              "      <td>28.302945</td>\n",
              "    </tr>\n",
              "    <tr>\n",
              "      <th>A</th>\n",
              "      <td>2818</td>\n",
              "      <td>26.348761</td>\n",
              "    </tr>\n",
              "    <tr>\n",
              "      <th>C</th>\n",
              "      <td>2442</td>\n",
              "      <td>22.833100</td>\n",
              "    </tr>\n",
              "    <tr>\n",
              "      <th>B</th>\n",
              "      <td>2408</td>\n",
              "      <td>22.515194</td>\n",
              "    </tr>\n",
              "  </tbody>\n",
              "</table>\n",
              "</div>\n",
              "      <button class=\"colab-df-convert\" onclick=\"convertToInteractive('df-f3f4b632-d46f-4be3-94ec-7a0a53cc4668')\"\n",
              "              title=\"Convert this dataframe to an interactive table.\"\n",
              "              style=\"display:none;\">\n",
              "        \n",
              "  <svg xmlns=\"http://www.w3.org/2000/svg\" height=\"24px\"viewBox=\"0 0 24 24\"\n",
              "       width=\"24px\">\n",
              "    <path d=\"M0 0h24v24H0V0z\" fill=\"none\"/>\n",
              "    <path d=\"M18.56 5.44l.94 2.06.94-2.06 2.06-.94-2.06-.94-.94-2.06-.94 2.06-2.06.94zm-11 1L8.5 8.5l.94-2.06 2.06-.94-2.06-.94L8.5 2.5l-.94 2.06-2.06.94zm10 10l.94 2.06.94-2.06 2.06-.94-2.06-.94-.94-2.06-.94 2.06-2.06.94z\"/><path d=\"M17.41 7.96l-1.37-1.37c-.4-.4-.92-.59-1.43-.59-.52 0-1.04.2-1.43.59L10.3 9.45l-7.72 7.72c-.78.78-.78 2.05 0 2.83L4 21.41c.39.39.9.59 1.41.59.51 0 1.02-.2 1.41-.59l7.78-7.78 2.81-2.81c.8-.78.8-2.07 0-2.86zM5.41 20L4 18.59l7.72-7.72 1.47 1.35L5.41 20z\"/>\n",
              "  </svg>\n",
              "      </button>\n",
              "      \n",
              "  <style>\n",
              "    .colab-df-container {\n",
              "      display:flex;\n",
              "      flex-wrap:wrap;\n",
              "      gap: 12px;\n",
              "    }\n",
              "\n",
              "    .colab-df-convert {\n",
              "      background-color: #E8F0FE;\n",
              "      border: none;\n",
              "      border-radius: 50%;\n",
              "      cursor: pointer;\n",
              "      display: none;\n",
              "      fill: #1967D2;\n",
              "      height: 32px;\n",
              "      padding: 0 0 0 0;\n",
              "      width: 32px;\n",
              "    }\n",
              "\n",
              "    .colab-df-convert:hover {\n",
              "      background-color: #E2EBFA;\n",
              "      box-shadow: 0px 1px 2px rgba(60, 64, 67, 0.3), 0px 1px 3px 1px rgba(60, 64, 67, 0.15);\n",
              "      fill: #174EA6;\n",
              "    }\n",
              "\n",
              "    [theme=dark] .colab-df-convert {\n",
              "      background-color: #3B4455;\n",
              "      fill: #D2E3FC;\n",
              "    }\n",
              "\n",
              "    [theme=dark] .colab-df-convert:hover {\n",
              "      background-color: #434B5C;\n",
              "      box-shadow: 0px 1px 3px 1px rgba(0, 0, 0, 0.15);\n",
              "      filter: drop-shadow(0px 1px 2px rgba(0, 0, 0, 0.3));\n",
              "      fill: #FFFFFF;\n",
              "    }\n",
              "  </style>\n",
              "\n",
              "      <script>\n",
              "        const buttonEl =\n",
              "          document.querySelector('#df-f3f4b632-d46f-4be3-94ec-7a0a53cc4668 button.colab-df-convert');\n",
              "        buttonEl.style.display =\n",
              "          google.colab.kernel.accessAllowed ? 'block' : 'none';\n",
              "\n",
              "        async function convertToInteractive(key) {\n",
              "          const element = document.querySelector('#df-f3f4b632-d46f-4be3-94ec-7a0a53cc4668');\n",
              "          const dataTable =\n",
              "            await google.colab.kernel.invokeFunction('convertToInteractive',\n",
              "                                                     [key], {});\n",
              "          if (!dataTable) return;\n",
              "\n",
              "          const docLinkHtml = 'Like what you see? Visit the ' +\n",
              "            '<a target=\"_blank\" href=https://colab.research.google.com/notebooks/data_table.ipynb>data table notebook</a>'\n",
              "            + ' to learn more about interactive tables.';\n",
              "          element.innerHTML = '';\n",
              "          dataTable['output_type'] = 'display_data';\n",
              "          await google.colab.output.renderOutput(dataTable, element);\n",
              "          const docLink = document.createElement('div');\n",
              "          docLink.innerHTML = docLinkHtml;\n",
              "          element.appendChild(docLink);\n",
              "        }\n",
              "      </script>\n",
              "    </div>\n",
              "  </div>\n",
              "  "
            ]
          },
          "metadata": {},
          "execution_count": 11
        }
      ]
    },
    {
      "cell_type": "code",
      "source": [
        "fig, ax = plt.subplots(1, 2)\n",
        "data[\"Segmentation\"].value_counts().plot.bar(color=\"gray\", ax=ax[0])\n",
        "data[\"Segmentation\"].value_counts().plot.pie(autopct='%1.1f%%',shadow=True,textprops={\"fontsize\": 10},ax=ax[1])\n",
        "fig.suptitle(\"Segmentation Frequency\", fontsize=15)\n",
        "plt.xticks(rotation=90)\n",
        "plt.yticks(rotation=45)"
      ],
      "metadata": {
        "colab": {
          "base_uri": "https://localhost:8080/",
          "height": 310
        },
        "id": "mznFYxvWyycP",
        "outputId": "a9f4872c-0d77-472d-8b3c-aa93705b0b75"
      },
      "id": "mznFYxvWyycP",
      "execution_count": 12,
      "outputs": [
        {
          "output_type": "execute_result",
          "data": {
            "text/plain": [
              "(array([], dtype=float64), <a list of 0 Text major ticklabel objects>)"
            ]
          },
          "metadata": {},
          "execution_count": 12
        },
        {
          "output_type": "display_data",
          "data": {
            "text/plain": [
              "<Figure size 432x288 with 2 Axes>"
            ],
            "image/png": "[encoded data removed]"
          },
          "metadata": {
            "needs_background": "light"
          }
        }
      ]
    },
    {
      "cell_type": "code",
      "source": [
        "# Based On Gender\n",
        "gender_based = pd.pivot_table(data,values='ID',index=['Gender'],columns=['Segmentation'],aggfunc=np.count_nonzero)"
      ],
      "metadata": {
        "id": "V-wHgJDzyx_v"
      },
      "id": "V-wHgJDzyx_v",
      "execution_count": 13,
      "outputs": []
    },
    {
      "cell_type": "code",
      "source": [
        "gender_based"
      ],
      "metadata": {
        "colab": {
          "base_uri": "https://localhost:8080/",
          "height": 143
        },
        "id": "OUSP8Ig7zEOH",
        "outputId": "c256427a-f494-47db-ddf1-fd86b148e364"
      },
      "id": "OUSP8Ig7zEOH",
      "execution_count": 14,
      "outputs": [
        {
          "output_type": "execute_result",
          "data": {
            "text/plain": [
              "Segmentation     A     B     C     D\n",
              "Gender                              \n",
              "Female        1302  1098  1145  1309\n",
              "Male          1516  1310  1297  1718"
            ],
            "text/html": [
              "\n",
              "  <div id=\"df-450c7389-347a-479b-816e-57e6b3f14426\">\n",
              "    <div class=\"colab-df-container\">\n",
              "      <div>\n",
              "<style scoped>\n",
              "    .dataframe tbody tr th:only-of-type {\n",
              "        vertical-align: middle;\n",
              "    }\n",
              "\n",
              "    .dataframe tbody tr th {\n",
              "        vertical-align: top;\n",
              "    }\n",
              "\n",
              "    .dataframe thead th {\n",
              "        text-align: right;\n",
              "    }\n",
              "</style>\n",
              "<table border=\"1\" class=\"dataframe\">\n",
              "  <thead>\n",
              "    <tr style=\"text-align: right;\">\n",
              "      <th>Segmentation</th>\n",
              "      <th>A</th>\n",
              "      <th>B</th>\n",
              "      <th>C</th>\n",
              "      <th>D</th>\n",
              "    </tr>\n",
              "    <tr>\n",
              "      <th>Gender</th>\n",
              "      <th></th>\n",
              "      <th></th>\n",
              "      <th></th>\n",
              "      <th></th>\n",
              "    </tr>\n",
              "  </thead>\n",
              "  <tbody>\n",
              "    <tr>\n",
              "      <th>Female</th>\n",
              "      <td>1302</td>\n",
              "      <td>1098</td>\n",
              "      <td>1145</td>\n",
              "      <td>1309</td>\n",
              "    </tr>\n",
              "    <tr>\n",
              "      <th>Male</th>\n",
              "      <td>1516</td>\n",
              "      <td>1310</td>\n",
              "      <td>1297</td>\n",
              "      <td>1718</td>\n",
              "    </tr>\n",
              "  </tbody>\n",
              "</table>\n",
              "</div>\n",
              "      <button class=\"colab-df-convert\" onclick=\"convertToInteractive('df-450c7389-347a-479b-816e-57e6b3f14426')\"\n",
              "              title=\"Convert this dataframe to an interactive table.\"\n",
              "              style=\"display:none;\">\n",
              "        \n",
              "  <svg xmlns=\"http://www.w3.org/2000/svg\" height=\"24px\"viewBox=\"0 0 24 24\"\n",
              "       width=\"24px\">\n",
              "    <path d=\"M0 0h24v24H0V0z\" fill=\"none\"/>\n",
              "    <path d=\"M18.56 5.44l.94 2.06.94-2.06 2.06-.94-2.06-.94-.94-2.06-.94 2.06-2.06.94zm-11 1L8.5 8.5l.94-2.06 2.06-.94-2.06-.94L8.5 2.5l-.94 2.06-2.06.94zm10 10l.94 2.06.94-2.06 2.06-.94-2.06-.94-.94-2.06-.94 2.06-2.06.94z\"/><path d=\"M17.41 7.96l-1.37-1.37c-.4-.4-.92-.59-1.43-.59-.52 0-1.04.2-1.43.59L10.3 9.45l-7.72 7.72c-.78.78-.78 2.05 0 2.83L4 21.41c.39.39.9.59 1.41.59.51 0 1.02-.2 1.41-.59l7.78-7.78 2.81-2.81c.8-.78.8-2.07 0-2.86zM5.41 20L4 18.59l7.72-7.72 1.47 1.35L5.41 20z\"/>\n",
              "  </svg>\n",
              "      </button>\n",
              "      \n",
              "  <style>\n",
              "    .colab-df-container {\n",
              "      display:flex;\n",
              "      flex-wrap:wrap;\n",
              "      gap: 12px;\n",
              "    }\n",
              "\n",
              "    .colab-df-convert {\n",
              "      background-color: #E8F0FE;\n",
              "      border: none;\n",
              "      border-radius: 50%;\n",
              "      cursor: pointer;\n",
              "      display: none;\n",
              "      fill: #1967D2;\n",
              "      height: 32px;\n",
              "      padding: 0 0 0 0;\n",
              "      width: 32px;\n",
              "    }\n",
              "\n",
              "    .colab-df-convert:hover {\n",
              "      background-color: #E2EBFA;\n",
              "      box-shadow: 0px 1px 2px rgba(60, 64, 67, 0.3), 0px 1px 3px 1px rgba(60, 64, 67, 0.15);\n",
              "      fill: #174EA6;\n",
              "    }\n",
              "\n",
              "    [theme=dark] .colab-df-convert {\n",
              "      background-color: #3B4455;\n",
              "      fill: #D2E3FC;\n",
              "    }\n",
              "\n",
              "    [theme=dark] .colab-df-convert:hover {\n",
              "      background-color: #434B5C;\n",
              "      box-shadow: 0px 1px 3px 1px rgba(0, 0, 0, 0.15);\n",
              "      filter: drop-shadow(0px 1px 2px rgba(0, 0, 0, 0.3));\n",
              "      fill: #FFFFFF;\n",
              "    }\n",
              "  </style>\n",
              "\n",
              "      <script>\n",
              "        const buttonEl =\n",
              "          document.querySelector('#df-450c7389-347a-479b-816e-57e6b3f14426 button.colab-df-convert');\n",
              "        buttonEl.style.display =\n",
              "          google.colab.kernel.accessAllowed ? 'block' : 'none';\n",
              "\n",
              "        async function convertToInteractive(key) {\n",
              "          const element = document.querySelector('#df-450c7389-347a-479b-816e-57e6b3f14426');\n",
              "          const dataTable =\n",
              "            await google.colab.kernel.invokeFunction('convertToInteractive',\n",
              "                                                     [key], {});\n",
              "          if (!dataTable) return;\n",
              "\n",
              "          const docLinkHtml = 'Like what you see? Visit the ' +\n",
              "            '<a target=\"_blank\" href=https://colab.research.google.com/notebooks/data_table.ipynb>data table notebook</a>'\n",
              "            + ' to learn more about interactive tables.';\n",
              "          element.innerHTML = '';\n",
              "          dataTable['output_type'] = 'display_data';\n",
              "          await google.colab.output.renderOutput(dataTable, element);\n",
              "          const docLink = document.createElement('div');\n",
              "          docLink.innerHTML = docLinkHtml;\n",
              "          element.appendChild(docLink);\n",
              "        }\n",
              "      </script>\n",
              "    </div>\n",
              "  </div>\n",
              "  "
            ]
          },
          "metadata": {},
          "execution_count": 14
        }
      ]
    },
    {
      "cell_type": "code",
      "execution_count": 15,
      "id": "D4E5HvhauSI8",
      "metadata": {
        "id": "D4E5HvhauSI8"
      },
      "outputs": [],
      "source": [
        "data = data.drop('ID', axis =1 )"
      ]
    },
    {
      "cell_type": "code",
      "execution_count": 16,
      "id": "Si98wZHpwrj8",
      "metadata": {
        "id": "Si98wZHpwrj8"
      },
      "outputs": [],
      "source": [
        "#Filling nans with the mean \n",
        "mean_value_1 = data['Family_Size'].mean()\n",
        "data['Family_Size'].fillna(value = mean_value_1,  inplace=True)\n"
      ]
    },
    {
      "cell_type": "code",
      "execution_count": 17,
      "id": "v-ezJdxFwrhe",
      "metadata": {
        "id": "v-ezJdxFwrhe"
      },
      "outputs": [],
      "source": [
        "#Filling nans with the mean \n",
        "mean_value_2 = data['Work_Experience'].mean()\n",
        "data['Work_Experience'].fillna(value = mean_value_2,  inplace=True)\n"
      ]
    },
    {
      "cell_type": "code",
      "execution_count": 18,
      "id": "0GdyJ7jextxU",
      "metadata": {
        "colab": {
          "base_uri": "https://localhost:8080/"
        },
        "id": "0GdyJ7jextxU",
        "outputId": "a4c4df3f-f8c5-4a02-f134-205c7be38bd4"
      },
      "outputs": [
        {
          "output_type": "execute_result",
          "data": {
            "text/plain": [
              "Gender             0\n",
              "Ever_Married       0\n",
              "Age                0\n",
              "Graduated          0\n",
              "Profession         0\n",
              "Work_Experience    0\n",
              "Spending_Score     0\n",
              "Family_Size        0\n",
              "Var_1              0\n",
              "Segmentation       0\n",
              "dtype: int64"
            ]
          },
          "metadata": {},
          "execution_count": 18
        }
      ],
      "source": [
        "#Dropping all nans as they are not numeric and cant be replaced by nans or 0s\n",
        "data.dropna(axis=0,inplace=True)\n",
        "data.isnull().sum()"
      ]
    },
    {
      "cell_type": "code",
      "execution_count": 19,
      "id": "h9hdEQ26wre7",
      "metadata": {
        "id": "h9hdEQ26wre7"
      },
      "outputs": [],
      "source": [
        "#Gettting binary form of some columns\n",
        "\n",
        "data[\"Ever_Married\"] = label_binarize(data[\"Ever_Married\"], classes = [\"Yes\", \"No\"])\n",
        "data[\"Graduated\"] = label_binarize(data[\"Graduated\"], classes = [\"Yes\", \"No\"])\n",
        "data[\"Gender\"] = label_binarize(data[\"Gender\"], classes = [\"Male\", \"Female\"])\n"
      ]
    },
    {
      "cell_type": "code",
      "execution_count": 20,
      "id": "NwmEm_lKwrcp",
      "metadata": {
        "colab": {
          "base_uri": "https://localhost:8080/",
          "height": 467
        },
        "id": "NwmEm_lKwrcp",
        "outputId": "5f839977-3b22-4163-ae67-7b13e6387004"
      },
      "outputs": [
        {
          "output_type": "execute_result",
          "data": {
            "text/plain": [
              "      Gender  Ever_Married  Age  Graduated     Profession  Work_Experience  \\\n",
              "0          0             1   22          1     Healthcare         1.000000   \n",
              "1          1             0   38          0       Engineer         2.619777   \n",
              "2          1             0   67          0       Engineer         1.000000   \n",
              "3          0             0   67          0         Lawyer         0.000000   \n",
              "4          1             0   40          0  Entertainment         2.619777   \n",
              "...      ...           ...  ...        ...            ...              ...   \n",
              "2622       0             1   29          1     Healthcare         9.000000   \n",
              "2623       1             1   35          0         Doctor         1.000000   \n",
              "2624       1             1   53          0  Entertainment         2.619777   \n",
              "2625       0             0   47          0      Executive         1.000000   \n",
              "2626       1             1   43          0     Healthcare         9.000000   \n",
              "\n",
              "     Spending_Score  Family_Size  Var_1 Segmentation  \n",
              "0               Low          4.0  Cat_4            D  \n",
              "1           Average          3.0  Cat_4            A  \n",
              "2               Low          1.0  Cat_6            B  \n",
              "3              High          2.0  Cat_6            B  \n",
              "4              High          6.0  Cat_6            A  \n",
              "...             ...          ...    ...          ...  \n",
              "2622            Low          4.0  Cat_6            B  \n",
              "2623            Low          1.0  Cat_6            A  \n",
              "2624            Low          2.0  Cat_6            C  \n",
              "2625           High          5.0  Cat_4            C  \n",
              "2626            Low          3.0  Cat_7            A  \n",
              "\n",
              "[10157 rows x 10 columns]"
            ],
            "text/html": [
              "\n",
              "  <div id=\"df-c2df9174-6c15-49a9-84dc-9b1e63563aa8\">\n",
              "    <div class=\"colab-df-container\">\n",
              "      <div>\n",
              "<style scoped>\n",
              "    .dataframe tbody tr th:only-of-type {\n",
              "        vertical-align: middle;\n",
              "    }\n",
              "\n",
              "    .dataframe tbody tr th {\n",
              "        vertical-align: top;\n",
              "    }\n",
              "\n",
              "    .dataframe thead th {\n",
              "        text-align: right;\n",
              "    }\n",
              "</style>\n",
              "<table border=\"1\" class=\"dataframe\">\n",
              "  <thead>\n",
              "    <tr style=\"text-align: right;\">\n",
              "      <th></th>\n",
              "      <th>Gender</th>\n",
              "      <th>Ever_Married</th>\n",
              "      <th>Age</th>\n",
              "      <th>Graduated</th>\n",
              "      <th>Profession</th>\n",
              "      <th>Work_Experience</th>\n",
              "      <th>Spending_Score</th>\n",
              "      <th>Family_Size</th>\n",
              "      <th>Var_1</th>\n",
              "      <th>Segmentation</th>\n",
              "    </tr>\n",
              "  </thead>\n",
              "  <tbody>\n",
              "    <tr>\n",
              "      <th>0</th>\n",
              "      <td>0</td>\n",
              "      <td>1</td>\n",
              "      <td>22</td>\n",
              "      <td>1</td>\n",
              "      <td>Healthcare</td>\n",
              "      <td>1.000000</td>\n",
              "      <td>Low</td>\n",
              "      <td>4.0</td>\n",
              "      <td>Cat_4</td>\n",
              "      <td>D</td>\n",
              "    </tr>\n",
              "    <tr>\n",
              "      <th>1</th>\n",
              "      <td>1</td>\n",
              "      <td>0</td>\n",
              "      <td>38</td>\n",
              "      <td>0</td>\n",
              "      <td>Engineer</td>\n",
              "      <td>2.619777</td>\n",
              "      <td>Average</td>\n",
              "      <td>3.0</td>\n",
              "      <td>Cat_4</td>\n",
              "      <td>A</td>\n",
              "    </tr>\n",
              "    <tr>\n",
              "      <th>2</th>\n",
              "      <td>1</td>\n",
              "      <td>0</td>\n",
              "      <td>67</td>\n",
              "      <td>0</td>\n",
              "      <td>Engineer</td>\n",
              "      <td>1.000000</td>\n",
              "      <td>Low</td>\n",
              "      <td>1.0</td>\n",
              "      <td>Cat_6</td>\n",
              "      <td>B</td>\n",
              "    </tr>\n",
              "    <tr>\n",
              "      <th>3</th>\n",
              "      <td>0</td>\n",
              "      <td>0</td>\n",
              "      <td>67</td>\n",
              "      <td>0</td>\n",
              "      <td>Lawyer</td>\n",
              "      <td>0.000000</td>\n",
              "      <td>High</td>\n",
              "      <td>2.0</td>\n",
              "      <td>Cat_6</td>\n",
              "      <td>B</td>\n",
              "    </tr>\n",
              "    <tr>\n",
              "      <th>4</th>\n",
              "      <td>1</td>\n",
              "      <td>0</td>\n",
              "      <td>40</td>\n",
              "      <td>0</td>\n",
              "      <td>Entertainment</td>\n",
              "      <td>2.619777</td>\n",
              "      <td>High</td>\n",
              "      <td>6.0</td>\n",
              "      <td>Cat_6</td>\n",
              "      <td>A</td>\n",
              "    </tr>\n",
              "    <tr>\n",
              "      <th>...</th>\n",
              "      <td>...</td>\n",
              "      <td>...</td>\n",
              "      <td>...</td>\n",
              "      <td>...</td>\n",
              "      <td>...</td>\n",
              "      <td>...</td>\n",
              "      <td>...</td>\n",
              "      <td>...</td>\n",
              "      <td>...</td>\n",
              "      <td>...</td>\n",
              "    </tr>\n",
              "    <tr>\n",
              "      <th>2622</th>\n",
              "      <td>0</td>\n",
              "      <td>1</td>\n",
              "      <td>29</td>\n",
              "      <td>1</td>\n",
              "      <td>Healthcare</td>\n",
              "      <td>9.000000</td>\n",
              "      <td>Low</td>\n",
              "      <td>4.0</td>\n",
              "      <td>Cat_6</td>\n",
              "      <td>B</td>\n",
              "    </tr>\n",
              "    <tr>\n",
              "      <th>2623</th>\n",
              "      <td>1</td>\n",
              "      <td>1</td>\n",
              "      <td>35</td>\n",
              "      <td>0</td>\n",
              "      <td>Doctor</td>\n",
              "      <td>1.000000</td>\n",
              "      <td>Low</td>\n",
              "      <td>1.0</td>\n",
              "      <td>Cat_6</td>\n",
              "      <td>A</td>\n",
              "    </tr>\n",
              "    <tr>\n",
              "      <th>2624</th>\n",
              "      <td>1</td>\n",
              "      <td>1</td>\n",
              "      <td>53</td>\n",
              "      <td>0</td>\n",
              "      <td>Entertainment</td>\n",
              "      <td>2.619777</td>\n",
              "      <td>Low</td>\n",
              "      <td>2.0</td>\n",
              "      <td>Cat_6</td>\n",
              "      <td>C</td>\n",
              "    </tr>\n",
              "    <tr>\n",
              "      <th>2625</th>\n",
              "      <td>0</td>\n",
              "      <td>0</td>\n",
              "      <td>47</td>\n",
              "      <td>0</td>\n",
              "      <td>Executive</td>\n",
              "      <td>1.000000</td>\n",
              "      <td>High</td>\n",
              "      <td>5.0</td>\n",
              "      <td>Cat_4</td>\n",
              "      <td>C</td>\n",
              "    </tr>\n",
              "    <tr>\n",
              "      <th>2626</th>\n",
              "      <td>1</td>\n",
              "      <td>1</td>\n",
              "      <td>43</td>\n",
              "      <td>0</td>\n",
              "      <td>Healthcare</td>\n",
              "      <td>9.000000</td>\n",
              "      <td>Low</td>\n",
              "      <td>3.0</td>\n",
              "      <td>Cat_7</td>\n",
              "      <td>A</td>\n",
              "    </tr>\n",
              "  </tbody>\n",
              "</table>\n",
              "<p>10157 rows × 10 columns</p>\n",
              "</div>\n",
              "      <button class=\"colab-df-convert\" onclick=\"convertToInteractive('df-c2df9174-6c15-49a9-84dc-9b1e63563aa8')\"\n",
              "              title=\"Convert this dataframe to an interactive table.\"\n",
              "              style=\"display:none;\">\n",
              "        \n",
              "  <svg xmlns=\"http://www.w3.org/2000/svg\" height=\"24px\"viewBox=\"0 0 24 24\"\n",
              "       width=\"24px\">\n",
              "    <path d=\"M0 0h24v24H0V0z\" fill=\"none\"/>\n",
              "    <path d=\"M18.56 5.44l.94 2.06.94-2.06 2.06-.94-2.06-.94-.94-2.06-.94 2.06-2.06.94zm-11 1L8.5 8.5l.94-2.06 2.06-.94-2.06-.94L8.5 2.5l-.94 2.06-2.06.94zm10 10l.94 2.06.94-2.06 2.06-.94-2.06-.94-.94-2.06-.94 2.06-2.06.94z\"/><path d=\"M17.41 7.96l-1.37-1.37c-.4-.4-.92-.59-1.43-.59-.52 0-1.04.2-1.43.59L10.3 9.45l-7.72 7.72c-.78.78-.78 2.05 0 2.83L4 21.41c.39.39.9.59 1.41.59.51 0 1.02-.2 1.41-.59l7.78-7.78 2.81-2.81c.8-.78.8-2.07 0-2.86zM5.41 20L4 18.59l7.72-7.72 1.47 1.35L5.41 20z\"/>\n",
              "  </svg>\n",
              "      </button>\n",
              "      \n",
              "  <style>\n",
              "    .colab-df-container {\n",
              "      display:flex;\n",
              "      flex-wrap:wrap;\n",
              "      gap: 12px;\n",
              "    }\n",
              "\n",
              "    .colab-df-convert {\n",
              "      background-color: #E8F0FE;\n",
              "      border: none;\n",
              "      border-radius: 50%;\n",
              "      cursor: pointer;\n",
              "      display: none;\n",
              "      fill: #1967D2;\n",
              "      height: 32px;\n",
              "      padding: 0 0 0 0;\n",
              "      width: 32px;\n",
              "    }\n",
              "\n",
              "    .colab-df-convert:hover {\n",
              "      background-color: #E2EBFA;\n",
              "      box-shadow: 0px 1px 2px rgba(60, 64, 67, 0.3), 0px 1px 3px 1px rgba(60, 64, 67, 0.15);\n",
              "      fill: #174EA6;\n",
              "    }\n",
              "\n",
              "    [theme=dark] .colab-df-convert {\n",
              "      background-color: #3B4455;\n",
              "      fill: #D2E3FC;\n",
              "    }\n",
              "\n",
              "    [theme=dark] .colab-df-convert:hover {\n",
              "      background-color: #434B5C;\n",
              "      box-shadow: 0px 1px 3px 1px rgba(0, 0, 0, 0.15);\n",
              "      filter: drop-shadow(0px 1px 2px rgba(0, 0, 0, 0.3));\n",
              "      fill: #FFFFFF;\n",
              "    }\n",
              "  </style>\n",
              "\n",
              "      <script>\n",
              "        const buttonEl =\n",
              "          document.querySelector('#df-c2df9174-6c15-49a9-84dc-9b1e63563aa8 button.colab-df-convert');\n",
              "        buttonEl.style.display =\n",
              "          google.colab.kernel.accessAllowed ? 'block' : 'none';\n",
              "\n",
              "        async function convertToInteractive(key) {\n",
              "          const element = document.querySelector('#df-c2df9174-6c15-49a9-84dc-9b1e63563aa8');\n",
              "          const dataTable =\n",
              "            await google.colab.kernel.invokeFunction('convertToInteractive',\n",
              "                                                     [key], {});\n",
              "          if (!dataTable) return;\n",
              "\n",
              "          const docLinkHtml = 'Like what you see? Visit the ' +\n",
              "            '<a target=\"_blank\" href=https://colab.research.google.com/notebooks/data_table.ipynb>data table notebook</a>'\n",
              "            + ' to learn more about interactive tables.';\n",
              "          element.innerHTML = '';\n",
              "          dataTable['output_type'] = 'display_data';\n",
              "          await google.colab.output.renderOutput(dataTable, element);\n",
              "          const docLink = document.createElement('div');\n",
              "          docLink.innerHTML = docLinkHtml;\n",
              "          element.appendChild(docLink);\n",
              "        }\n",
              "      </script>\n",
              "    </div>\n",
              "  </div>\n",
              "  "
            ]
          },
          "metadata": {},
          "execution_count": 20
        }
      ],
      "source": [
        "data"
      ]
    },
    {
      "cell_type": "code",
      "execution_count": 21,
      "id": "9GydNyRcy2sm",
      "metadata": {
        "id": "9GydNyRcy2sm"
      },
      "outputs": [],
      "source": [
        "X = data.drop('Segmentation', axis= 1)\n",
        "y = data.Segmentation"
      ]
    },
    {
      "cell_type": "code",
      "execution_count": 22,
      "id": "W6gVrEKEy2oI",
      "metadata": {
        "id": "W6gVrEKEy2oI"
      },
      "outputs": [],
      "source": [
        "encoder = ce.OneHotEncoder(cols=['Spending_Score', 'Profession', 'Var_1'])\n",
        "encoder.fit(X, y)\n",
        "X_cleaned = encoder.transform(X)"
      ]
    },
    {
      "cell_type": "code",
      "execution_count": 23,
      "id": "6fb4yw5j9Ncv",
      "metadata": {
        "id": "6fb4yw5j9Ncv"
      },
      "outputs": [],
      "source": [
        "label_encoder = LabelEncoder()\n",
        "y = label_encoder.fit_transform(y)"
      ]
    },
    {
      "cell_type": "code",
      "execution_count": 24,
      "id": "9kjovatNy2hO",
      "metadata": {
        "id": "9kjovatNy2hO"
      },
      "outputs": [],
      "source": [
        "X_train, X_test, y_train, y_test = train_test_split(X_cleaned, y, test_size= 0.33, random_state=0)"
      ]
    },
    {
      "cell_type": "markdown",
      "id": "GDUSJ9qU4bqE",
      "metadata": {
        "id": "GDUSJ9qU4bqE"
      },
      "source": [
        "## Feature Importancde including Permutation Importance and SHAP"
      ]
    },
    {
      "cell_type": "code",
      "execution_count": 25,
      "id": "mD_2Wxy4KrxQ",
      "metadata": {
        "colab": {
          "base_uri": "https://localhost:8080/"
        },
        "id": "mD_2Wxy4KrxQ",
        "outputId": "7bd6a3ba-b2aa-4d0d-e8e0-3b2bedfd3ca2"
      },
      "outputs": [
        {
          "output_type": "execute_result",
          "data": {
            "text/plain": [
              "XGBClassifier(objective='multi:softprob')"
            ]
          },
          "metadata": {},
          "execution_count": 25
        }
      ],
      "source": [
        "model = XGBClassifier()\n",
        "model.fit(X_train, y_train)"
      ]
    },
    {
      "cell_type": "code",
      "execution_count": 26,
      "id": "mrQx3C23O03S",
      "metadata": {
        "colab": {
          "base_uri": "https://localhost:8080/"
        },
        "id": "mrQx3C23O03S",
        "outputId": "3ce0f9f5-d597-43aa-d831-dc27218e3a35"
      },
      "outputs": [
        {
          "output_type": "stream",
          "name": "stdout",
          "text": [
            "['Spending_Score_1', 0.21692953]\n",
            "['Profession_5', 0.10265682]\n",
            "['Age', 0.09128228]\n",
            "['Graduated', 0.07122505]\n",
            "['Profession_1', 0.06546731]\n",
            "['Profession_9', 0.052575573]\n",
            "['Spending_Score_2', 0.044738766]\n",
            "['Profession_4', 0.03525574]\n",
            "['Var_1_1', 0.030428218]\n",
            "['Ever_Married', 0.030411763]\n",
            "['Profession_2', 0.026029663]\n",
            "['Var_1_2', 0.021766126]\n",
            "['Profession_7', 0.021691551]\n",
            "['Var_1_5', 0.021510277]\n",
            "['Family_Size', 0.021445336]\n",
            "['Gender', 0.019241342]\n",
            "['Var_1_7', 0.017203564]\n",
            "['Spending_Score_3', 0.01658984]\n",
            "['Work_Experience', 0.016531507]\n",
            "['Profession_6', 0.01575708]\n",
            "['Var_1_3', 0.0140555985]\n",
            "['Profession_8', 0.01382838]\n",
            "['Var_1_6', 0.013088797]\n",
            "['Var_1_4', 0.010474011]\n",
            "['Profession_3', 0.0098159155]\n"
          ]
        }
      ],
      "source": [
        "sorted_idx = np.argsort(model.feature_importances_)[::-1]\n",
        "for index in sorted_idx:\n",
        "    print([X_train.columns[index], model.feature_importances_[index]]) "
      ]
    },
    {
      "cell_type": "code",
      "execution_count": 27,
      "id": "HH2tBVU0ORiq",
      "metadata": {
        "colab": {
          "base_uri": "https://localhost:8080/",
          "height": 295
        },
        "id": "HH2tBVU0ORiq",
        "outputId": "2314071f-818b-41bd-e6f1-d226b4134ec0"
      },
      "outputs": [
        {
          "output_type": "display_data",
          "data": {
            "text/plain": [
              "<Figure size 432x288 with 1 Axes>"
            ],
            "image/png": "[encoded data removed]"
          },
          "metadata": {
            "needs_background": "light"
          }
        }
      ],
      "source": [
        "plot_importance(model, max_num_features = 25,  )\n",
        "\n",
        "plt.show()"
      ]
    },
    {
      "cell_type": "markdown",
      "id": "t47tEOJ-B5ga",
      "metadata": {
        "id": "t47tEOJ-B5ga"
      },
      "source": [
        "Permutation Feature Importance \n"
      ]
    },
    {
      "cell_type": "code",
      "execution_count": 28,
      "id": "RtJT-hnVQnJp",
      "metadata": {
        "colab": {
          "base_uri": "https://localhost:8080/"
        },
        "id": "RtJT-hnVQnJp",
        "outputId": "a36a6c82-fe2b-4fe0-8cd7-a3def16b77c2"
      },
      "outputs": [
        {
          "output_type": "execute_result",
          "data": {
            "text/plain": [
              "XGBClassifier(objective='multi:softprob')"
            ]
          },
          "metadata": {},
          "execution_count": 28
        }
      ],
      "source": [
        "model_1 = XGBClassifier(n_estimators = 100)\n",
        "model_1.fit(X_train, y_train)"
      ]
    },
    {
      "cell_type": "code",
      "execution_count": 29,
      "id": "xU9JRy0lQnH5",
      "metadata": {
        "id": "xU9JRy0lQnH5"
      },
      "outputs": [],
      "source": [
        "perm_importance = permutation_importance(model_1, X_test, y_test)"
      ]
    },
    {
      "cell_type": "code",
      "execution_count": 30,
      "id": "t60pHix5Suny",
      "metadata": {
        "colab": {
          "base_uri": "https://localhost:8080/"
        },
        "id": "t60pHix5Suny",
        "outputId": "3ecf909a-3bf2-4dc9-cc9a-9ca5147f0ad9"
      },
      "outputs": [
        {
          "output_type": "stream",
          "name": "stdout",
          "text": [
            "['Var_1_1', -0.0010143198090692197]\n",
            "['Var_1_6', -0.0004773269689737347]\n",
            "['Var_1_5', 0.0]\n",
            "['Profession_8', 0.0]\n",
            "['Var_1_3', 0.0002983293556085842]\n",
            "['Spending_Score_3', 0.0002983293556085842]\n",
            "['Var_1_7', 0.00035799522673030104]\n",
            "['Ever_Married', 0.0006563245823389075]\n",
            "['Profession_3', 0.0007159904534606131]\n",
            "['Gender', 0.0008949880668257748]\n",
            "['Profession_7', 0.001252983293556087]\n",
            "['Var_1_4', 0.0013126491646778039]\n",
            "['Profession_6', 0.001312649164677815]\n",
            "['Var_1_2', 0.0017899761336515497]\n",
            "['Profession_2', 0.0031622911694510814]\n",
            "['Work_Experience', 0.00417661097852029]\n",
            "['Profession_4', 0.004236276849642007]\n",
            "['Profession_9', 0.004295942720763735]\n",
            "['Profession_1', 0.007756563245823389]\n",
            "['Spending_Score_2', 0.00835322195704058]\n",
            "['Family_Size', 0.00871121718377088]\n",
            "['Graduated', 0.012768496420047737]\n",
            "['Profession_5', 0.026789976133651538]\n",
            "['Spending_Score_1', 0.03741050119331742]\n",
            "['Age', 0.07219570405727924]\n"
          ]
        }
      ],
      "source": [
        "sorted_idx = perm_importance.importances_mean.argsort()\n",
        "for index in sorted_idx:\n",
        "    print([X_train.columns[index], perm_importance.importances_mean[index]]) "
      ]
    },
    {
      "cell_type": "code",
      "execution_count": 31,
      "id": "2XjLe0GaBXEQ",
      "metadata": {
        "colab": {
          "base_uri": "https://localhost:8080/",
          "height": 408
        },
        "id": "2XjLe0GaBXEQ",
        "outputId": "38f2da4f-e889-4902-e840-6123ae92958f"
      },
      "outputs": [
        {
          "output_type": "execute_result",
          "data": {
            "text/plain": [
              "Text(0.5, 1.0, 'Permutation Importance')"
            ]
          },
          "metadata": {},
          "execution_count": 31
        },
        {
          "output_type": "display_data",
          "data": {
            "text/plain": [
              "<Figure size 864x432 with 1 Axes>"
            ],
            "image/png": "[encoded data removed]"
          },
          "metadata": {
            "needs_background": "light"
          }
        }
      ],
      "source": [
        "perm_importance = permutation_importance(model_1, X_test, y_test)\n",
        "sorted_idx = perm_importance.importances_mean.argsort()\n",
        "fig = plt.figure(figsize=(12, 6))\n",
        "plt.barh(range(len(sorted_idx)), perm_importance.importances_mean[sorted_idx], align='center')\n",
        "plt.yticks(range(len(sorted_idx)), np.array(X_test.columns)[sorted_idx])\n",
        "plt.title('Permutation Importance')"
      ]
    },
    {
      "cell_type": "markdown",
      "id": "ArQvv5oDFYeG",
      "metadata": {
        "id": "ArQvv5oDFYeG"
      },
      "source": [
        "Shap\n"
      ]
    },
    {
      "cell_type": "code",
      "execution_count": 32,
      "id": "iirHqYf-B8l2",
      "metadata": {
        "id": "iirHqYf-B8l2"
      },
      "outputs": [],
      "source": [
        "explainer = shap.TreeExplainer(model)\n",
        "shap_values = explainer.shap_values(X_test)"
      ]
    },
    {
      "cell_type": "code",
      "execution_count": 33,
      "id": "Vq5Ks_LzB8jQ",
      "metadata": {
        "colab": {
          "base_uri": "https://localhost:8080/",
          "height": 581
        },
        "id": "Vq5Ks_LzB8jQ",
        "outputId": "ff271796-0adf-48aa-e4ec-8c2ceca53d56"
      },
      "outputs": [
        {
          "output_type": "display_data",
          "data": {
            "text/plain": [
              "<Figure size 576x684 with 1 Axes>"
            ],
            "image/png": "[encoded data removed]"
          },
          "metadata": {
            "needs_background": "light"
          }
        }
      ],
      "source": [
        "shap.summary_plot(shap_values, X_test, plot_type=\"bar\")"
      ]
    },
    {
      "cell_type": "code",
      "execution_count": 34,
      "id": "CLYDUhKIPNnZ",
      "metadata": {
        "id": "CLYDUhKIPNnZ"
      },
      "outputs": [],
      "source": [
        "features_imp = ['Age', 'Spending_Score_1', 'Profession_5', 'Graduated', 'Profession_1', 'Family_Size', 'Spending_Score_2', 'Work_Experience', 'Profession_4', 'Var_1_1', 'Var_1_2', 'Profession_9', 'Profession_2', 'Gender', 'Ever_Married', 'Profession_6']"
      ]
    },
    {
      "cell_type": "code",
      "execution_count": 35,
      "id": "zO09frIZR_jR",
      "metadata": {
        "colab": {
          "base_uri": "https://localhost:8080/"
        },
        "id": "zO09frIZR_jR",
        "outputId": "0b4325c5-340f-4ad6-e30a-526870e3b77d"
      },
      "outputs": [
        {
          "output_type": "execute_result",
          "data": {
            "text/plain": [
              "['Age',\n",
              " 'Spending_Score_1',\n",
              " 'Profession_5',\n",
              " 'Graduated',\n",
              " 'Profession_1',\n",
              " 'Family_Size',\n",
              " 'Spending_Score_2',\n",
              " 'Work_Experience',\n",
              " 'Profession_4',\n",
              " 'Var_1_1',\n",
              " 'Var_1_2',\n",
              " 'Profession_9',\n",
              " 'Profession_2',\n",
              " 'Gender',\n",
              " 'Ever_Married',\n",
              " 'Profession_6']"
            ]
          },
          "metadata": {},
          "execution_count": 35
        }
      ],
      "source": [
        "features_imp"
      ]
    },
    {
      "cell_type": "code",
      "execution_count": 36,
      "id": "1rMADo4HPNg4",
      "metadata": {
        "id": "1rMADo4HPNg4"
      },
      "outputs": [],
      "source": [
        "train_imp = X_train[features_imp]\n",
        "test_imp = X_test[features_imp]"
      ]
    },
    {
      "cell_type": "code",
      "execution_count": 37,
      "id": "EV1KPOvgUP_2",
      "metadata": {
        "id": "EV1KPOvgUP_2"
      },
      "outputs": [],
      "source": [
        "# Saving train dataset \n",
        "train_imp.to_csv('TrainImportantVars.csv', index=False)"
      ]
    },
    {
      "cell_type": "code",
      "execution_count": 38,
      "id": "WTuCbBILUP9M",
      "metadata": {
        "id": "WTuCbBILUP9M"
      },
      "outputs": [],
      "source": [
        "#Saving train dataset \n",
        "test_imp.to_csv('TestImportantVars.csv', index=False)"
      ]
    },
    {
      "cell_type": "code",
      "execution_count": 39,
      "id": "r-HucLpa3O7F",
      "metadata": {
        "colab": {
          "base_uri": "https://localhost:8080/"
        },
        "id": "r-HucLpa3O7F",
        "outputId": "956bac02-37e8-414a-ce19-71cd8db9dfa5"
      },
      "outputs": [
        {
          "output_type": "execute_result",
          "data": {
            "text/plain": [
              "(6805,)"
            ]
          },
          "metadata": {},
          "execution_count": 39
        }
      ],
      "source": [
        "y_train.shape"
      ]
    },
    {
      "cell_type": "code",
      "execution_count": 40,
      "id": "DlScqrMvFkzt",
      "metadata": {
        "id": "DlScqrMvFkzt"
      },
      "outputs": [],
      "source": [
        "X_train = train_imp\n",
        "X_test = test_imp"
      ]
    },
    {
      "cell_type": "markdown",
      "id": "O02ZPaiFYrqY",
      "metadata": {
        "id": "O02ZPaiFYrqY"
      },
      "source": [
        "### Parameter Tunning"
      ]
    },
    {
      "cell_type": "code",
      "execution_count": 41,
      "id": "zakPjrccc-pp",
      "metadata": {
        "id": "zakPjrccc-pp"
      },
      "outputs": [],
      "source": [
        "results_xgb = {'learning_rate':[], 'max_depth':[], 'n_estimates':[], 'score_train':[], 'score_test': []}"
      ]
    },
    {
      "cell_type": "code",
      "execution_count": 42,
      "id": "gdYwhVhHc-nZ",
      "metadata": {
        "colab": {
          "base_uri": "https://localhost:8080/",
          "height": 383
        },
        "id": "gdYwhVhHc-nZ",
        "outputId": "34ca14f4-95a9-4b4d-f245-58bf3fb17d54"
      },
      "outputs": [
        {
          "output_type": "stream",
          "name": "stdout",
          "text": [
            "learning rate:  0.1  max_depth:  1 n_estimates:  500\n"
          ]
        },
        {
          "output_type": "error",
          "ename": "ValueError",
          "evalue": "ignored",
          "traceback": [
            "\u001b[0;31m---------------------------------------------------------------------------\u001b[0m",
            "\u001b[0;31mValueError\u001b[0m                                Traceback (most recent call last)",
            "\u001b[0;32m<ipython-input-42-99b675d1ae52>\u001b[0m in \u001b[0;36m<module>\u001b[0;34m()\u001b[0m\n\u001b[1;32m     14\u001b[0m             \u001b[0mY_xgb_test\u001b[0m \u001b[0;34m=\u001b[0m \u001b[0mmodel\u001b[0m\u001b[0;34m.\u001b[0m\u001b[0mpredict_proba\u001b[0m\u001b[0;34m(\u001b[0m\u001b[0mX_test\u001b[0m\u001b[0;34m)\u001b[0m\u001b[0;34m[\u001b[0m\u001b[0;34m:\u001b[0m\u001b[0;34m,\u001b[0m\u001b[0;36m1\u001b[0m\u001b[0;34m]\u001b[0m\u001b[0;34m\u001b[0m\u001b[0;34m\u001b[0m\u001b[0m\n\u001b[1;32m     15\u001b[0m \u001b[0;34m\u001b[0m\u001b[0m\n\u001b[0;32m---> 16\u001b[0;31m             \u001b[0mresults_xgb\u001b[0m\u001b[0;34m[\u001b[0m\u001b[0;34m'score_train'\u001b[0m\u001b[0;34m]\u001b[0m\u001b[0;34m.\u001b[0m\u001b[0mappend\u001b[0m\u001b[0;34m(\u001b[0m\u001b[0mroc_auc_score\u001b[0m\u001b[0;34m(\u001b[0m\u001b[0my_train\u001b[0m\u001b[0;34m,\u001b[0m \u001b[0mY_xgb_train\u001b[0m\u001b[0;34m)\u001b[0m\u001b[0;34m)\u001b[0m\u001b[0;34m\u001b[0m\u001b[0;34m\u001b[0m\u001b[0m\n\u001b[0m\u001b[1;32m     17\u001b[0m             \u001b[0mresults_xgb\u001b[0m\u001b[0;34m[\u001b[0m\u001b[0;34m'score_test'\u001b[0m\u001b[0;34m]\u001b[0m\u001b[0;34m.\u001b[0m\u001b[0mappend\u001b[0m\u001b[0;34m(\u001b[0m\u001b[0mroc_auc_score\u001b[0m\u001b[0;34m(\u001b[0m\u001b[0my_test\u001b[0m\u001b[0;34m,\u001b[0m \u001b[0mY_xgb_test\u001b[0m\u001b[0;34m)\u001b[0m\u001b[0;34m)\u001b[0m\u001b[0;34m\u001b[0m\u001b[0;34m\u001b[0m\u001b[0m\n",
            "\u001b[0;32m/usr/local/lib/python3.7/dist-packages/sklearn/metrics/_ranking.py\u001b[0m in \u001b[0;36mroc_auc_score\u001b[0;34m(y_true, y_score, average, sample_weight, max_fpr, multi_class, labels)\u001b[0m\n\u001b[1;32m    558\u001b[0m             )\n\u001b[1;32m    559\u001b[0m         \u001b[0;32mif\u001b[0m \u001b[0mmulti_class\u001b[0m \u001b[0;34m==\u001b[0m \u001b[0;34m\"raise\"\u001b[0m\u001b[0;34m:\u001b[0m\u001b[0;34m\u001b[0m\u001b[0;34m\u001b[0m\u001b[0m\n\u001b[0;32m--> 560\u001b[0;31m             \u001b[0;32mraise\u001b[0m \u001b[0mValueError\u001b[0m\u001b[0;34m(\u001b[0m\u001b[0;34m\"multi_class must be in ('ovo', 'ovr')\"\u001b[0m\u001b[0;34m)\u001b[0m\u001b[0;34m\u001b[0m\u001b[0;34m\u001b[0m\u001b[0m\n\u001b[0m\u001b[1;32m    561\u001b[0m         return _multiclass_roc_auc_score(\n\u001b[1;32m    562\u001b[0m             \u001b[0my_true\u001b[0m\u001b[0;34m,\u001b[0m \u001b[0my_score\u001b[0m\u001b[0;34m,\u001b[0m \u001b[0mlabels\u001b[0m\u001b[0;34m,\u001b[0m \u001b[0mmulti_class\u001b[0m\u001b[0;34m,\u001b[0m \u001b[0maverage\u001b[0m\u001b[0;34m,\u001b[0m \u001b[0msample_weight\u001b[0m\u001b[0;34m\u001b[0m\u001b[0;34m\u001b[0m\u001b[0m\n",
            "\u001b[0;31mValueError\u001b[0m: multi_class must be in ('ovo', 'ovr')"
          ]
        }
      ],
      "source": [
        "results = []\n",
        "for i in np.arange(0.1, 0.9, 0.2):\n",
        "    for j in range(1, 10, 2):\n",
        "        for k in range (500, 2000, 500):\n",
        "            print('learning rate: ', i, \" max_depth: \", j, \"n_estimates: \", k)\n",
        "            model = XGBClassifier(learning_rate=i, max_depth=j, n_estimators=k, random_state=0)\n",
        "            model.fit(X_train, y_train, eval_metric='auc', verbose=30)\n",
        "            results_xgb['learning_rate'].append(i)\n",
        "            results_xgb['max_depth'].append(j)\n",
        "            results_xgb['n_estimates'].append(k)\n",
        "\n",
        "\n",
        "            Y_xgb_train = model.predict_proba(X_train)[:,1]\n",
        "            Y_xgb_test = model.predict_proba(X_test)[:,1]\n",
        "\n",
        "            results_xgb['score_train'].append(roc_auc_score(y_train, Y_xgb_train))\n",
        "            results_xgb['score_test'].append(roc_auc_score(y_test, Y_xgb_test)) "
      ]
    },
    {
      "cell_type": "code",
      "execution_count": 43,
      "id": "1YSVeGrPc-kd",
      "metadata": {
        "id": "1YSVeGrPc-kd",
        "colab": {
          "base_uri": "https://localhost:8080/",
          "height": 335
        },
        "outputId": "1c1167cf-dd9d-46a2-8a26-cf13ad1e6e0a"
      },
      "outputs": [
        {
          "output_type": "error",
          "ename": "ValueError",
          "evalue": "ignored",
          "traceback": [
            "\u001b[0;31m---------------------------------------------------------------------------\u001b[0m",
            "\u001b[0;31mValueError\u001b[0m                                Traceback (most recent call last)",
            "\u001b[0;32m<ipython-input-43-0d30783bf58b>\u001b[0m in \u001b[0;36m<module>\u001b[0;34m()\u001b[0m\n\u001b[0;32m----> 1\u001b[0;31m \u001b[0mresults_xgb\u001b[0m \u001b[0;34m=\u001b[0m \u001b[0mpd\u001b[0m\u001b[0;34m.\u001b[0m\u001b[0mDataFrame\u001b[0m\u001b[0;34m.\u001b[0m\u001b[0mfrom_dict\u001b[0m\u001b[0;34m(\u001b[0m\u001b[0mresults_xgb\u001b[0m\u001b[0;34m)\u001b[0m\u001b[0;34m\u001b[0m\u001b[0;34m\u001b[0m\u001b[0m\n\u001b[0m\u001b[1;32m      2\u001b[0m \u001b[0mresults_xgb\u001b[0m\u001b[0;34m[\u001b[0m\u001b[0mresults_xgb\u001b[0m\u001b[0;34m[\u001b[0m\u001b[0;34m'score_test'\u001b[0m\u001b[0;34m]\u001b[0m \u001b[0;34m==\u001b[0m \u001b[0mmax\u001b[0m\u001b[0;34m(\u001b[0m\u001b[0mresults_xgb\u001b[0m\u001b[0;34m[\u001b[0m\u001b[0;34m'score_test'\u001b[0m\u001b[0;34m]\u001b[0m\u001b[0;34m)\u001b[0m\u001b[0;34m]\u001b[0m\u001b[0;34m\u001b[0m\u001b[0;34m\u001b[0m\u001b[0m\n",
            "\u001b[0;32m/usr/local/lib/python3.7/dist-packages/pandas/core/frame.py\u001b[0m in \u001b[0;36mfrom_dict\u001b[0;34m(cls, data, orient, dtype, columns)\u001b[0m\n\u001b[1;32m   1591\u001b[0m             \u001b[0;32mraise\u001b[0m \u001b[0mValueError\u001b[0m\u001b[0;34m(\u001b[0m\u001b[0;34m\"only recognize index or columns for orient\"\u001b[0m\u001b[0;34m)\u001b[0m\u001b[0;34m\u001b[0m\u001b[0;34m\u001b[0m\u001b[0m\n\u001b[1;32m   1592\u001b[0m \u001b[0;34m\u001b[0m\u001b[0m\n\u001b[0;32m-> 1593\u001b[0;31m         \u001b[0;32mreturn\u001b[0m \u001b[0mcls\u001b[0m\u001b[0;34m(\u001b[0m\u001b[0mdata\u001b[0m\u001b[0;34m,\u001b[0m \u001b[0mindex\u001b[0m\u001b[0;34m=\u001b[0m\u001b[0mindex\u001b[0m\u001b[0;34m,\u001b[0m \u001b[0mcolumns\u001b[0m\u001b[0;34m=\u001b[0m\u001b[0mcolumns\u001b[0m\u001b[0;34m,\u001b[0m \u001b[0mdtype\u001b[0m\u001b[0;34m=\u001b[0m\u001b[0mdtype\u001b[0m\u001b[0;34m)\u001b[0m\u001b[0;34m\u001b[0m\u001b[0;34m\u001b[0m\u001b[0m\n\u001b[0m\u001b[1;32m   1594\u001b[0m \u001b[0;34m\u001b[0m\u001b[0m\n\u001b[1;32m   1595\u001b[0m     def to_numpy(\n",
            "\u001b[0;32m/usr/local/lib/python3.7/dist-packages/pandas/core/frame.py\u001b[0m in \u001b[0;36m__init__\u001b[0;34m(self, data, index, columns, dtype, copy)\u001b[0m\n\u001b[1;32m    612\u001b[0m         \u001b[0;32melif\u001b[0m \u001b[0misinstance\u001b[0m\u001b[0;34m(\u001b[0m\u001b[0mdata\u001b[0m\u001b[0;34m,\u001b[0m \u001b[0mdict\u001b[0m\u001b[0;34m)\u001b[0m\u001b[0;34m:\u001b[0m\u001b[0;34m\u001b[0m\u001b[0;34m\u001b[0m\u001b[0m\n\u001b[1;32m    613\u001b[0m             \u001b[0;31m# GH#38939 de facto copy defaults to False only in non-dict cases\u001b[0m\u001b[0;34m\u001b[0m\u001b[0;34m\u001b[0m\u001b[0;34m\u001b[0m\u001b[0m\n\u001b[0;32m--> 614\u001b[0;31m             \u001b[0mmgr\u001b[0m \u001b[0;34m=\u001b[0m \u001b[0mdict_to_mgr\u001b[0m\u001b[0;34m(\u001b[0m\u001b[0mdata\u001b[0m\u001b[0;34m,\u001b[0m \u001b[0mindex\u001b[0m\u001b[0;34m,\u001b[0m \u001b[0mcolumns\u001b[0m\u001b[0;34m,\u001b[0m \u001b[0mdtype\u001b[0m\u001b[0;34m=\u001b[0m\u001b[0mdtype\u001b[0m\u001b[0;34m,\u001b[0m \u001b[0mcopy\u001b[0m\u001b[0;34m=\u001b[0m\u001b[0mcopy\u001b[0m\u001b[0;34m,\u001b[0m \u001b[0mtyp\u001b[0m\u001b[0;34m=\u001b[0m\u001b[0mmanager\u001b[0m\u001b[0;34m)\u001b[0m\u001b[0;34m\u001b[0m\u001b[0;34m\u001b[0m\u001b[0m\n\u001b[0m\u001b[1;32m    615\u001b[0m         \u001b[0;32melif\u001b[0m \u001b[0misinstance\u001b[0m\u001b[0;34m(\u001b[0m\u001b[0mdata\u001b[0m\u001b[0;34m,\u001b[0m \u001b[0mma\u001b[0m\u001b[0;34m.\u001b[0m\u001b[0mMaskedArray\u001b[0m\u001b[0;34m)\u001b[0m\u001b[0;34m:\u001b[0m\u001b[0;34m\u001b[0m\u001b[0;34m\u001b[0m\u001b[0m\n\u001b[1;32m    616\u001b[0m             \u001b[0;32mimport\u001b[0m \u001b[0mnumpy\u001b[0m\u001b[0;34m.\u001b[0m\u001b[0mma\u001b[0m\u001b[0;34m.\u001b[0m\u001b[0mmrecords\u001b[0m \u001b[0;32mas\u001b[0m \u001b[0mmrecords\u001b[0m\u001b[0;34m\u001b[0m\u001b[0;34m\u001b[0m\u001b[0m\n",
            "\u001b[0;32m/usr/local/lib/python3.7/dist-packages/pandas/core/internals/construction.py\u001b[0m in \u001b[0;36mdict_to_mgr\u001b[0;34m(data, index, columns, dtype, typ, copy)\u001b[0m\n\u001b[1;32m    463\u001b[0m \u001b[0;34m\u001b[0m\u001b[0m\n\u001b[1;32m    464\u001b[0m     return arrays_to_mgr(\n\u001b[0;32m--> 465\u001b[0;31m         \u001b[0marrays\u001b[0m\u001b[0;34m,\u001b[0m \u001b[0mdata_names\u001b[0m\u001b[0;34m,\u001b[0m \u001b[0mindex\u001b[0m\u001b[0;34m,\u001b[0m \u001b[0mcolumns\u001b[0m\u001b[0;34m,\u001b[0m \u001b[0mdtype\u001b[0m\u001b[0;34m=\u001b[0m\u001b[0mdtype\u001b[0m\u001b[0;34m,\u001b[0m \u001b[0mtyp\u001b[0m\u001b[0;34m=\u001b[0m\u001b[0mtyp\u001b[0m\u001b[0;34m,\u001b[0m \u001b[0mconsolidate\u001b[0m\u001b[0;34m=\u001b[0m\u001b[0mcopy\u001b[0m\u001b[0;34m\u001b[0m\u001b[0;34m\u001b[0m\u001b[0m\n\u001b[0m\u001b[1;32m    466\u001b[0m     )\n\u001b[1;32m    467\u001b[0m \u001b[0;34m\u001b[0m\u001b[0m\n",
            "\u001b[0;32m/usr/local/lib/python3.7/dist-packages/pandas/core/internals/construction.py\u001b[0m in \u001b[0;36marrays_to_mgr\u001b[0;34m(arrays, arr_names, index, columns, dtype, verify_integrity, typ, consolidate)\u001b[0m\n\u001b[1;32m    117\u001b[0m         \u001b[0;31m# figure out the index, if necessary\u001b[0m\u001b[0;34m\u001b[0m\u001b[0;34m\u001b[0m\u001b[0;34m\u001b[0m\u001b[0m\n\u001b[1;32m    118\u001b[0m         \u001b[0;32mif\u001b[0m \u001b[0mindex\u001b[0m \u001b[0;32mis\u001b[0m \u001b[0;32mNone\u001b[0m\u001b[0;34m:\u001b[0m\u001b[0;34m\u001b[0m\u001b[0;34m\u001b[0m\u001b[0m\n\u001b[0;32m--> 119\u001b[0;31m             \u001b[0mindex\u001b[0m \u001b[0;34m=\u001b[0m \u001b[0m_extract_index\u001b[0m\u001b[0;34m(\u001b[0m\u001b[0marrays\u001b[0m\u001b[0;34m)\u001b[0m\u001b[0;34m\u001b[0m\u001b[0;34m\u001b[0m\u001b[0m\n\u001b[0m\u001b[1;32m    120\u001b[0m         \u001b[0;32melse\u001b[0m\u001b[0;34m:\u001b[0m\u001b[0;34m\u001b[0m\u001b[0;34m\u001b[0m\u001b[0m\n\u001b[1;32m    121\u001b[0m             \u001b[0mindex\u001b[0m \u001b[0;34m=\u001b[0m \u001b[0mensure_index\u001b[0m\u001b[0;34m(\u001b[0m\u001b[0mindex\u001b[0m\u001b[0;34m)\u001b[0m\u001b[0;34m\u001b[0m\u001b[0;34m\u001b[0m\u001b[0m\n",
            "\u001b[0;32m/usr/local/lib/python3.7/dist-packages/pandas/core/internals/construction.py\u001b[0m in \u001b[0;36m_extract_index\u001b[0;34m(data)\u001b[0m\n\u001b[1;32m    633\u001b[0m             \u001b[0mlengths\u001b[0m \u001b[0;34m=\u001b[0m \u001b[0mlist\u001b[0m\u001b[0;34m(\u001b[0m\u001b[0mset\u001b[0m\u001b[0;34m(\u001b[0m\u001b[0mraw_lengths\u001b[0m\u001b[0;34m)\u001b[0m\u001b[0;34m)\u001b[0m\u001b[0;34m\u001b[0m\u001b[0;34m\u001b[0m\u001b[0m\n\u001b[1;32m    634\u001b[0m             \u001b[0;32mif\u001b[0m \u001b[0mlen\u001b[0m\u001b[0;34m(\u001b[0m\u001b[0mlengths\u001b[0m\u001b[0;34m)\u001b[0m \u001b[0;34m>\u001b[0m \u001b[0;36m1\u001b[0m\u001b[0;34m:\u001b[0m\u001b[0;34m\u001b[0m\u001b[0;34m\u001b[0m\u001b[0m\n\u001b[0;32m--> 635\u001b[0;31m                 \u001b[0;32mraise\u001b[0m \u001b[0mValueError\u001b[0m\u001b[0;34m(\u001b[0m\u001b[0;34m\"All arrays must be of the same length\"\u001b[0m\u001b[0;34m)\u001b[0m\u001b[0;34m\u001b[0m\u001b[0;34m\u001b[0m\u001b[0m\n\u001b[0m\u001b[1;32m    636\u001b[0m \u001b[0;34m\u001b[0m\u001b[0m\n\u001b[1;32m    637\u001b[0m             \u001b[0;32mif\u001b[0m \u001b[0mhave_dicts\u001b[0m\u001b[0;34m:\u001b[0m\u001b[0;34m\u001b[0m\u001b[0;34m\u001b[0m\u001b[0m\n",
            "\u001b[0;31mValueError\u001b[0m: All arrays must be of the same length"
          ]
        }
      ],
      "source": [
        "results_xgb = pd.DataFrame.from_dict(results_xgb)\n",
        "results_xgb[results_xgb['score_test'] == max(results_xgb['score_test'])]"
      ]
    },
    {
      "cell_type": "code",
      "execution_count": 44,
      "id": "FE8gPzJC2ZUy",
      "metadata": {
        "id": "FE8gPzJC2ZUy"
      },
      "outputs": [],
      "source": [
        "data_train = pd.read_csv(\"Train.csv\", sep=\",\")\n",
        "data_test = pd.read_csv(\"Test.csv\", sep=\",\")\n",
        "data = pd.concat([data_train, data_test])"
      ]
    },
    {
      "cell_type": "code",
      "execution_count": 45,
      "id": "E3ZTDePa2ZSk",
      "metadata": {
        "colab": {
          "base_uri": "https://localhost:8080/"
        },
        "id": "E3ZTDePa2ZSk",
        "outputId": "ff69ac1a-3980-449c-e01c-8e30e67cafae"
      },
      "outputs": [
        {
          "output_type": "execute_result",
          "data": {
            "text/plain": [
              "ID                 0\n",
              "Gender             0\n",
              "Ever_Married       0\n",
              "Age                0\n",
              "Graduated          0\n",
              "Profession         0\n",
              "Work_Experience    0\n",
              "Spending_Score     0\n",
              "Family_Size        0\n",
              "Var_1              0\n",
              "Segmentation       0\n",
              "dtype: int64"
            ]
          },
          "metadata": {},
          "execution_count": 45
        }
      ],
      "source": [
        "data.dropna(axis=0,inplace=True)\n",
        "data.isnull().sum()"
      ]
    },
    {
      "cell_type": "code",
      "execution_count": 46,
      "id": "gecRamRqAaB6",
      "metadata": {
        "id": "gecRamRqAaB6"
      },
      "outputs": [],
      "source": [
        "#Gettting binary form of some columns\n",
        "\n",
        "data[\"Ever_Married\"] = label_binarize(data[\"Ever_Married\"], classes = [\"Yes\", \"No\"])\n",
        "data[\"Graduated\"] = label_binarize(data[\"Graduated\"], classes = [\"Yes\", \"No\"])\n",
        "data[\"Gender\"] = label_binarize(data[\"Gender\"], classes = [\"Male\", \"Female\"])"
      ]
    },
    {
      "cell_type": "code",
      "execution_count": 47,
      "id": "KAQUTpkn2ZQU",
      "metadata": {
        "id": "KAQUTpkn2ZQU"
      },
      "outputs": [],
      "source": [
        "X = data.drop('Segmentation', axis= 1)\n",
        "y = data.Segmentation"
      ]
    },
    {
      "cell_type": "code",
      "execution_count": 48,
      "id": "FY9PJH9b2ZNQ",
      "metadata": {
        "id": "FY9PJH9b2ZNQ"
      },
      "outputs": [],
      "source": [
        "encoder = ce.OneHotEncoder(cols=['Spending_Score', 'Profession', 'Var_1'])\n",
        "encoder.fit(X, y)\n",
        "X_cleaned = encoder.transform(X)"
      ]
    },
    {
      "cell_type": "code",
      "execution_count": 49,
      "id": "g88sFMYv2ZKX",
      "metadata": {
        "id": "g88sFMYv2ZKX"
      },
      "outputs": [],
      "source": [
        "label_encoder = LabelEncoder()\n",
        "y = label_encoder.fit_transform(y)\n"
      ]
    },
    {
      "cell_type": "code",
      "execution_count": 50,
      "id": "rhLtFpMY2ydG",
      "metadata": {
        "id": "rhLtFpMY2ydG"
      },
      "outputs": [],
      "source": [
        "X_train, X_test, y_train, y_test = train_test_split(X_cleaned, y, test_size= 0.33, random_state=0)"
      ]
    },
    {
      "cell_type": "code",
      "execution_count": 51,
      "id": "mYAt7bVOc-PA",
      "metadata": {
        "colab": {
          "base_uri": "https://localhost:8080/"
        },
        "id": "mYAt7bVOc-PA",
        "outputId": "6e740e1b-6eb7-4bf4-eaca-7807b13b5b8e"
      },
      "outputs": [
        {
          "output_type": "execute_result",
          "data": {
            "text/plain": [
              "0.8976296805221573"
            ]
          },
          "metadata": {},
          "execution_count": 51
        }
      ],
      "source": [
        "xgb_cl = XGBClassifier(\n",
        "    learning_rate = 0.1,\n",
        "    max_depth = 5,\n",
        "    n_estimators= 1000,\n",
        "    min_child_weight = 1,\n",
        "    gamma = 0,\n",
        "    subsample = 0.8)\n",
        "\n",
        "#Fit\n",
        "xgb_cl.fit(X_cleaned, y)\n",
        "\n",
        "#Predict\n",
        "preds = xgb_cl.predict(X_test)\n",
        "\n",
        "#Score \n",
        "accuracy_score(y_test, preds)"
      ]
    },
    {
      "cell_type": "code",
      "execution_count": 52,
      "id": "rZcyJLIG5E9q",
      "metadata": {
        "id": "rZcyJLIG5E9q"
      },
      "outputs": [],
      "source": [
        "data_train = pd.read_csv(\"Train.csv\", sep=\",\")\n",
        "data_test = pd.read_csv(\"Test.csv\", sep=\",\")\n",
        "data_ = pd.concat([data_train, data_test])"
      ]
    },
    {
      "cell_type": "code",
      "execution_count": 53,
      "id": "uoJWInYH5VmK",
      "metadata": {
        "colab": {
          "base_uri": "https://localhost:8080/"
        },
        "id": "uoJWInYH5VmK",
        "outputId": "98448713-ea0e-473f-82f1-3ae0c1206d5b"
      },
      "outputs": [
        {
          "output_type": "execute_result",
          "data": {
            "text/plain": [
              "ID                 0\n",
              "Gender             0\n",
              "Ever_Married       0\n",
              "Age                0\n",
              "Graduated          0\n",
              "Profession         0\n",
              "Work_Experience    0\n",
              "Spending_Score     0\n",
              "Family_Size        0\n",
              "Var_1              0\n",
              "Segmentation       0\n",
              "dtype: int64"
            ]
          },
          "metadata": {},
          "execution_count": 53
        }
      ],
      "source": [
        "#Filling nans with the mean \n",
        "mean_value_1 = data_['Family_Size'].mean()\n",
        "data_['Family_Size'].fillna(value = mean_value_1,  inplace=True)\n",
        "\n",
        "#Filling nans with the mean \n",
        "mean_value_2 = data_['Work_Experience'].mean()\n",
        "data_['Work_Experience'].fillna(value = mean_value_2,  inplace=True)\n",
        "\n",
        "#Dropping all nans as they are not numeric and cant be replaced by nans or 0s\n",
        "data_.dropna(axis=0,inplace=True)\n",
        "data_.isnull().sum()"
      ]
    },
    {
      "cell_type": "code",
      "execution_count": 54,
      "id": "LfZa3pYs5ma_",
      "metadata": {
        "id": "LfZa3pYs5ma_"
      },
      "outputs": [],
      "source": [
        "data_[\"Ever_Married\"] = label_binarize(data_[\"Ever_Married\"], classes = [\"Yes\", \"No\"])\n",
        "data_[\"Graduated\"] = label_binarize(data_[\"Graduated\"], classes = [\"Yes\", \"No\"])\n",
        "data_[\"Gender\"] = label_binarize(data_[\"Gender\"], classes = [\"Male\", \"Female\"])\n"
      ]
    },
    {
      "cell_type": "code",
      "execution_count": 55,
      "id": "IHeHwjzi5wOU",
      "metadata": {
        "id": "IHeHwjzi5wOU"
      },
      "outputs": [],
      "source": [
        "X = data_.drop('Segmentation', axis= 1)\n",
        "y = data_.Segmentation"
      ]
    },
    {
      "cell_type": "code",
      "execution_count": 56,
      "id": "tLxd0z0F5VkP",
      "metadata": {
        "id": "tLxd0z0F5VkP"
      },
      "outputs": [],
      "source": [
        "encoder = ce.OneHotEncoder(cols=['Spending_Score', 'Profession', 'Var_1'])\n",
        "encoder.fit(X, y)\n",
        "X_cleaned = encoder.transform(X)\n"
      ]
    },
    {
      "cell_type": "code",
      "execution_count": 57,
      "id": "ceIK0PSI5ViJ",
      "metadata": {
        "id": "ceIK0PSI5ViJ"
      },
      "outputs": [],
      "source": [
        "label_encoder = LabelEncoder()\n",
        "y = label_encoder.fit_transform(y)\n"
      ]
    },
    {
      "cell_type": "code",
      "execution_count": 58,
      "id": "47A_tLwF5VgR",
      "metadata": {
        "id": "47A_tLwF5VgR"
      },
      "outputs": [],
      "source": [
        "X_train, X_test, y_train, y_test = train_test_split(X_cleaned, y, test_size= 0.33, random_state=0)"
      ]
    },
    {
      "cell_type": "code",
      "execution_count": 59,
      "id": "k3cytc7q5Vc6",
      "metadata": {
        "colab": {
          "base_uri": "https://localhost:8080/"
        },
        "id": "k3cytc7q5Vc6",
        "outputId": "d229e7b3-f140-4cbe-e88f-a8549efae42e"
      },
      "outputs": [
        {
          "output_type": "execute_result",
          "data": {
            "text/plain": [
              "0.877983293556086"
            ]
          },
          "metadata": {},
          "execution_count": 59
        }
      ],
      "source": [
        "xgb_cl = XGBClassifier(\n",
        "    learning_rate = 0.1,\n",
        "    max_depth = 5,\n",
        "    n_estimators= 1000,\n",
        "    min_child_weight = 1,\n",
        "    gamma = 0,\n",
        "    subsample = 0.8)\n",
        "\n",
        "#Fit\n",
        "xgb_cl.fit(X_cleaned, y)\n",
        "\n",
        "#Predict\n",
        "preds = xgb_cl.predict(X_test)\n",
        "\n",
        "#Score \n",
        "accuracy_score(y_test, preds)"
      ]
    },
    {
      "cell_type": "markdown",
      "id": "RgBCkpV9GJ9M",
      "metadata": {
        "id": "RgBCkpV9GJ9M"
      },
      "source": [
        "When i modify the Nan values, in some columns i put the\n",
        "mean and for others just deleted the nans, the accuracy of XGBClassifier gives me 0.877 accuracy meanwhile when i drop all NANs it gives 0,897 accuracy. And also while tried to check for only importance features it gives lower accuracy score. "
      ]
    },
    {
      "cell_type": "markdown",
      "id": "ljT1aJivQRTO",
      "metadata": {
        "id": "ljT1aJivQRTO"
      },
      "source": [
        "## Keras"
      ]
    },
    {
      "cell_type": "code",
      "source": [
        "pip install keras"
      ],
      "metadata": {
        "colab": {
          "base_uri": "https://localhost:8080/"
        },
        "id": "UIAOmE0j0cQk",
        "outputId": "5c025b1f-1846-4f5f-9ed0-a63cadc7ce94"
      },
      "id": "UIAOmE0j0cQk",
      "execution_count": 60,
      "outputs": [
        {
          "output_type": "stream",
          "name": "stdout",
          "text": [
            "Requirement already satisfied: keras in /usr/local/lib/python3.7/dist-packages (2.8.0)\n"
          ]
        }
      ]
    },
    {
      "cell_type": "code",
      "execution_count": 61,
      "id": "H8aLuN-Ligqi",
      "metadata": {
        "id": "H8aLuN-Ligqi"
      },
      "outputs": [],
      "source": [
        "import keras\n",
        "from keras.models import Sequential\n",
        "from keras.layers import Dense\n",
        "from keras.wrappers.scikit_learn import KerasClassifier\n",
        "from keras.utils import np_utils\n",
        "from tensorflow.keras.utils import to_categorical\n"
      ]
    },
    {
      "cell_type": "code",
      "execution_count": 62,
      "id": "PiVo_QZlign8",
      "metadata": {
        "id": "PiVo_QZlign8"
      },
      "outputs": [],
      "source": [
        "data_train = pd.read_csv(\"Train.csv\", sep=\",\")\n",
        "data_test = pd.read_csv(\"Test.csv\", sep=\",\")\n",
        "\n",
        "data = pd.concat([data_train, data_test])"
      ]
    },
    {
      "cell_type": "code",
      "execution_count": 63,
      "id": "Yhs6_doTigla",
      "metadata": {
        "colab": {
          "base_uri": "https://localhost:8080/"
        },
        "id": "Yhs6_doTigla",
        "outputId": "45c4f9d9-1a0a-44d2-81d8-9cbd5ecdbd43"
      },
      "outputs": [
        {
          "output_type": "execute_result",
          "data": {
            "text/plain": [
              "ID                 0\n",
              "Gender             0\n",
              "Ever_Married       0\n",
              "Age                0\n",
              "Graduated          0\n",
              "Profession         0\n",
              "Work_Experience    0\n",
              "Spending_Score     0\n",
              "Family_Size        0\n",
              "Var_1              0\n",
              "Segmentation       0\n",
              "dtype: int64"
            ]
          },
          "metadata": {},
          "execution_count": 63
        }
      ],
      "source": [
        "mean_value_1 = data['Family_Size'].mean()\n",
        "data['Family_Size'].fillna(value = mean_value_1,  inplace=True)\n",
        "\n",
        "mean_value_2 = data['Work_Experience'].mean()\n",
        "data['Work_Experience'].fillna(value = mean_value_2,  inplace=True)\n",
        "\n",
        "data.dropna(axis=0,inplace=True)\n",
        "data.isnull().sum()"
      ]
    },
    {
      "cell_type": "code",
      "execution_count": 64,
      "id": "YBix_OXD1pgW",
      "metadata": {
        "colab": {
          "base_uri": "https://localhost:8080/",
          "height": 487
        },
        "id": "YBix_OXD1pgW",
        "outputId": "555a9a14-3899-47c3-9490-5de00f868b1d"
      },
      "outputs": [
        {
          "output_type": "execute_result",
          "data": {
            "text/plain": [
              "          ID  Gender Ever_Married  Age Graduated     Profession  \\\n",
              "0     462809    Male           No   22        No     Healthcare   \n",
              "1     462643  Female          Yes   38       Yes       Engineer   \n",
              "2     466315  Female          Yes   67       Yes       Engineer   \n",
              "3     461735    Male          Yes   67       Yes         Lawyer   \n",
              "4     462669  Female          Yes   40       Yes  Entertainment   \n",
              "...      ...     ...          ...  ...       ...            ...   \n",
              "2622  467954    Male           No   29        No     Healthcare   \n",
              "2623  467958  Female           No   35       Yes         Doctor   \n",
              "2624  467960  Female           No   53       Yes  Entertainment   \n",
              "2625  467961    Male          Yes   47       Yes      Executive   \n",
              "2626  467968  Female           No   43       Yes     Healthcare   \n",
              "\n",
              "      Work_Experience Spending_Score  Family_Size  Var_1 Segmentation  \n",
              "0            1.000000            Low          4.0  Cat_4            D  \n",
              "1            2.619777        Average          3.0  Cat_4            A  \n",
              "2            1.000000            Low          1.0  Cat_6            B  \n",
              "3            0.000000           High          2.0  Cat_6            B  \n",
              "4            2.619777           High          6.0  Cat_6            A  \n",
              "...               ...            ...          ...    ...          ...  \n",
              "2622         9.000000            Low          4.0  Cat_6            B  \n",
              "2623         1.000000            Low          1.0  Cat_6            A  \n",
              "2624         2.619777            Low          2.0  Cat_6            C  \n",
              "2625         1.000000           High          5.0  Cat_4            C  \n",
              "2626         9.000000            Low          3.0  Cat_7            A  \n",
              "\n",
              "[10157 rows x 11 columns]"
            ],
            "text/html": [
              "\n",
              "  <div id=\"df-2df8a91d-b808-40e2-9be5-d42c0e05a14c\">\n",
              "    <div class=\"colab-df-container\">\n",
              "      <div>\n",
              "<style scoped>\n",
              "    .dataframe tbody tr th:only-of-type {\n",
              "        vertical-align: middle;\n",
              "    }\n",
              "\n",
              "    .dataframe tbody tr th {\n",
              "        vertical-align: top;\n",
              "    }\n",
              "\n",
              "    .dataframe thead th {\n",
              "        text-align: right;\n",
              "    }\n",
              "</style>\n",
              "<table border=\"1\" class=\"dataframe\">\n",
              "  <thead>\n",
              "    <tr style=\"text-align: right;\">\n",
              "      <th></th>\n",
              "      <th>ID</th>\n",
              "      <th>Gender</th>\n",
              "      <th>Ever_Married</th>\n",
              "      <th>Age</th>\n",
              "      <th>Graduated</th>\n",
              "      <th>Profession</th>\n",
              "      <th>Work_Experience</th>\n",
              "      <th>Spending_Score</th>\n",
              "      <th>Family_Size</th>\n",
              "      <th>Var_1</th>\n",
              "      <th>Segmentation</th>\n",
              "    </tr>\n",
              "  </thead>\n",
              "  <tbody>\n",
              "    <tr>\n",
              "      <th>0</th>\n",
              "      <td>462809</td>\n",
              "      <td>Male</td>\n",
              "      <td>No</td>\n",
              "      <td>22</td>\n",
              "      <td>No</td>\n",
              "      <td>Healthcare</td>\n",
              "      <td>1.000000</td>\n",
              "      <td>Low</td>\n",
              "      <td>4.0</td>\n",
              "      <td>Cat_4</td>\n",
              "      <td>D</td>\n",
              "    </tr>\n",
              "    <tr>\n",
              "      <th>1</th>\n",
              "      <td>462643</td>\n",
              "      <td>Female</td>\n",
              "      <td>Yes</td>\n",
              "      <td>38</td>\n",
              "      <td>Yes</td>\n",
              "      <td>Engineer</td>\n",
              "      <td>2.619777</td>\n",
              "      <td>Average</td>\n",
              "      <td>3.0</td>\n",
              "      <td>Cat_4</td>\n",
              "      <td>A</td>\n",
              "    </tr>\n",
              "    <tr>\n",
              "      <th>2</th>\n",
              "      <td>466315</td>\n",
              "      <td>Female</td>\n",
              "      <td>Yes</td>\n",
              "      <td>67</td>\n",
              "      <td>Yes</td>\n",
              "      <td>Engineer</td>\n",
              "      <td>1.000000</td>\n",
              "      <td>Low</td>\n",
              "      <td>1.0</td>\n",
              "      <td>Cat_6</td>\n",
              "      <td>B</td>\n",
              "    </tr>\n",
              "    <tr>\n",
              "      <th>3</th>\n",
              "      <td>461735</td>\n",
              "      <td>Male</td>\n",
              "      <td>Yes</td>\n",
              "      <td>67</td>\n",
              "      <td>Yes</td>\n",
              "      <td>Lawyer</td>\n",
              "      <td>0.000000</td>\n",
              "      <td>High</td>\n",
              "      <td>2.0</td>\n",
              "      <td>Cat_6</td>\n",
              "      <td>B</td>\n",
              "    </tr>\n",
              "    <tr>\n",
              "      <th>4</th>\n",
              "      <td>462669</td>\n",
              "      <td>Female</td>\n",
              "      <td>Yes</td>\n",
              "      <td>40</td>\n",
              "      <td>Yes</td>\n",
              "      <td>Entertainment</td>\n",
              "      <td>2.619777</td>\n",
              "      <td>High</td>\n",
              "      <td>6.0</td>\n",
              "      <td>Cat_6</td>\n",
              "      <td>A</td>\n",
              "    </tr>\n",
              "    <tr>\n",
              "      <th>...</th>\n",
              "      <td>...</td>\n",
              "      <td>...</td>\n",
              "      <td>...</td>\n",
              "      <td>...</td>\n",
              "      <td>...</td>\n",
              "      <td>...</td>\n",
              "      <td>...</td>\n",
              "      <td>...</td>\n",
              "      <td>...</td>\n",
              "      <td>...</td>\n",
              "      <td>...</td>\n",
              "    </tr>\n",
              "    <tr>\n",
              "      <th>2622</th>\n",
              "      <td>467954</td>\n",
              "      <td>Male</td>\n",
              "      <td>No</td>\n",
              "      <td>29</td>\n",
              "      <td>No</td>\n",
              "      <td>Healthcare</td>\n",
              "      <td>9.000000</td>\n",
              "      <td>Low</td>\n",
              "      <td>4.0</td>\n",
              "      <td>Cat_6</td>\n",
              "      <td>B</td>\n",
              "    </tr>\n",
              "    <tr>\n",
              "      <th>2623</th>\n",
              "      <td>467958</td>\n",
              "      <td>Female</td>\n",
              "      <td>No</td>\n",
              "      <td>35</td>\n",
              "      <td>Yes</td>\n",
              "      <td>Doctor</td>\n",
              "      <td>1.000000</td>\n",
              "      <td>Low</td>\n",
              "      <td>1.0</td>\n",
              "      <td>Cat_6</td>\n",
              "      <td>A</td>\n",
              "    </tr>\n",
              "    <tr>\n",
              "      <th>2624</th>\n",
              "      <td>467960</td>\n",
              "      <td>Female</td>\n",
              "      <td>No</td>\n",
              "      <td>53</td>\n",
              "      <td>Yes</td>\n",
              "      <td>Entertainment</td>\n",
              "      <td>2.619777</td>\n",
              "      <td>Low</td>\n",
              "      <td>2.0</td>\n",
              "      <td>Cat_6</td>\n",
              "      <td>C</td>\n",
              "    </tr>\n",
              "    <tr>\n",
              "      <th>2625</th>\n",
              "      <td>467961</td>\n",
              "      <td>Male</td>\n",
              "      <td>Yes</td>\n",
              "      <td>47</td>\n",
              "      <td>Yes</td>\n",
              "      <td>Executive</td>\n",
              "      <td>1.000000</td>\n",
              "      <td>High</td>\n",
              "      <td>5.0</td>\n",
              "      <td>Cat_4</td>\n",
              "      <td>C</td>\n",
              "    </tr>\n",
              "    <tr>\n",
              "      <th>2626</th>\n",
              "      <td>467968</td>\n",
              "      <td>Female</td>\n",
              "      <td>No</td>\n",
              "      <td>43</td>\n",
              "      <td>Yes</td>\n",
              "      <td>Healthcare</td>\n",
              "      <td>9.000000</td>\n",
              "      <td>Low</td>\n",
              "      <td>3.0</td>\n",
              "      <td>Cat_7</td>\n",
              "      <td>A</td>\n",
              "    </tr>\n",
              "  </tbody>\n",
              "</table>\n",
              "<p>10157 rows × 11 columns</p>\n",
              "</div>\n",
              "      <button class=\"colab-df-convert\" onclick=\"convertToInteractive('df-2df8a91d-b808-40e2-9be5-d42c0e05a14c')\"\n",
              "              title=\"Convert this dataframe to an interactive table.\"\n",
              "              style=\"display:none;\">\n",
              "        \n",
              "  <svg xmlns=\"http://www.w3.org/2000/svg\" height=\"24px\"viewBox=\"0 0 24 24\"\n",
              "       width=\"24px\">\n",
              "    <path d=\"M0 0h24v24H0V0z\" fill=\"none\"/>\n",
              "    <path d=\"M18.56 5.44l.94 2.06.94-2.06 2.06-.94-2.06-.94-.94-2.06-.94 2.06-2.06.94zm-11 1L8.5 8.5l.94-2.06 2.06-.94-2.06-.94L8.5 2.5l-.94 2.06-2.06.94zm10 10l.94 2.06.94-2.06 2.06-.94-2.06-.94-.94-2.06-.94 2.06-2.06.94z\"/><path d=\"M17.41 7.96l-1.37-1.37c-.4-.4-.92-.59-1.43-.59-.52 0-1.04.2-1.43.59L10.3 9.45l-7.72 7.72c-.78.78-.78 2.05 0 2.83L4 21.41c.39.39.9.59 1.41.59.51 0 1.02-.2 1.41-.59l7.78-7.78 2.81-2.81c.8-.78.8-2.07 0-2.86zM5.41 20L4 18.59l7.72-7.72 1.47 1.35L5.41 20z\"/>\n",
              "  </svg>\n",
              "      </button>\n",
              "      \n",
              "  <style>\n",
              "    .colab-df-container {\n",
              "      display:flex;\n",
              "      flex-wrap:wrap;\n",
              "      gap: 12px;\n",
              "    }\n",
              "\n",
              "    .colab-df-convert {\n",
              "      background-color: #E8F0FE;\n",
              "      border: none;\n",
              "      border-radius: 50%;\n",
              "      cursor: pointer;\n",
              "      display: none;\n",
              "      fill: #1967D2;\n",
              "      height: 32px;\n",
              "      padding: 0 0 0 0;\n",
              "      width: 32px;\n",
              "    }\n",
              "\n",
              "    .colab-df-convert:hover {\n",
              "      background-color: #E2EBFA;\n",
              "      box-shadow: 0px 1px 2px rgba(60, 64, 67, 0.3), 0px 1px 3px 1px rgba(60, 64, 67, 0.15);\n",
              "      fill: #174EA6;\n",
              "    }\n",
              "\n",
              "    [theme=dark] .colab-df-convert {\n",
              "      background-color: #3B4455;\n",
              "      fill: #D2E3FC;\n",
              "    }\n",
              "\n",
              "    [theme=dark] .colab-df-convert:hover {\n",
              "      background-color: #434B5C;\n",
              "      box-shadow: 0px 1px 3px 1px rgba(0, 0, 0, 0.15);\n",
              "      filter: drop-shadow(0px 1px 2px rgba(0, 0, 0, 0.3));\n",
              "      fill: #FFFFFF;\n",
              "    }\n",
              "  </style>\n",
              "\n",
              "      <script>\n",
              "        const buttonEl =\n",
              "          document.querySelector('#df-2df8a91d-b808-40e2-9be5-d42c0e05a14c button.colab-df-convert');\n",
              "        buttonEl.style.display =\n",
              "          google.colab.kernel.accessAllowed ? 'block' : 'none';\n",
              "\n",
              "        async function convertToInteractive(key) {\n",
              "          const element = document.querySelector('#df-2df8a91d-b808-40e2-9be5-d42c0e05a14c');\n",
              "          const dataTable =\n",
              "            await google.colab.kernel.invokeFunction('convertToInteractive',\n",
              "                                                     [key], {});\n",
              "          if (!dataTable) return;\n",
              "\n",
              "          const docLinkHtml = 'Like what you see? Visit the ' +\n",
              "            '<a target=\"_blank\" href=https://colab.research.google.com/notebooks/data_table.ipynb>data table notebook</a>'\n",
              "            + ' to learn more about interactive tables.';\n",
              "          element.innerHTML = '';\n",
              "          dataTable['output_type'] = 'display_data';\n",
              "          await google.colab.output.renderOutput(dataTable, element);\n",
              "          const docLink = document.createElement('div');\n",
              "          docLink.innerHTML = docLinkHtml;\n",
              "          element.appendChild(docLink);\n",
              "        }\n",
              "      </script>\n",
              "    </div>\n",
              "  </div>\n",
              "  "
            ]
          },
          "metadata": {},
          "execution_count": 64
        }
      ],
      "source": [
        "data"
      ]
    },
    {
      "cell_type": "code",
      "execution_count": 65,
      "id": "MH5-PoIR4QXA",
      "metadata": {
        "id": "MH5-PoIR4QXA"
      },
      "outputs": [],
      "source": [
        "from sklearn.preprocessing import label_binarize\n",
        "data[\"Ever_Married\"] = label_binarize(data[\"Ever_Married\"], classes = [\"Yes\", \"No\"])\n",
        "data[\"Profession\"] = label_binarize(data[\"Profession\"], classes = [\"Healthcare\", \"Engineer\", \"Lawyer\", \"Artist\", \"Doctor\", \"Homemaker\", \"Entertainment\", \"Marketing\", \"Executive\"])\n",
        "data[\"Graduated\"] = label_binarize(data[\"Graduated\"], classes = [\"Yes\", \"No\"])\n",
        "data[\"Spending_Score\"] = label_binarize(data[\"Graduated\"], classes = [\"Low\", \"High\", \"Average\"])\n",
        "data[\"Var_1\"] = label_binarize(data[\"Var_1\"], classes = [\"Cat_1\",\"Cat_2\",\"Cat_3\",\"Cat_4\",\"Cat_5\",\"Cat_6\",\"Cat_7\"])\n",
        "data[\"Gender\"] = label_binarize(data[\"Gender\"], classes = [\"Male\", \"Female\"])\n",
        "data[\"Segmentation\"] = label_binarize(data[\"Segmentation\"], classes = [\"A\", \"B\", \"C\" \"D\"])\n"
      ]
    },
    {
      "cell_type": "code",
      "execution_count": 66,
      "id": "zzEG0Vnu9xyd",
      "metadata": {
        "colab": {
          "base_uri": "https://localhost:8080/"
        },
        "id": "zzEG0Vnu9xyd",
        "outputId": "b2227749-ea27-4f96-905d-88e0041312a6"
      },
      "outputs": [
        {
          "output_type": "stream",
          "name": "stdout",
          "text": [
            "<class 'pandas.core.frame.DataFrame'>\n",
            "Int64Index: 10157 entries, 0 to 2626\n",
            "Data columns (total 11 columns):\n",
            " #   Column           Non-Null Count  Dtype  \n",
            "---  ------           --------------  -----  \n",
            " 0   ID               10157 non-null  int64  \n",
            " 1   Gender           10157 non-null  int64  \n",
            " 2   Ever_Married     10157 non-null  int64  \n",
            " 3   Age              10157 non-null  int64  \n",
            " 4   Graduated        10157 non-null  int64  \n",
            " 5   Profession       10157 non-null  int64  \n",
            " 6   Work_Experience  10157 non-null  float64\n",
            " 7   Spending_Score   10157 non-null  int64  \n",
            " 8   Family_Size      10157 non-null  float64\n",
            " 9   Var_1            10157 non-null  int64  \n",
            " 10  Segmentation     10157 non-null  int64  \n",
            "dtypes: float64(2), int64(9)\n",
            "memory usage: 952.2 KB\n"
          ]
        }
      ],
      "source": [
        "data.info()"
      ]
    },
    {
      "cell_type": "code",
      "execution_count": 67,
      "id": "7KlmYYckPAOq",
      "metadata": {
        "id": "7KlmYYckPAOq"
      },
      "outputs": [],
      "source": [
        "dataset = data.values\n",
        "\n",
        "X = dataset[:,0:10].astype(float)\n",
        "y = dataset[:,10:11]"
      ]
    },
    {
      "cell_type": "code",
      "execution_count": 68,
      "id": "KqVTVr_HQ6G_",
      "metadata": {
        "colab": {
          "base_uri": "https://localhost:8080/"
        },
        "id": "KqVTVr_HQ6G_",
        "outputId": "739da938-4ee3-4c1f-acff-3e27b63251d9"
      },
      "outputs": [
        {
          "output_type": "execute_result",
          "data": {
            "text/plain": [
              "(10157, 10)"
            ]
          },
          "metadata": {},
          "execution_count": 68
        }
      ],
      "source": [
        "X.shape"
      ]
    },
    {
      "cell_type": "code",
      "execution_count": 69,
      "id": "3k_qlIcSQ9SP",
      "metadata": {
        "colab": {
          "base_uri": "https://localhost:8080/"
        },
        "id": "3k_qlIcSQ9SP",
        "outputId": "5dc20a8d-4930-480c-f5b0-e6f9765b5242"
      },
      "outputs": [
        {
          "output_type": "execute_result",
          "data": {
            "text/plain": [
              "(10157, 1)"
            ]
          },
          "metadata": {},
          "execution_count": 69
        }
      ],
      "source": [
        "y.shape"
      ]
    },
    {
      "cell_type": "code",
      "execution_count": 70,
      "id": "-KCi9z8OPALP",
      "metadata": {
        "colab": {
          "base_uri": "https://localhost:8080/"
        },
        "id": "-KCi9z8OPALP",
        "outputId": "222b642a-6676-42a9-da45-2be825f3826b"
      },
      "outputs": [
        {
          "output_type": "stream",
          "name": "stdout",
          "text": [
            "(10157, 10) (10157, 1)\n",
            "[4.62809e+05 0.00000e+00 1.00000e+00 2.20000e+01 1.00000e+00 1.00000e+00\n",
            " 1.00000e+00 0.00000e+00 4.00000e+00 0.00000e+00] [0.]\n",
            "[4.62643000e+05 1.00000000e+00 0.00000000e+00 3.80000000e+01\n",
            " 0.00000000e+00 0.00000000e+00 2.61977701e+00 0.00000000e+00\n",
            " 3.00000000e+00 0.00000000e+00] [1.]\n",
            "[4.66315e+05 1.00000e+00 0.00000e+00 6.70000e+01 0.00000e+00 0.00000e+00\n",
            " 1.00000e+00 0.00000e+00 1.00000e+00 0.00000e+00] [0.]\n",
            "[4.61735e+05 0.00000e+00 0.00000e+00 6.70000e+01 0.00000e+00 0.00000e+00\n",
            " 0.00000e+00 0.00000e+00 2.00000e+00 0.00000e+00] [0.]\n",
            "[4.62669000e+05 1.00000000e+00 0.00000000e+00 4.00000000e+01\n",
            " 0.00000000e+00 0.00000000e+00 2.61977701e+00 0.00000000e+00\n",
            " 6.00000000e+00 0.00000000e+00] [1.]\n",
            "[4.61319e+05 0.00000e+00 0.00000e+00 5.60000e+01 1.00000e+00 0.00000e+00\n",
            " 0.00000e+00 0.00000e+00 2.00000e+00 0.00000e+00] [0.]\n",
            "[4.60156e+05 0.00000e+00 1.00000e+00 3.20000e+01 0.00000e+00 1.00000e+00\n",
            " 1.00000e+00 0.00000e+00 3.00000e+00 0.00000e+00] [0.]\n",
            "[4.64347e+05 1.00000e+00 1.00000e+00 3.30000e+01 0.00000e+00 1.00000e+00\n",
            " 1.00000e+00 0.00000e+00 3.00000e+00 0.00000e+00] [0.]\n",
            "[4.65015e+05 1.00000e+00 0.00000e+00 6.10000e+01 0.00000e+00 0.00000e+00\n",
            " 0.00000e+00 0.00000e+00 3.00000e+00 0.00000e+00] [0.]\n",
            "[4.65176e+05 1.00000e+00 0.00000e+00 5.50000e+01 0.00000e+00 0.00000e+00\n",
            " 1.00000e+00 0.00000e+00 4.00000e+00 0.00000e+00] [0.]\n"
          ]
        }
      ],
      "source": [
        "# summarize dataset shape\n",
        "print(X.shape, y.shape)\n",
        "# summarize first few examples\n",
        "for i in range(10):\n",
        "    print(X[i], y[i])\n"
      ]
    },
    {
      "cell_type": "code",
      "execution_count": 71,
      "id": "3mmCUaOmPAH9",
      "metadata": {
        "id": "3mmCUaOmPAH9"
      },
      "outputs": [],
      "source": [
        "# define the model\n",
        "model = Sequential()\n",
        "model.add(Dense(20, input_dim = 11, kernel_initializer='he_uniform', activation='relu'))\n",
        "model.add(Dense(1, activation='sigmoid'))\n",
        "model.compile(loss='binary_crossentropy', optimizer='adam')"
      ]
    },
    {
      "cell_type": "code",
      "execution_count": 72,
      "id": "ZDPEug8ZPAFN",
      "metadata": {
        "id": "ZDPEug8ZPAFN"
      },
      "outputs": [],
      "source": [
        "# get the model\n",
        "def get_model(n_inputs, n_outputs):\n",
        "    model = Sequential()\n",
        "    model.add(Dense(20, input_dim=n_inputs, kernel_initializer='he_uniform', activation='relu'))\n",
        "    model.add(Dense(n_outputs, activation='sigmoid'))\n",
        "    model.compile(loss='binary_crossentropy', optimizer='adam')\n",
        "    return model"
      ]
    },
    {
      "cell_type": "code",
      "execution_count": 73,
      "id": "SgmVXhuYRwRh",
      "metadata": {
        "id": "SgmVXhuYRwRh"
      },
      "outputs": [],
      "source": [
        "def evaluate_model(X, y):\n",
        "    results = list()\n",
        "    n_inputs, n_outputs = X.shape[1], y.shape[1]\n",
        "    # define evaluation procedure\n",
        "    cv = RepeatedKFold(n_splits=10, n_repeats=3, random_state=1)\n",
        "    # enumerate folds\n",
        "    for train_ix, test_ix in cv.split(X):\n",
        "        # prepare data\n",
        "        X_train, X_test = X[train_ix], X[test_ix]\n",
        "        y_train, y_test = y[train_ix], y[test_ix]\n",
        "        # define model\n",
        "        model = get_model(n_inputs, n_outputs)\n",
        "        # fit model\n",
        "        model.fit(X_train, y_train, verbose=0, epochs=100)\n",
        "        # make a prediction on the test set\n",
        "        yhat = model.predict(X_test)\n",
        "        # round probabilities to class labels\n",
        "        yhat = yhat.round()\n",
        "        # calculate accuracy\n",
        "        acc = accuracy_score(y_test, yhat)\n",
        "        # store result\n",
        "        print('>%.3f' % acc)\n",
        "        results.append(acc)\n",
        "    return results"
      ]
    },
    {
      "cell_type": "code",
      "execution_count": 74,
      "id": "Kwkin0vnRwPE",
      "metadata": {
        "colab": {
          "base_uri": "https://localhost:8080/"
        },
        "id": "Kwkin0vnRwPE",
        "outputId": "3d70a008-b422-4003-a610-4ba2db73b27d"
      },
      "outputs": [
        {
          "output_type": "stream",
          "name": "stdout",
          "text": [
            ">0.741\n",
            ">0.747\n",
            ">0.257\n",
            ">0.740\n",
            ">0.727\n",
            ">0.731\n",
            ">0.748\n",
            ">0.727\n",
            ">0.259\n",
            ">0.266\n",
            ">0.735\n",
            ">0.741\n",
            ">0.751\n",
            ">0.741\n",
            ">0.752\n",
            ">0.727\n",
            ">0.280\n",
            ">0.729\n",
            ">0.335\n",
            ">0.248\n",
            ">0.743\n",
            ">0.269\n",
            ">0.739\n",
            ">0.751\n",
            ">0.739\n",
            ">0.720\n",
            ">0.744\n",
            ">0.737\n",
            ">0.262\n",
            ">0.737\n"
          ]
        }
      ],
      "source": [
        "results = evaluate_model(X, y)"
      ]
    },
    {
      "cell_type": "code",
      "execution_count": 75,
      "id": "iH32NYMPO__Y",
      "metadata": {
        "colab": {
          "base_uri": "https://localhost:8080/"
        },
        "id": "iH32NYMPO__Y",
        "outputId": "649bb1a4-725c-447e-e2d7-624914cdf419"
      },
      "outputs": [
        {
          "output_type": "stream",
          "name": "stdout",
          "text": [
            "Accuracy: 0.614 (0.207)\n"
          ]
        }
      ],
      "source": [
        "print('Accuracy: %.3f (%.3f)' % (mean(results), std(results)))"
      ]
    },
    {
      "cell_type": "code",
      "execution_count": 76,
      "id": "7mphDKujUAKp",
      "metadata": {
        "id": "7mphDKujUAKp"
      },
      "outputs": [],
      "source": [
        "dataset = data.values\n",
        "# split into input (X) and output (Y) variables\n",
        "X = dataset[:,0:10].astype(float)\n",
        "y = dataset[:,10:11]\n"
      ]
    },
    {
      "cell_type": "code",
      "execution_count": 77,
      "id": "1ieC9pEgbaco",
      "metadata": {
        "colab": {
          "base_uri": "https://localhost:8080/"
        },
        "id": "1ieC9pEgbaco",
        "outputId": "f6278143-f3f3-4d03-f47a-26d1ad827507"
      },
      "outputs": [
        {
          "output_type": "stream",
          "name": "stdout",
          "text": [
            "Epoch 1/100\n",
            "681/681 [==============================] - 5s 5ms/step - loss: 1260.9255 - accuracy: 0.6193 - val_loss: 166.3941 - val_accuracy: 0.7035\n",
            "Epoch 2/100\n",
            "681/681 [==============================] - 3s 4ms/step - loss: 66.2150 - accuracy: 0.6267 - val_loss: 118.9335 - val_accuracy: 0.7035\n",
            "Epoch 3/100\n",
            "681/681 [==============================] - 2s 4ms/step - loss: 67.4584 - accuracy: 0.6251 - val_loss: 46.3643 - val_accuracy: 0.7035\n",
            "Epoch 4/100\n",
            "681/681 [==============================] - 3s 4ms/step - loss: 71.7636 - accuracy: 0.6316 - val_loss: 125.6756 - val_accuracy: 0.2965\n",
            "Epoch 5/100\n",
            "681/681 [==============================] - 4s 5ms/step - loss: 75.1895 - accuracy: 0.6231 - val_loss: 5.2356 - val_accuracy: 0.7035\n",
            "Epoch 6/100\n",
            "681/681 [==============================] - 2s 3ms/step - loss: 69.9673 - accuracy: 0.6291 - val_loss: 204.3438 - val_accuracy: 0.7035\n",
            "Epoch 7/100\n",
            "681/681 [==============================] - 1s 2ms/step - loss: 53.1664 - accuracy: 0.6338 - val_loss: 53.3673 - val_accuracy: 0.2965\n",
            "Epoch 8/100\n",
            "681/681 [==============================] - 2s 2ms/step - loss: 54.4398 - accuracy: 0.6314 - val_loss: 280.0224 - val_accuracy: 0.7035\n",
            "Epoch 9/100\n",
            "681/681 [==============================] - 1s 2ms/step - loss: 59.8674 - accuracy: 0.6359 - val_loss: 105.1757 - val_accuracy: 0.7035\n",
            "Epoch 10/100\n",
            "681/681 [==============================] - 2s 2ms/step - loss: 68.0671 - accuracy: 0.6413 - val_loss: 268.1195 - val_accuracy: 0.7035\n",
            "Epoch 11/100\n",
            "681/681 [==============================] - 2s 2ms/step - loss: 68.4355 - accuracy: 0.6298 - val_loss: 19.2997 - val_accuracy: 0.2965\n",
            "Epoch 12/100\n",
            "681/681 [==============================] - 2s 2ms/step - loss: 70.1790 - accuracy: 0.6298 - val_loss: 104.6204 - val_accuracy: 0.7035\n",
            "Epoch 13/100\n",
            "681/681 [==============================] - 1s 2ms/step - loss: 67.9231 - accuracy: 0.6288 - val_loss: 121.0983 - val_accuracy: 0.7035\n",
            "Epoch 14/100\n",
            "681/681 [==============================] - 2s 2ms/step - loss: 62.1152 - accuracy: 0.6294 - val_loss: 11.7187 - val_accuracy: 0.7035\n",
            "Epoch 15/100\n",
            "681/681 [==============================] - 1s 2ms/step - loss: 57.5694 - accuracy: 0.6251 - val_loss: 29.3160 - val_accuracy: 0.7035\n",
            "Epoch 16/100\n",
            "681/681 [==============================] - 2s 2ms/step - loss: 53.9985 - accuracy: 0.6363 - val_loss: 25.3661 - val_accuracy: 0.7035\n",
            "Epoch 17/100\n",
            "681/681 [==============================] - 1s 2ms/step - loss: 58.2211 - accuracy: 0.6238 - val_loss: 31.6421 - val_accuracy: 0.7035\n",
            "Epoch 18/100\n",
            "681/681 [==============================] - 1s 2ms/step - loss: 59.7494 - accuracy: 0.6322 - val_loss: 11.3358 - val_accuracy: 0.2965\n",
            "Epoch 19/100\n",
            "681/681 [==============================] - 1s 2ms/step - loss: 53.5931 - accuracy: 0.6307 - val_loss: 38.8416 - val_accuracy: 0.2965\n",
            "Epoch 20/100\n",
            "681/681 [==============================] - 2s 2ms/step - loss: 60.9133 - accuracy: 0.6292 - val_loss: 104.7178 - val_accuracy: 0.7035\n",
            "Epoch 21/100\n",
            "681/681 [==============================] - 2s 2ms/step - loss: 51.5968 - accuracy: 0.6266 - val_loss: 107.6166 - val_accuracy: 0.7035\n",
            "Epoch 22/100\n",
            "681/681 [==============================] - 1s 2ms/step - loss: 53.6721 - accuracy: 0.6381 - val_loss: 42.1470 - val_accuracy: 0.7035\n",
            "Epoch 23/100\n",
            "681/681 [==============================] - 2s 2ms/step - loss: 52.5235 - accuracy: 0.6303 - val_loss: 39.6187 - val_accuracy: 0.7035\n",
            "Epoch 24/100\n",
            "681/681 [==============================] - 2s 2ms/step - loss: 58.0729 - accuracy: 0.6232 - val_loss: 77.3987 - val_accuracy: 0.7035\n",
            "Epoch 25/100\n",
            "681/681 [==============================] - 1s 2ms/step - loss: 56.8123 - accuracy: 0.6307 - val_loss: 261.0478 - val_accuracy: 0.7035\n",
            "Epoch 26/100\n",
            "681/681 [==============================] - 1s 2ms/step - loss: 60.1654 - accuracy: 0.6307 - val_loss: 85.3105 - val_accuracy: 0.7035\n",
            "Epoch 27/100\n",
            "681/681 [==============================] - 2s 2ms/step - loss: 50.7176 - accuracy: 0.6251 - val_loss: 56.9454 - val_accuracy: 0.2965\n",
            "Epoch 28/100\n",
            "681/681 [==============================] - 1s 2ms/step - loss: 56.6519 - accuracy: 0.6310 - val_loss: 43.9172 - val_accuracy: 0.2965\n",
            "Epoch 29/100\n",
            "681/681 [==============================] - 1s 2ms/step - loss: 56.6572 - accuracy: 0.6320 - val_loss: 81.9315 - val_accuracy: 0.7035\n",
            "Epoch 30/100\n",
            "681/681 [==============================] - 2s 2ms/step - loss: 53.5253 - accuracy: 0.6266 - val_loss: 49.6574 - val_accuracy: 0.7035\n",
            "Epoch 31/100\n",
            "681/681 [==============================] - 1s 2ms/step - loss: 50.6944 - accuracy: 0.6245 - val_loss: 39.1118 - val_accuracy: 0.7035\n",
            "Epoch 32/100\n",
            "681/681 [==============================] - 1s 2ms/step - loss: 52.6537 - accuracy: 0.6253 - val_loss: 12.5718 - val_accuracy: 0.2965\n",
            "Epoch 33/100\n",
            "681/681 [==============================] - 1s 2ms/step - loss: 54.6682 - accuracy: 0.6272 - val_loss: 45.7143 - val_accuracy: 0.7035\n",
            "Epoch 34/100\n",
            "681/681 [==============================] - 2s 2ms/step - loss: 55.2791 - accuracy: 0.6425 - val_loss: 181.3329 - val_accuracy: 0.7035\n",
            "Epoch 35/100\n",
            "681/681 [==============================] - 1s 2ms/step - loss: 54.7158 - accuracy: 0.6353 - val_loss: 31.1237 - val_accuracy: 0.7035\n",
            "Epoch 36/100\n",
            "681/681 [==============================] - 1s 2ms/step - loss: 56.9850 - accuracy: 0.6334 - val_loss: 79.8616 - val_accuracy: 0.2965\n",
            "Epoch 37/100\n",
            "681/681 [==============================] - 1s 2ms/step - loss: 43.3632 - accuracy: 0.6375 - val_loss: 87.7199 - val_accuracy: 0.7035\n",
            "Epoch 38/100\n",
            "681/681 [==============================] - 1s 2ms/step - loss: 45.9962 - accuracy: 0.6279 - val_loss: 53.2498 - val_accuracy: 0.7035\n",
            "Epoch 39/100\n",
            "681/681 [==============================] - 2s 2ms/step - loss: 50.7958 - accuracy: 0.6257 - val_loss: 22.0554 - val_accuracy: 0.7035\n",
            "Epoch 40/100\n",
            "681/681 [==============================] - 2s 2ms/step - loss: 43.9304 - accuracy: 0.6259 - val_loss: 16.7491 - val_accuracy: 0.7035\n",
            "Epoch 41/100\n",
            "681/681 [==============================] - 2s 2ms/step - loss: 58.3456 - accuracy: 0.6238 - val_loss: 100.0183 - val_accuracy: 0.7035\n",
            "Epoch 42/100\n",
            "681/681 [==============================] - 1s 2ms/step - loss: 42.2832 - accuracy: 0.6339 - val_loss: 56.0824 - val_accuracy: 0.7035\n",
            "Epoch 43/100\n",
            "681/681 [==============================] - 2s 2ms/step - loss: 40.9286 - accuracy: 0.6281 - val_loss: 45.6908 - val_accuracy: 0.2965\n",
            "Epoch 44/100\n",
            "681/681 [==============================] - 2s 2ms/step - loss: 37.1865 - accuracy: 0.6363 - val_loss: 8.3607 - val_accuracy: 0.2986\n",
            "Epoch 45/100\n",
            "681/681 [==============================] - 2s 2ms/step - loss: 60.2526 - accuracy: 0.6309 - val_loss: 185.7700 - val_accuracy: 0.7035\n",
            "Epoch 46/100\n",
            "681/681 [==============================] - 1s 2ms/step - loss: 47.6946 - accuracy: 0.6356 - val_loss: 2.0711 - val_accuracy: 0.6778\n",
            "Epoch 47/100\n",
            "681/681 [==============================] - 2s 2ms/step - loss: 42.4553 - accuracy: 0.6442 - val_loss: 100.7896 - val_accuracy: 0.7035\n",
            "Epoch 48/100\n",
            "681/681 [==============================] - 1s 2ms/step - loss: 47.1887 - accuracy: 0.6276 - val_loss: 21.4325 - val_accuracy: 0.7035\n",
            "Epoch 49/100\n",
            "681/681 [==============================] - 2s 2ms/step - loss: 44.0031 - accuracy: 0.6323 - val_loss: 51.1805 - val_accuracy: 0.2965\n",
            "Epoch 50/100\n",
            "681/681 [==============================] - 1s 2ms/step - loss: 39.6249 - accuracy: 0.6378 - val_loss: 115.3965 - val_accuracy: 0.7035\n",
            "Epoch 51/100\n",
            "681/681 [==============================] - 2s 2ms/step - loss: 39.5914 - accuracy: 0.6389 - val_loss: 5.0042 - val_accuracy: 0.7035\n",
            "Epoch 52/100\n",
            "681/681 [==============================] - 2s 2ms/step - loss: 40.4468 - accuracy: 0.6301 - val_loss: 67.7941 - val_accuracy: 0.7035\n",
            "Epoch 53/100\n",
            "681/681 [==============================] - 2s 2ms/step - loss: 44.2452 - accuracy: 0.6386 - val_loss: 2.1033 - val_accuracy: 0.6715\n",
            "Epoch 54/100\n",
            "681/681 [==============================] - 2s 4ms/step - loss: 47.8675 - accuracy: 0.6322 - val_loss: 77.5953 - val_accuracy: 0.2965\n",
            "Epoch 55/100\n",
            "681/681 [==============================] - 3s 4ms/step - loss: 36.3870 - accuracy: 0.6263 - val_loss: 68.2571 - val_accuracy: 0.7035\n",
            "Epoch 56/100\n",
            "681/681 [==============================] - 1s 2ms/step - loss: 45.2628 - accuracy: 0.6275 - val_loss: 32.9331 - val_accuracy: 0.7035\n",
            "Epoch 57/100\n",
            "681/681 [==============================] - 1s 2ms/step - loss: 41.4199 - accuracy: 0.6339 - val_loss: 107.6476 - val_accuracy: 0.7035\n",
            "Epoch 58/100\n",
            "681/681 [==============================] - 2s 2ms/step - loss: 39.5752 - accuracy: 0.6417 - val_loss: 8.7903 - val_accuracy: 0.7035\n",
            "Epoch 59/100\n",
            "681/681 [==============================] - 1s 2ms/step - loss: 37.6681 - accuracy: 0.6319 - val_loss: 52.1525 - val_accuracy: 0.7035\n",
            "Epoch 60/100\n",
            "681/681 [==============================] - 2s 2ms/step - loss: 35.2140 - accuracy: 0.6226 - val_loss: 19.6473 - val_accuracy: 0.7035\n",
            "Epoch 61/100\n",
            "681/681 [==============================] - 1s 2ms/step - loss: 39.5473 - accuracy: 0.6337 - val_loss: 10.2861 - val_accuracy: 0.2968\n",
            "Epoch 62/100\n",
            "681/681 [==============================] - 2s 2ms/step - loss: 33.5596 - accuracy: 0.6314 - val_loss: 49.7634 - val_accuracy: 0.7035\n",
            "Epoch 63/100\n",
            "681/681 [==============================] - 2s 2ms/step - loss: 30.8639 - accuracy: 0.6338 - val_loss: 59.7040 - val_accuracy: 0.7035\n",
            "Epoch 64/100\n",
            "681/681 [==============================] - 1s 2ms/step - loss: 35.3979 - accuracy: 0.6341 - val_loss: 82.3241 - val_accuracy: 0.7035\n",
            "Epoch 65/100\n",
            "681/681 [==============================] - 2s 2ms/step - loss: 26.4013 - accuracy: 0.6322 - val_loss: 40.0384 - val_accuracy: 0.7035\n",
            "Epoch 66/100\n",
            "681/681 [==============================] - 2s 2ms/step - loss: 31.3210 - accuracy: 0.6244 - val_loss: 2.7583 - val_accuracy: 0.6948\n",
            "Epoch 67/100\n",
            "681/681 [==============================] - 2s 2ms/step - loss: 38.4661 - accuracy: 0.6292 - val_loss: 94.9340 - val_accuracy: 0.7035\n",
            "Epoch 68/100\n",
            "681/681 [==============================] - 1s 2ms/step - loss: 33.7189 - accuracy: 0.6378 - val_loss: 36.7233 - val_accuracy: 0.7035\n",
            "Epoch 69/100\n",
            "681/681 [==============================] - 1s 2ms/step - loss: 34.9167 - accuracy: 0.6337 - val_loss: 14.4177 - val_accuracy: 0.7035\n",
            "Epoch 70/100\n",
            "681/681 [==============================] - 2s 2ms/step - loss: 33.6448 - accuracy: 0.6276 - val_loss: 40.2742 - val_accuracy: 0.7035\n",
            "Epoch 71/100\n",
            "681/681 [==============================] - 2s 2ms/step - loss: 32.9853 - accuracy: 0.6314 - val_loss: 6.9867 - val_accuracy: 0.3308\n",
            "Epoch 72/100\n",
            "681/681 [==============================] - 2s 2ms/step - loss: 32.9081 - accuracy: 0.6284 - val_loss: 6.7133 - val_accuracy: 0.7035\n",
            "Epoch 73/100\n",
            "681/681 [==============================] - 1s 2ms/step - loss: 30.4051 - accuracy: 0.6323 - val_loss: 74.4325 - val_accuracy: 0.7035\n",
            "Epoch 74/100\n",
            "681/681 [==============================] - 1s 2ms/step - loss: 35.8659 - accuracy: 0.6251 - val_loss: 74.4094 - val_accuracy: 0.7035\n",
            "Epoch 75/100\n",
            "681/681 [==============================] - 1s 2ms/step - loss: 28.1457 - accuracy: 0.6288 - val_loss: 6.4290 - val_accuracy: 0.7035\n",
            "Epoch 76/100\n",
            "681/681 [==============================] - 1s 2ms/step - loss: 24.5826 - accuracy: 0.6316 - val_loss: 17.4669 - val_accuracy: 0.7035\n",
            "Epoch 77/100\n",
            "681/681 [==============================] - 1s 2ms/step - loss: 32.0835 - accuracy: 0.6360 - val_loss: 22.5597 - val_accuracy: 0.7035\n",
            "Epoch 78/100\n",
            "681/681 [==============================] - 2s 2ms/step - loss: 27.2820 - accuracy: 0.6314 - val_loss: 20.9365 - val_accuracy: 0.2965\n",
            "Epoch 79/100\n",
            "681/681 [==============================] - 1s 2ms/step - loss: 30.4541 - accuracy: 0.6287 - val_loss: 7.4685 - val_accuracy: 0.7035\n",
            "Epoch 80/100\n",
            "681/681 [==============================] - 2s 2ms/step - loss: 34.8335 - accuracy: 0.6350 - val_loss: 113.1808 - val_accuracy: 0.2965\n",
            "Epoch 81/100\n",
            "681/681 [==============================] - 1s 2ms/step - loss: 29.6333 - accuracy: 0.6323 - val_loss: 82.2452 - val_accuracy: 0.7035\n",
            "Epoch 82/100\n",
            "681/681 [==============================] - 2s 2ms/step - loss: 31.7072 - accuracy: 0.6359 - val_loss: 12.9804 - val_accuracy: 0.7035\n",
            "Epoch 83/100\n",
            "681/681 [==============================] - 2s 2ms/step - loss: 23.7701 - accuracy: 0.6357 - val_loss: 46.3781 - val_accuracy: 0.7035\n",
            "Epoch 84/100\n",
            "681/681 [==============================] - 1s 2ms/step - loss: 28.6611 - accuracy: 0.6288 - val_loss: 3.2084 - val_accuracy: 0.7014\n",
            "Epoch 85/100\n",
            "681/681 [==============================] - 2s 2ms/step - loss: 28.5719 - accuracy: 0.6357 - val_loss: 38.6659 - val_accuracy: 0.7035\n",
            "Epoch 86/100\n",
            "681/681 [==============================] - 1s 2ms/step - loss: 33.7111 - accuracy: 0.6231 - val_loss: 19.3991 - val_accuracy: 0.2965\n",
            "Epoch 87/100\n",
            "681/681 [==============================] - 1s 2ms/step - loss: 19.9566 - accuracy: 0.6292 - val_loss: 79.2586 - val_accuracy: 0.2965\n",
            "Epoch 88/100\n",
            "681/681 [==============================] - 2s 2ms/step - loss: 20.6756 - accuracy: 0.6263 - val_loss: 9.0376 - val_accuracy: 0.7035\n",
            "Epoch 89/100\n",
            "681/681 [==============================] - 2s 2ms/step - loss: 22.6903 - accuracy: 0.6351 - val_loss: 85.8327 - val_accuracy: 0.7035\n",
            "Epoch 90/100\n",
            "681/681 [==============================] - 2s 2ms/step - loss: 21.2771 - accuracy: 0.6376 - val_loss: 5.2991 - val_accuracy: 0.3502\n",
            "Epoch 91/100\n",
            "681/681 [==============================] - 1s 2ms/step - loss: 22.5910 - accuracy: 0.6312 - val_loss: 57.0474 - val_accuracy: 0.2965\n",
            "Epoch 92/100\n",
            "681/681 [==============================] - 2s 2ms/step - loss: 21.7028 - accuracy: 0.6284 - val_loss: 32.6908 - val_accuracy: 0.7035\n",
            "Epoch 93/100\n",
            "681/681 [==============================] - 1s 2ms/step - loss: 23.7996 - accuracy: 0.6310 - val_loss: 7.1966 - val_accuracy: 0.3067\n",
            "Epoch 94/100\n",
            "681/681 [==============================] - 2s 2ms/step - loss: 24.2049 - accuracy: 0.6307 - val_loss: 18.3112 - val_accuracy: 0.2965\n",
            "Epoch 95/100\n",
            "681/681 [==============================] - 1s 2ms/step - loss: 19.6695 - accuracy: 0.6262 - val_loss: 15.0028 - val_accuracy: 0.7035\n",
            "Epoch 96/100\n",
            "681/681 [==============================] - 1s 2ms/step - loss: 24.1070 - accuracy: 0.6248 - val_loss: 18.5678 - val_accuracy: 0.7035\n",
            "Epoch 97/100\n",
            "681/681 [==============================] - 1s 2ms/step - loss: 17.3834 - accuracy: 0.6369 - val_loss: 37.8214 - val_accuracy: 0.7035\n",
            "Epoch 98/100\n",
            "681/681 [==============================] - 1s 2ms/step - loss: 21.1256 - accuracy: 0.6407 - val_loss: 48.7086 - val_accuracy: 0.7035\n",
            "Epoch 99/100\n",
            "681/681 [==============================] - 2s 2ms/step - loss: 23.5742 - accuracy: 0.6301 - val_loss: 63.7975 - val_accuracy: 0.7035\n",
            "Epoch 100/100\n",
            "681/681 [==============================] - 2s 2ms/step - loss: 21.0626 - accuracy: 0.6350 - val_loss: 25.4764 - val_accuracy: 0.2965\n",
            "318/318 [==============================] - 0s 1ms/step - loss: 26.5606 - accuracy: 0.2620\n",
            "Accuracy: 26.20\n"
          ]
        }
      ],
      "source": [
        "# define the keras model\n",
        "model = Sequential()\n",
        "model.add(Dense(12, input_dim=10, activation='relu'))\n",
        "model.add(Dense(8, activation='relu'))\n",
        "model.add(Dense(1, activation='sigmoid'))\n",
        "# compile the keras model\n",
        "model.compile(loss='binary_crossentropy', optimizer='adam', metrics=['accuracy'])\n",
        "# fit the keras model on the dataset\n",
        "history = model.fit(X, y, epochs=100, batch_size=10, validation_split=0.33)\n",
        "# evaluate the keras model\n",
        "_, accuracy = model.evaluate(X, y)\n",
        "print('Accuracy: %.2f' % (accuracy*100))"
      ]
    },
    {
      "cell_type": "code",
      "execution_count": 78,
      "id": "1KdJWyPhhLkM",
      "metadata": {
        "colab": {
          "base_uri": "https://localhost:8080/"
        },
        "id": "1KdJWyPhhLkM",
        "outputId": "88d7e583-f47f-499f-f234-e39377c899ce"
      },
      "outputs": [
        {
          "output_type": "stream",
          "name": "stdout",
          "text": [
            "dict_keys(['loss', 'accuracy', 'val_loss', 'val_accuracy'])\n"
          ]
        }
      ],
      "source": [
        "print(history.history.keys())"
      ]
    },
    {
      "cell_type": "code",
      "execution_count": 79,
      "id": "xOcMaEoYhLhs",
      "metadata": {
        "colab": {
          "base_uri": "https://localhost:8080/",
          "height": 569
        },
        "id": "xOcMaEoYhLhs",
        "outputId": "d47aae0e-bfe9-4d17-a72a-5170cc94c538"
      },
      "outputs": [
        {
          "output_type": "display_data",
          "data": {
            "text/plain": [
              "<Figure size 432x288 with 1 Axes>"
            ],
            "image/png": "[encoded data removed]"
          },
          "metadata": {
            "needs_background": "light"
          }
        },
        {
          "output_type": "display_data",
          "data": {
            "text/plain": [
              "<Figure size 432x288 with 1 Axes>"
            ],
            "image/png": "[encoded data removed]"
          },
          "metadata": {
            "needs_background": "light"
          }
        }
      ],
      "source": [
        "# summarize history for accuracy\n",
        "plt.plot(history.history['accuracy'])\n",
        "plt.plot(history.history['val_accuracy'])\n",
        "plt.title('model accuracy', fontsize=16)\n",
        "plt.ylabel('accuracy', fontsize=16)\n",
        "plt.xlabel('epoch', fontsize=16)\n",
        "plt.legend(['train', 'test'], loc='upper left')\n",
        "plt.show()\n",
        "# summarize history for loss\n",
        "plt.plot(history.history['loss'])\n",
        "plt.plot(history.history['val_loss'])\n",
        "plt.title('model loss', fontsize=6)\n",
        "plt.ylabel('loss', fontsize=6)\n",
        "plt.xlabel('epoch', fontsize=6)\n",
        "plt.legend(['train', 'test'], loc='upper left')\n",
        "plt.show()"
      ]
    }
  ],
  "metadata": {
    "colab": {
      "collapsed_sections": [],
      "name": "Iren_Aghajanyan_Capstone.ipynb",
      "provenance": []
    },
    "kernelspec": {
      "display_name": "Python 3",
      "language": "python",
      "name": "python3"
    },
    "language_info": {
      "codemirror_mode": {
        "name": "ipython",
        "version": 3
      },
      "file_extension": ".py",
      "mimetype": "text/x-python",
      "name": "python",
      "nbconvert_exporter": "python",
      "pygments_lexer": "ipython3",
      "version": "3.8.8"
    }
  },
  "nbformat": 4,
  "nbformat_minor": 5
}
{
  "cells": [
    {
      "cell_type": "code",
      "execution_count": 1,
      "id": "bab962b4",
      "metadata": {
        "id": "bab962b4"
      },
      "outputs": [],
      "source": [
        "import io\n",
        "import openpyxl\n",
        "import seaborn as sns\n",
        "import numpy as np\n",
        "from numpy import mean, std\n",
        "import pandas as pd\n",
        "from math import sqrt\n",
        "from matplotlib import pyplot as plt\n",
        "import matplotlib.pyplot as plt\n",
        "%matplotlib inline\n",
        "import warnings\n",
        "warnings.filterwarnings('ignore')\n",
        "\n",
        "\n",
        "from sklearn.linear_model import LinearRegression\n",
        "from sklearn.tree import DecisionTreeRegressor\n",
        "from sklearn.ensemble import RandomForestRegressor\n",
        "from sklearn.preprocessing import OneHotEncoder, LabelEncoder\n",
        "from sklearn.datasets import make_multilabel_classification\n",
        "from sklearn import tree\n",
        "from sklearn.pipeline import Pipeline\n",
        "from sklearn.inspection import permutation_importance\n",
        "from sklearn.model_selection import cross_val_score, GridSearchCV,RandomizedSearchCV, KFold, train_test_split, RepeatedKFold\n",
        "from sklearn import metrics\n",
        "from sklearn.metrics import mean_squared_error, accuracy_score, f1_score,roc_auc_score,confusion_matrix,roc_curve\n",
        "from sklearn.preprocessing import label_binarize\n",
        "from sklearn.preprocessing import LabelEncoder\n",
        "\n",
        "import xgboost as xgb\n",
        "from xgboost.sklearn import XGBClassifier\n",
        "#from xgboost.sklearn import plot_importance\n",
        "from xgboost import XGBRegressor, plot_importance\n",
        "\n",
        "# pip install category_encoders\n",
        "\n",
        "import category_encoders as ce\n",
        "# pip install shap\n",
        "\n",
        "import shap"
      ]
    },
    {
      "cell_type": "code",
      "execution_count": 4,
      "id": "b76c0a52",
      "metadata": {
        "id": "b76c0a52"
      },
      "outputs": [],
      "source": [
        "data_train = pd.read_csv(\"Train.csv\", sep=\",\")\n",
        "data_test = pd.read_csv(\"Test.csv\", sep=\",\")\n",
        "data = pd.concat([data_train, data_test])\n",
        "#data\n"
      ]
    },
    {
      "cell_type": "code",
      "execution_count": 5,
      "id": "yc8-3egRtv1i",
      "metadata": {
        "colab": {
          "base_uri": "https://localhost:8080/"
        },
        "id": "yc8-3egRtv1i",
        "outputId": "9d54887b-eef9-44d4-d89f-9a4a63174baa"
      },
      "outputs": [
        {
          "output_type": "execute_result",
          "data": {
            "text/plain": [
              "(10695, 11)"
            ]
          },
          "metadata": {},
          "execution_count": 5
        }
      ],
      "source": [
        "data.shape"
      ]
    },
    {
      "cell_type": "code",
      "execution_count": 6,
      "id": "kweq_T_1nvzO",
      "metadata": {
        "colab": {
          "base_uri": "https://localhost:8080/"
        },
        "id": "kweq_T_1nvzO",
        "outputId": "b1c005b8-5877-41f8-a551-d0e724cdd0d0"
      },
      "outputs": [
        {
          "output_type": "stream",
          "name": "stdout",
          "text": [
            "<class 'pandas.core.frame.DataFrame'>\n",
            "Int64Index: 10695 entries, 0 to 2626\n",
            "Data columns (total 11 columns):\n",
            " #   Column           Non-Null Count  Dtype  \n",
            "---  ------           --------------  -----  \n",
            " 0   ID               10695 non-null  int64  \n",
            " 1   Gender           10695 non-null  object \n",
            " 2   Ever_Married     10505 non-null  object \n",
            " 3   Age              10695 non-null  int64  \n",
            " 4   Graduated        10593 non-null  object \n",
            " 5   Profession       10533 non-null  object \n",
            " 6   Work_Experience  9597 non-null   float64\n",
            " 7   Spending_Score   10695 non-null  object \n",
            " 8   Family_Size      10247 non-null  float64\n",
            " 9   Var_1            10587 non-null  object \n",
            " 10  Segmentation     10695 non-null  object \n",
            "dtypes: float64(2), int64(2), object(7)\n",
            "memory usage: 1002.7+ KB\n"
          ]
        }
      ],
      "source": [
        "data.info()"
      ]
    },
    {
      "cell_type": "code",
      "execution_count": 7,
      "id": "QdeHLjRdtnbK",
      "metadata": {
        "colab": {
          "base_uri": "https://localhost:8080/"
        },
        "id": "QdeHLjRdtnbK",
        "outputId": "757de87e-514c-448b-af4b-5858cb1cbe4e"
      },
      "outputs": [
        {
          "output_type": "execute_result",
          "data": {
            "text/plain": [
              "ID                    0\n",
              "Gender                0\n",
              "Ever_Married        190\n",
              "Age                   0\n",
              "Graduated           102\n",
              "Profession          162\n",
              "Work_Experience    1098\n",
              "Spending_Score        0\n",
              "Family_Size         448\n",
              "Var_1               108\n",
              "Segmentation          0\n",
              "dtype: int64"
            ]
          },
          "metadata": {},
          "execution_count": 7
        }
      ],
      "source": [
        "data.isnull().sum() #check for nulls in dataset"
      ]
    },
    {
      "cell_type": "code",
      "source": [
        "plt.subplots(figsize=(10,5))\n",
        "sns.heatmap(data.isnull(),cbar=False)\n",
        "plt.xlabel('Feature')\n",
        "plt.ylabel('Index')\n",
        "plt.title('Missing Value Visualization')\n",
        "\n",
        "plt.show()"
      ],
      "metadata": {
        "colab": {
          "base_uri": "https://localhost:8080/",
          "height": 425
        },
        "id": "VpmSId0xyK22",
        "outputId": "4a899c50-ceee-44de-da66-6979411e86cf"
      },
      "id": "VpmSId0xyK22",
      "execution_count": 8,
      "outputs": [
        {
          "output_type": "display_data",
          "data": {
            "text/plain": [
              "<Figure size 720x360 with 1 Axes>"
            ],
            "image/png": "[encoded data removed]"
          },
          "metadata": {
            "needs_background": "light"
          }
        }
      ]
    },
    {
      "cell_type": "code",
      "source": [
        "data_balancing = pd.DataFrame()\n",
        "data_balancing[\"Count\"] = data[\"Segmentation\"].value_counts()\n",
        "data_balancing[\"Count%\"] = data[\"Segmentation\"].value_counts()/data.shape[0]*100\n",
        "\n",
        "data_balancing"
      ],
      "metadata": {
        "colab": {
          "base_uri": "https://localhost:8080/",
          "height": 175
        },
        "id": "bhg3s6wLyQGO",
        "outputId": "bfd17d49-7485-4937-f6af-8ce6074d0f4d"
      },
      "id": "bhg3s6wLyQGO",
      "execution_count": 9,
      "outputs": [
        {
          "output_type": "execute_result",
          "data": {
            "text/plain": [
              "   Count     Count%\n",
              "D   3027  28.302945\n",
              "A   2818  26.348761\n",
              "C   2442  22.833100\n",
              "B   2408  22.515194"
            ],
            "text/html": [
              "\n",
              "  <div id=\"df-80967465-d751-448a-9d06-2be4c685f53c\">\n",
              "    <div class=\"colab-df-container\">\n",
              "      <div>\n",
              "<style scoped>\n",
              "    .dataframe tbody tr th:only-of-type {\n",
              "        vertical-align: middle;\n",
              "    }\n",
              "\n",
              "    .dataframe tbody tr th {\n",
              "        vertical-align: top;\n",
              "    }\n",
              "\n",
              "    .dataframe thead th {\n",
              "        text-align: right;\n",
              "    }\n",
              "</style>\n",
              "<table border=\"1\" class=\"dataframe\">\n",
              "  <thead>\n",
              "    <tr style=\"text-align: right;\">\n",
              "      <th></th>\n",
              "      <th>Count</th>\n",
              "      <th>Count%</th>\n",
              "    </tr>\n",
              "  </thead>\n",
              "  <tbody>\n",
              "    <tr>\n",
              "      <th>D</th>\n",
              "      <td>3027</td>\n",
              "      <td>28.302945</td>\n",
              "    </tr>\n",
              "    <tr>\n",
              "      <th>A</th>\n",
              "      <td>2818</td>\n",
              "      <td>26.348761</td>\n",
              "    </tr>\n",
              "    <tr>\n",
              "      <th>C</th>\n",
              "      <td>2442</td>\n",
              "      <td>22.833100</td>\n",
              "    </tr>\n",
              "    <tr>\n",
              "      <th>B</th>\n",
              "      <td>2408</td>\n",
              "      <td>22.515194</td>\n",
              "    </tr>\n",
              "  </tbody>\n",
              "</table>\n",
              "</div>\n",
              "      <button class=\"colab-df-convert\" onclick=\"convertToInteractive('df-80967465-d751-448a-9d06-2be4c685f53c')\"\n",
              "              title=\"Convert this dataframe to an interactive table.\"\n",
              "              style=\"display:none;\">\n",
              "        \n",
              "  <svg xmlns=\"http://www.w3.org/2000/svg\" height=\"24px\"viewBox=\"0 0 24 24\"\n",
              "       width=\"24px\">\n",
              "    <path d=\"M0 0h24v24H0V0z\" fill=\"none\"/>\n",
              "    <path d=\"M18.56 5.44l.94 2.06.94-2.06 2.06-.94-2.06-.94-.94-2.06-.94 2.06-2.06.94zm-11 1L8.5 8.5l.94-2.06 2.06-.94-2.06-.94L8.5 2.5l-.94 2.06-2.06.94zm10 10l.94 2.06.94-2.06 2.06-.94-2.06-.94-.94-2.06-.94 2.06-2.06.94z\"/><path d=\"M17.41 7.96l-1.37-1.37c-.4-.4-.92-.59-1.43-.59-.52 0-1.04.2-1.43.59L10.3 9.45l-7.72 7.72c-.78.78-.78 2.05 0 2.83L4 21.41c.39.39.9.59 1.41.59.51 0 1.02-.2 1.41-.59l7.78-7.78 2.81-2.81c.8-.78.8-2.07 0-2.86zM5.41 20L4 18.59l7.72-7.72 1.47 1.35L5.41 20z\"/>\n",
              "  </svg>\n",
              "      </button>\n",
              "      \n",
              "  <style>\n",
              "    .colab-df-container {\n",
              "      display:flex;\n",
              "      flex-wrap:wrap;\n",
              "      gap: 12px;\n",
              "    }\n",
              "\n",
              "    .colab-df-convert {\n",
              "      background-color: #E8F0FE;\n",
              "      border: none;\n",
              "      border-radius: 50%;\n",
              "      cursor: pointer;\n",
              "      display: none;\n",
              "      fill: #1967D2;\n",
              "      height: 32px;\n",
              "      padding: 0 0 0 0;\n",
              "      width: 32px;\n",
              "    }\n",
              "\n",
              "    .colab-df-convert:hover {\n",
              "      background-color: #E2EBFA;\n",
              "      box-shadow: 0px 1px 2px rgba(60, 64, 67, 0.3), 0px 1px 3px 1px rgba(60, 64, 67, 0.15);\n",
              "      fill: #174EA6;\n",
              "    }\n",
              "\n",
              "    [theme=dark] .colab-df-convert {\n",
              "      background-color: #3B4455;\n",
              "      fill: #D2E3FC;\n",
              "    }\n",
              "\n",
              "    [theme=dark] .colab-df-convert:hover {\n",
              "      background-color: #434B5C;\n",
              "      box-shadow: 0px 1px 3px 1px rgba(0, 0, 0, 0.15);\n",
              "      filter: drop-shadow(0px 1px 2px rgba(0, 0, 0, 0.3));\n",
              "      fill: #FFFFFF;\n",
              "    }\n",
              "  </style>\n",
              "\n",
              "      <script>\n",
              "        const buttonEl =\n",
              "          document.querySelector('#df-80967465-d751-448a-9d06-2be4c685f53c button.colab-df-convert');\n",
              "        buttonEl.style.display =\n",
              "          google.colab.kernel.accessAllowed ? 'block' : 'none';\n",
              "\n",
              "        async function convertToInteractive(key) {\n",
              "          const element = document.querySelector('#df-80967465-d751-448a-9d06-2be4c685f53c');\n",
              "          const dataTable =\n",
              "            await google.colab.kernel.invokeFunction('convertToInteractive',\n",
              "                                                     [key], {});\n",
              "          if (!dataTable) return;\n",
              "\n",
              "          const docLinkHtml = 'Like what you see? Visit the ' +\n",
              "            '<a target=\"_blank\" href=https://colab.research.google.com/notebooks/data_table.ipynb>data table notebook</a>'\n",
              "            + ' to learn more about interactive tables.';\n",
              "          element.innerHTML = '';\n",
              "          dataTable['output_type'] = 'display_data';\n",
              "          await google.colab.output.renderOutput(dataTable, element);\n",
              "          const docLink = document.createElement('div');\n",
              "          docLink.innerHTML = docLinkHtml;\n",
              "          element.appendChild(docLink);\n",
              "        }\n",
              "      </script>\n",
              "    </div>\n",
              "  </div>\n",
              "  "
            ]
          },
          "metadata": {},
          "execution_count": 9
        }
      ]
    },
    {
      "cell_type": "code",
      "source": [
        "fig, ax = plt.subplots(1, 2)\n",
        "data[\"Segmentation\"].value_counts().plot.bar(color=\"gray\", ax=ax[0])\n",
        "data[\"Segmentation\"].value_counts().plot.pie(autopct='%1.1f%%',shadow=True,textprops={\"fontsize\": 10},ax=ax[1])\n",
        "fig.suptitle(\"Segmentation Frequency\", fontsize=15)\n",
        "plt.xticks(rotation=90)\n",
        "plt.yticks(rotation=45)"
      ],
      "metadata": {
        "colab": {
          "base_uri": "https://localhost:8080/",
          "height": 310
        },
        "id": "mznFYxvWyycP",
        "outputId": "8da7aaa6-2934-44bb-9ce5-3fceaf4f0d08"
      },
      "id": "mznFYxvWyycP",
      "execution_count": 10,
      "outputs": [
        {
          "output_type": "execute_result",
          "data": {
            "text/plain": [
              "(array([], dtype=float64), <a list of 0 Text major ticklabel objects>)"
            ]
          },
          "metadata": {},
          "execution_count": 10
        },
        {
          "output_type": "display_data",
          "data": {
            "text/plain": [
              "<Figure size 432x288 with 2 Axes>"
            ],
            "image/png": "[encoded data removed]"
          },
          "metadata": {
            "needs_background": "light"
          }
        }
      ]
    },
    {
      "cell_type": "code",
      "source": [
        "# Based On Gender\n",
        "gender_based = pd.pivot_table(data,values='ID',index=['Gender'],columns=['Segmentation'],aggfunc=np.count_nonzero)"
      ],
      "metadata": {
        "id": "V-wHgJDzyx_v"
      },
      "id": "V-wHgJDzyx_v",
      "execution_count": 11,
      "outputs": []
    },
    {
      "cell_type": "code",
      "source": [
        "gender_based"
      ],
      "metadata": {
        "colab": {
          "base_uri": "https://localhost:8080/",
          "height": 143
        },
        "id": "OUSP8Ig7zEOH",
        "outputId": "585dd59a-ef60-4434-a517-9c22ebf72bf3"
      },
      "id": "OUSP8Ig7zEOH",
      "execution_count": 12,
      "outputs": [
        {
          "output_type": "execute_result",
          "data": {
            "text/plain": [
              "Segmentation     A     B     C     D\n",
              "Gender                              \n",
              "Female        1302  1098  1145  1309\n",
              "Male          1516  1310  1297  1718"
            ],
            "text/html": [
              "\n",
              "  <div id=\"df-8c54b236-f4cc-4598-8c50-92a7f5cedab3\">\n",
              "    <div class=\"colab-df-container\">\n",
              "      <div>\n",
              "<style scoped>\n",
              "    .dataframe tbody tr th:only-of-type {\n",
              "        vertical-align: middle;\n",
              "    }\n",
              "\n",
              "    .dataframe tbody tr th {\n",
              "        vertical-align: top;\n",
              "    }\n",
              "\n",
              "    .dataframe thead th {\n",
              "        text-align: right;\n",
              "    }\n",
              "</style>\n",
              "<table border=\"1\" class=\"dataframe\">\n",
              "  <thead>\n",
              "    <tr style=\"text-align: right;\">\n",
              "      <th>Segmentation</th>\n",
              "      <th>A</th>\n",
              "      <th>B</th>\n",
              "      <th>C</th>\n",
              "      <th>D</th>\n",
              "    </tr>\n",
              "    <tr>\n",
              "      <th>Gender</th>\n",
              "      <th></th>\n",
              "      <th></th>\n",
              "      <th></th>\n",
              "      <th></th>\n",
              "    </tr>\n",
              "  </thead>\n",
              "  <tbody>\n",
              "    <tr>\n",
              "      <th>Female</th>\n",
              "      <td>1302</td>\n",
              "      <td>1098</td>\n",
              "      <td>1145</td>\n",
              "      <td>1309</td>\n",
              "    </tr>\n",
              "    <tr>\n",
              "      <th>Male</th>\n",
              "      <td>1516</td>\n",
              "      <td>1310</td>\n",
              "      <td>1297</td>\n",
              "      <td>1718</td>\n",
              "    </tr>\n",
              "  </tbody>\n",
              "</table>\n",
              "</div>\n",
              "      <button class=\"colab-df-convert\" onclick=\"convertToInteractive('df-8c54b236-f4cc-4598-8c50-92a7f5cedab3')\"\n",
              "              title=\"Convert this dataframe to an interactive table.\"\n",
              "              style=\"display:none;\">\n",
              "        \n",
              "  <svg xmlns=\"http://www.w3.org/2000/svg\" height=\"24px\"viewBox=\"0 0 24 24\"\n",
              "       width=\"24px\">\n",
              "    <path d=\"M0 0h24v24H0V0z\" fill=\"none\"/>\n",
              "    <path d=\"M18.56 5.44l.94 2.06.94-2.06 2.06-.94-2.06-.94-.94-2.06-.94 2.06-2.06.94zm-11 1L8.5 8.5l.94-2.06 2.06-.94-2.06-.94L8.5 2.5l-.94 2.06-2.06.94zm10 10l.94 2.06.94-2.06 2.06-.94-2.06-.94-.94-2.06-.94 2.06-2.06.94z\"/><path d=\"M17.41 7.96l-1.37-1.37c-.4-.4-.92-.59-1.43-.59-.52 0-1.04.2-1.43.59L10.3 9.45l-7.72 7.72c-.78.78-.78 2.05 0 2.83L4 21.41c.39.39.9.59 1.41.59.51 0 1.02-.2 1.41-.59l7.78-7.78 2.81-2.81c.8-.78.8-2.07 0-2.86zM5.41 20L4 18.59l7.72-7.72 1.47 1.35L5.41 20z\"/>\n",
              "  </svg>\n",
              "      </button>\n",
              "      \n",
              "  <style>\n",
              "    .colab-df-container {\n",
              "      display:flex;\n",
              "      flex-wrap:wrap;\n",
              "      gap: 12px;\n",
              "    }\n",
              "\n",
              "    .colab-df-convert {\n",
              "      background-color: #E8F0FE;\n",
              "      border: none;\n",
              "      border-radius: 50%;\n",
              "      cursor: pointer;\n",
              "      display: none;\n",
              "      fill: #1967D2;\n",
              "      height: 32px;\n",
              "      padding: 0 0 0 0;\n",
              "      width: 32px;\n",
              "    }\n",
              "\n",
              "    .colab-df-convert:hover {\n",
              "      background-color: #E2EBFA;\n",
              "      box-shadow: 0px 1px 2px rgba(60, 64, 67, 0.3), 0px 1px 3px 1px rgba(60, 64, 67, 0.15);\n",
              "      fill: #174EA6;\n",
              "    }\n",
              "\n",
              "    [theme=dark] .colab-df-convert {\n",
              "      background-color: #3B4455;\n",
              "      fill: #D2E3FC;\n",
              "    }\n",
              "\n",
              "    [theme=dark] .colab-df-convert:hover {\n",
              "      background-color: #434B5C;\n",
              "      box-shadow: 0px 1px 3px 1px rgba(0, 0, 0, 0.15);\n",
              "      filter: drop-shadow(0px 1px 2px rgba(0, 0, 0, 0.3));\n",
              "      fill: #FFFFFF;\n",
              "    }\n",
              "  </style>\n",
              "\n",
              "      <script>\n",
              "        const buttonEl =\n",
              "          document.querySelector('#df-8c54b236-f4cc-4598-8c50-92a7f5cedab3 button.colab-df-convert');\n",
              "        buttonEl.style.display =\n",
              "          google.colab.kernel.accessAllowed ? 'block' : 'none';\n",
              "\n",
              "        async function convertToInteractive(key) {\n",
              "          const element = document.querySelector('#df-8c54b236-f4cc-4598-8c50-92a7f5cedab3');\n",
              "          const dataTable =\n",
              "            await google.colab.kernel.invokeFunction('convertToInteractive',\n",
              "                                                     [key], {});\n",
              "          if (!dataTable) return;\n",
              "\n",
              "          const docLinkHtml = 'Like what you see? Visit the ' +\n",
              "            '<a target=\"_blank\" href=https://colab.research.google.com/notebooks/data_table.ipynb>data table notebook</a>'\n",
              "            + ' to learn more about interactive tables.';\n",
              "          element.innerHTML = '';\n",
              "          dataTable['output_type'] = 'display_data';\n",
              "          await google.colab.output.renderOutput(dataTable, element);\n",
              "          const docLink = document.createElement('div');\n",
              "          docLink.innerHTML = docLinkHtml;\n",
              "          element.appendChild(docLink);\n",
              "        }\n",
              "      </script>\n",
              "    </div>\n",
              "  </div>\n",
              "  "
            ]
          },
          "metadata": {},
          "execution_count": 12
        }
      ]
    },
    {
      "cell_type": "code",
      "execution_count": 13,
      "id": "D4E5HvhauSI8",
      "metadata": {
        "id": "D4E5HvhauSI8"
      },
      "outputs": [],
      "source": [
        "data = data.drop('ID', axis =1 )"
      ]
    },
    {
      "cell_type": "code",
      "execution_count": 14,
      "id": "Si98wZHpwrj8",
      "metadata": {
        "id": "Si98wZHpwrj8"
      },
      "outputs": [],
      "source": [
        "#Filling nans with the mean \n",
        "mean_value_1 = data['Family_Size'].mean()\n",
        "data['Family_Size'].fillna(value = mean_value_1,  inplace=True)\n"
      ]
    },
    {
      "cell_type": "code",
      "execution_count": 15,
      "id": "v-ezJdxFwrhe",
      "metadata": {
        "id": "v-ezJdxFwrhe"
      },
      "outputs": [],
      "source": [
        "#Filling nans with the mean \n",
        "mean_value_2 = data['Work_Experience'].mean()\n",
        "data['Work_Experience'].fillna(value = mean_value_2,  inplace=True)\n"
      ]
    },
    {
      "cell_type": "code",
      "execution_count": 16,
      "id": "0GdyJ7jextxU",
      "metadata": {
        "colab": {
          "base_uri": "https://localhost:8080/"
        },
        "id": "0GdyJ7jextxU",
        "outputId": "9a505745-3320-4e93-d2c7-3e91b6929ec0"
      },
      "outputs": [
        {
          "output_type": "execute_result",
          "data": {
            "text/plain": [
              "Gender             0\n",
              "Ever_Married       0\n",
              "Age                0\n",
              "Graduated          0\n",
              "Profession         0\n",
              "Work_Experience    0\n",
              "Spending_Score     0\n",
              "Family_Size        0\n",
              "Var_1              0\n",
              "Segmentation       0\n",
              "dtype: int64"
            ]
          },
          "metadata": {},
          "execution_count": 16
        }
      ],
      "source": [
        "#Dropping all nans as they are not numeric and cant be replaced by nans or 0s\n",
        "data.dropna(axis=0,inplace=True)\n",
        "data.isnull().sum()"
      ]
    },
    {
      "cell_type": "code",
      "execution_count": 17,
      "id": "h9hdEQ26wre7",
      "metadata": {
        "id": "h9hdEQ26wre7"
      },
      "outputs": [],
      "source": [
        "#Gettting binary form of some columns\n",
        "\n",
        "data[\"Ever_Married\"] = label_binarize(data[\"Ever_Married\"], classes = [\"Yes\", \"No\"])\n",
        "data[\"Graduated\"] = label_binarize(data[\"Graduated\"], classes = [\"Yes\", \"No\"])\n",
        "data[\"Gender\"] = label_binarize(data[\"Gender\"], classes = [\"Male\", \"Female\"])\n"
      ]
    },
    {
      "cell_type": "code",
      "execution_count": 18,
      "id": "NwmEm_lKwrcp",
      "metadata": {
        "colab": {
          "base_uri": "https://localhost:8080/",
          "height": 423
        },
        "id": "NwmEm_lKwrcp",
        "outputId": "06f5565a-f947-4b47-8d43-2599f15e888f"
      },
      "outputs": [
        {
          "output_type": "execute_result",
          "data": {
            "text/plain": [
              "      Gender  Ever_Married  Age  Graduated     Profession  Work_Experience  \\\n",
              "0          0             1   22          1     Healthcare         1.000000   \n",
              "1          1             0   38          0       Engineer         2.619777   \n",
              "2          1             0   67          0       Engineer         1.000000   \n",
              "3          0             0   67          0         Lawyer         0.000000   \n",
              "4          1             0   40          0  Entertainment         2.619777   \n",
              "...      ...           ...  ...        ...            ...              ...   \n",
              "2622       0             1   29          1     Healthcare         9.000000   \n",
              "2623       1             1   35          0         Doctor         1.000000   \n",
              "2624       1             1   53          0  Entertainment         2.619777   \n",
              "2625       0             0   47          0      Executive         1.000000   \n",
              "2626       1             1   43          0     Healthcare         9.000000   \n",
              "\n",
              "     Spending_Score  Family_Size  Var_1 Segmentation  \n",
              "0               Low          4.0  Cat_4            D  \n",
              "1           Average          3.0  Cat_4            A  \n",
              "2               Low          1.0  Cat_6            B  \n",
              "3              High          2.0  Cat_6            B  \n",
              "4              High          6.0  Cat_6            A  \n",
              "...             ...          ...    ...          ...  \n",
              "2622            Low          4.0  Cat_6            B  \n",
              "2623            Low          1.0  Cat_6            A  \n",
              "2624            Low          2.0  Cat_6            C  \n",
              "2625           High          5.0  Cat_4            C  \n",
              "2626            Low          3.0  Cat_7            A  \n",
              "\n",
              "[10157 rows x 10 columns]"
            ],
            "text/html": [
              "\n",
              "  <div id=\"df-5859f05e-7ab5-49e6-b034-1beec2eaa6ba\">\n",
              "    <div class=\"colab-df-container\">\n",
              "      <div>\n",
              "<style scoped>\n",
              "    .dataframe tbody tr th:only-of-type {\n",
              "        vertical-align: middle;\n",
              "    }\n",
              "\n",
              "    .dataframe tbody tr th {\n",
              "        vertical-align: top;\n",
              "    }\n",
              "\n",
              "    .dataframe thead th {\n",
              "        text-align: right;\n",
              "    }\n",
              "</style>\n",
              "<table border=\"1\" class=\"dataframe\">\n",
              "  <thead>\n",
              "    <tr style=\"text-align: right;\">\n",
              "      <th></th>\n",
              "      <th>Gender</th>\n",
              "      <th>Ever_Married</th>\n",
              "      <th>Age</th>\n",
              "      <th>Graduated</th>\n",
              "      <th>Profession</th>\n",
              "      <th>Work_Experience</th>\n",
              "      <th>Spending_Score</th>\n",
              "      <th>Family_Size</th>\n",
              "      <th>Var_1</th>\n",
              "      <th>Segmentation</th>\n",
              "    </tr>\n",
              "  </thead>\n",
              "  <tbody>\n",
              "    <tr>\n",
              "      <th>0</th>\n",
              "      <td>0</td>\n",
              "      <td>1</td>\n",
              "      <td>22</td>\n",
              "      <td>1</td>\n",
              "      <td>Healthcare</td>\n",
              "      <td>1.000000</td>\n",
              "      <td>Low</td>\n",
              "      <td>4.0</td>\n",
              "      <td>Cat_4</td>\n",
              "      <td>D</td>\n",
              "    </tr>\n",
              "    <tr>\n",
              "      <th>1</th>\n",
              "      <td>1</td>\n",
              "      <td>0</td>\n",
              "      <td>38</td>\n",
              "      <td>0</td>\n",
              "      <td>Engineer</td>\n",
              "      <td>2.619777</td>\n",
              "      <td>Average</td>\n",
              "      <td>3.0</td>\n",
              "      <td>Cat_4</td>\n",
              "      <td>A</td>\n",
              "    </tr>\n",
              "    <tr>\n",
              "      <th>2</th>\n",
              "      <td>1</td>\n",
              "      <td>0</td>\n",
              "      <td>67</td>\n",
              "      <td>0</td>\n",
              "      <td>Engineer</td>\n",
              "      <td>1.000000</td>\n",
              "      <td>Low</td>\n",
              "      <td>1.0</td>\n",
              "      <td>Cat_6</td>\n",
              "      <td>B</td>\n",
              "    </tr>\n",
              "    <tr>\n",
              "      <th>3</th>\n",
              "      <td>0</td>\n",
              "      <td>0</td>\n",
              "      <td>67</td>\n",
              "      <td>0</td>\n",
              "      <td>Lawyer</td>\n",
              "      <td>0.000000</td>\n",
              "      <td>High</td>\n",
              "      <td>2.0</td>\n",
              "      <td>Cat_6</td>\n",
              "      <td>B</td>\n",
              "    </tr>\n",
              "    <tr>\n",
              "      <th>4</th>\n",
              "      <td>1</td>\n",
              "      <td>0</td>\n",
              "      <td>40</td>\n",
              "      <td>0</td>\n",
              "      <td>Entertainment</td>\n",
              "      <td>2.619777</td>\n",
              "      <td>High</td>\n",
              "      <td>6.0</td>\n",
              "      <td>Cat_6</td>\n",
              "      <td>A</td>\n",
              "    </tr>\n",
              "    <tr>\n",
              "      <th>...</th>\n",
              "      <td>...</td>\n",
              "      <td>...</td>\n",
              "      <td>...</td>\n",
              "      <td>...</td>\n",
              "      <td>...</td>\n",
              "      <td>...</td>\n",
              "      <td>...</td>\n",
              "      <td>...</td>\n",
              "      <td>...</td>\n",
              "      <td>...</td>\n",
              "    </tr>\n",
              "    <tr>\n",
              "      <th>2622</th>\n",
              "      <td>0</td>\n",
              "      <td>1</td>\n",
              "      <td>29</td>\n",
              "      <td>1</td>\n",
              "      <td>Healthcare</td>\n",
              "      <td>9.000000</td>\n",
              "      <td>Low</td>\n",
              "      <td>4.0</td>\n",
              "      <td>Cat_6</td>\n",
              "      <td>B</td>\n",
              "    </tr>\n",
              "    <tr>\n",
              "      <th>2623</th>\n",
              "      <td>1</td>\n",
              "      <td>1</td>\n",
              "      <td>35</td>\n",
              "      <td>0</td>\n",
              "      <td>Doctor</td>\n",
              "      <td>1.000000</td>\n",
              "      <td>Low</td>\n",
              "      <td>1.0</td>\n",
              "      <td>Cat_6</td>\n",
              "      <td>A</td>\n",
              "    </tr>\n",
              "    <tr>\n",
              "      <th>2624</th>\n",
              "      <td>1</td>\n",
              "      <td>1</td>\n",
              "      <td>53</td>\n",
              "      <td>0</td>\n",
              "      <td>Entertainment</td>\n",
              "      <td>2.619777</td>\n",
              "      <td>Low</td>\n",
              "      <td>2.0</td>\n",
              "      <td>Cat_6</td>\n",
              "      <td>C</td>\n",
              "    </tr>\n",
              "    <tr>\n",
              "      <th>2625</th>\n",
              "      <td>0</td>\n",
              "      <td>0</td>\n",
              "      <td>47</td>\n",
              "      <td>0</td>\n",
              "      <td>Executive</td>\n",
              "      <td>1.000000</td>\n",
              "      <td>High</td>\n",
              "      <td>5.0</td>\n",
              "      <td>Cat_4</td>\n",
              "      <td>C</td>\n",
              "    </tr>\n",
              "    <tr>\n",
              "      <th>2626</th>\n",
              "      <td>1</td>\n",
              "      <td>1</td>\n",
              "      <td>43</td>\n",
              "      <td>0</td>\n",
              "      <td>Healthcare</td>\n",
              "      <td>9.000000</td>\n",
              "      <td>Low</td>\n",
              "      <td>3.0</td>\n",
              "      <td>Cat_7</td>\n",
              "      <td>A</td>\n",
              "    </tr>\n",
              "  </tbody>\n",
              "</table>\n",
              "<p>10157 rows × 10 columns</p>\n",
              "</div>\n",
              "      <button class=\"colab-df-convert\" onclick=\"convertToInteractive('df-5859f05e-7ab5-49e6-b034-1beec2eaa6ba')\"\n",
              "              title=\"Convert this dataframe to an interactive table.\"\n",
              "              style=\"display:none;\">\n",
              "        \n",
              "  <svg xmlns=\"http://www.w3.org/2000/svg\" height=\"24px\"viewBox=\"0 0 24 24\"\n",
              "       width=\"24px\">\n",
              "    <path d=\"M0 0h24v24H0V0z\" fill=\"none\"/>\n",
              "    <path d=\"M18.56 5.44l.94 2.06.94-2.06 2.06-.94-2.06-.94-.94-2.06-.94 2.06-2.06.94zm-11 1L8.5 8.5l.94-2.06 2.06-.94-2.06-.94L8.5 2.5l-.94 2.06-2.06.94zm10 10l.94 2.06.94-2.06 2.06-.94-2.06-.94-.94-2.06-.94 2.06-2.06.94z\"/><path d=\"M17.41 7.96l-1.37-1.37c-.4-.4-.92-.59-1.43-.59-.52 0-1.04.2-1.43.59L10.3 9.45l-7.72 7.72c-.78.78-.78 2.05 0 2.83L4 21.41c.39.39.9.59 1.41.59.51 0 1.02-.2 1.41-.59l7.78-7.78 2.81-2.81c.8-.78.8-2.07 0-2.86zM5.41 20L4 18.59l7.72-7.72 1.47 1.35L5.41 20z\"/>\n",
              "  </svg>\n",
              "      </button>\n",
              "      \n",
              "  <style>\n",
              "    .colab-df-container {\n",
              "      display:flex;\n",
              "      flex-wrap:wrap;\n",
              "      gap: 12px;\n",
              "    }\n",
              "\n",
              "    .colab-df-convert {\n",
              "      background-color: #E8F0FE;\n",
              "      border: none;\n",
              "      border-radius: 50%;\n",
              "      cursor: pointer;\n",
              "      display: none;\n",
              "      fill: #1967D2;\n",
              "      height: 32px;\n",
              "      padding: 0 0 0 0;\n",
              "      width: 32px;\n",
              "    }\n",
              "\n",
              "    .colab-df-convert:hover {\n",
              "      background-color: #E2EBFA;\n",
              "      box-shadow: 0px 1px 2px rgba(60, 64, 67, 0.3), 0px 1px 3px 1px rgba(60, 64, 67, 0.15);\n",
              "      fill: #174EA6;\n",
              "    }\n",
              "\n",
              "    [theme=dark] .colab-df-convert {\n",
              "      background-color: #3B4455;\n",
              "      fill: #D2E3FC;\n",
              "    }\n",
              "\n",
              "    [theme=dark] .colab-df-convert:hover {\n",
              "      background-color: #434B5C;\n",
              "      box-shadow: 0px 1px 3px 1px rgba(0, 0, 0, 0.15);\n",
              "      filter: drop-shadow(0px 1px 2px rgba(0, 0, 0, 0.3));\n",
              "      fill: #FFFFFF;\n",
              "    }\n",
              "  </style>\n",
              "\n",
              "      <script>\n",
              "        const buttonEl =\n",
              "          document.querySelector('#df-5859f05e-7ab5-49e6-b034-1beec2eaa6ba button.colab-df-convert');\n",
              "        buttonEl.style.display =\n",
              "          google.colab.kernel.accessAllowed ? 'block' : 'none';\n",
              "\n",
              "        async function convertToInteractive(key) {\n",
              "          const element = document.querySelector('#df-5859f05e-7ab5-49e6-b034-1beec2eaa6ba');\n",
              "          const dataTable =\n",
              "            await google.colab.kernel.invokeFunction('convertToInteractive',\n",
              "                                                     [key], {});\n",
              "          if (!dataTable) return;\n",
              "\n",
              "          const docLinkHtml = 'Like what you see? Visit the ' +\n",
              "            '<a target=\"_blank\" href=https://colab.research.google.com/notebooks/data_table.ipynb>data table notebook</a>'\n",
              "            + ' to learn more about interactive tables.';\n",
              "          element.innerHTML = '';\n",
              "          dataTable['output_type'] = 'display_data';\n",
              "          await google.colab.output.renderOutput(dataTable, element);\n",
              "          const docLink = document.createElement('div');\n",
              "          docLink.innerHTML = docLinkHtml;\n",
              "          element.appendChild(docLink);\n",
              "        }\n",
              "      </script>\n",
              "    </div>\n",
              "  </div>\n",
              "  "
            ]
          },
          "metadata": {},
          "execution_count": 18
        }
      ],
      "source": [
        "data"
      ]
    },
    {
      "cell_type": "code",
      "execution_count": 19,
      "id": "9GydNyRcy2sm",
      "metadata": {
        "id": "9GydNyRcy2sm"
      },
      "outputs": [],
      "source": [
        "X = data.drop('Segmentation', axis= 1)\n",
        "y = data.Segmentation"
      ]
    },
    {
      "cell_type": "code",
      "execution_count": 20,
      "id": "W6gVrEKEy2oI",
      "metadata": {
        "id": "W6gVrEKEy2oI"
      },
      "outputs": [],
      "source": [
        "encoder = ce.OneHotEncoder(cols=['Spending_Score', 'Profession', 'Var_1'])\n",
        "encoder.fit(X, y)\n",
        "X_cleaned = encoder.transform(X)"
      ]
    },
    {
      "cell_type": "code",
      "execution_count": 21,
      "id": "6fb4yw5j9Ncv",
      "metadata": {
        "id": "6fb4yw5j9Ncv"
      },
      "outputs": [],
      "source": [
        "label_encoder = LabelEncoder()\n",
        "y = label_encoder.fit_transform(y)"
      ]
    },
    {
      "cell_type": "code",
      "execution_count": 22,
      "id": "9kjovatNy2hO",
      "metadata": {
        "id": "9kjovatNy2hO"
      },
      "outputs": [],
      "source": [
        "X_train, X_test, y_train, y_test = train_test_split(X_cleaned, y, test_size= 0.33, random_state=0)"
      ]
    },
    {
      "cell_type": "markdown",
      "id": "GDUSJ9qU4bqE",
      "metadata": {
        "id": "GDUSJ9qU4bqE"
      },
      "source": [
        "## Feature Importancde including Permutation Importance and SHAP"
      ]
    },
    {
      "cell_type": "code",
      "execution_count": 23,
      "id": "mD_2Wxy4KrxQ",
      "metadata": {
        "colab": {
          "base_uri": "https://localhost:8080/"
        },
        "id": "mD_2Wxy4KrxQ",
        "outputId": "aff739c6-1641-43fe-89f2-75bb7b57abd0"
      },
      "outputs": [
        {
          "output_type": "execute_result",
          "data": {
            "text/plain": [
              "XGBClassifier(objective='multi:softprob')"
            ]
          },
          "metadata": {},
          "execution_count": 23
        }
      ],
      "source": [
        "model = XGBClassifier()\n",
        "model.fit(X_train, y_train)"
      ]
    },
    {
      "cell_type": "code",
      "execution_count": 24,
      "id": "mrQx3C23O03S",
      "metadata": {
        "colab": {
          "base_uri": "https://localhost:8080/"
        },
        "id": "mrQx3C23O03S",
        "outputId": "5a527260-357c-40ab-a6d5-72992e6b5918"
      },
      "outputs": [
        {
          "output_type": "stream",
          "name": "stdout",
          "text": [
            "['Spending_Score_1', 0.21692953]\n",
            "['Profession_5', 0.10265682]\n",
            "['Age', 0.09128228]\n",
            "['Graduated', 0.07122505]\n",
            "['Profession_1', 0.06546731]\n",
            "['Profession_9', 0.052575573]\n",
            "['Spending_Score_2', 0.044738766]\n",
            "['Profession_4', 0.03525574]\n",
            "['Var_1_1', 0.030428218]\n",
            "['Ever_Married', 0.030411763]\n",
            "['Profession_2', 0.026029663]\n",
            "['Var_1_2', 0.021766126]\n",
            "['Profession_7', 0.021691551]\n",
            "['Var_1_5', 0.021510277]\n",
            "['Family_Size', 0.021445336]\n",
            "['Gender', 0.019241342]\n",
            "['Var_1_7', 0.017203564]\n",
            "['Spending_Score_3', 0.01658984]\n",
            "['Work_Experience', 0.016531507]\n",
            "['Profession_6', 0.01575708]\n",
            "['Var_1_3', 0.0140555985]\n",
            "['Profession_8', 0.01382838]\n",
            "['Var_1_6', 0.013088797]\n",
            "['Var_1_4', 0.010474011]\n",
            "['Profession_3', 0.0098159155]\n"
          ]
        }
      ],
      "source": [
        "sorted_idx = np.argsort(model.feature_importances_)[::-1]\n",
        "for index in sorted_idx:\n",
        "    print([X_train.columns[index], model.feature_importances_[index]]) "
      ]
    },
    {
      "cell_type": "code",
      "execution_count": 25,
      "id": "HH2tBVU0ORiq",
      "metadata": {
        "colab": {
          "base_uri": "https://localhost:8080/",
          "height": 295
        },
        "id": "HH2tBVU0ORiq",
        "outputId": "ac639961-e40b-411a-b663-25a8e692a15b"
      },
      "outputs": [
        {
          "output_type": "display_data",
          "data": {
            "text/plain": [
              "<Figure size 432x288 with 1 Axes>"
            ],
            "image/png": "[encoded data removed]"
          },
          "metadata": {
            "needs_background": "light"
          }
        }
      ],
      "source": [
        "plot_importance(model, max_num_features = 25,  )\n",
        "\n",
        "plt.show()"
      ]
    },
    {
      "cell_type": "markdown",
      "id": "t47tEOJ-B5ga",
      "metadata": {
        "id": "t47tEOJ-B5ga"
      },
      "source": [
        "Permutation Feature Importance \n"
      ]
    },
    {
      "cell_type": "code",
      "execution_count": 26,
      "id": "RtJT-hnVQnJp",
      "metadata": {
        "colab": {
          "base_uri": "https://localhost:8080/"
        },
        "id": "RtJT-hnVQnJp",
        "outputId": "7c2ce535-a4a4-4ac5-f79b-52fbebf55c31"
      },
      "outputs": [
        {
          "output_type": "execute_result",
          "data": {
            "text/plain": [
              "XGBClassifier(objective='multi:softprob')"
            ]
          },
          "metadata": {},
          "execution_count": 26
        }
      ],
      "source": [
        "model_1 = XGBClassifier(n_estimators = 100)\n",
        "model_1.fit(X_train, y_train)"
      ]
    },
    {
      "cell_type": "code",
      "execution_count": 27,
      "id": "xU9JRy0lQnH5",
      "metadata": {
        "id": "xU9JRy0lQnH5"
      },
      "outputs": [],
      "source": [
        "perm_importance = permutation_importance(model_1, X_test, y_test)"
      ]
    },
    {
      "cell_type": "code",
      "execution_count": 28,
      "id": "t60pHix5Suny",
      "metadata": {
        "colab": {
          "base_uri": "https://localhost:8080/"
        },
        "id": "t60pHix5Suny",
        "outputId": "8e81de4c-38b3-4bba-89e2-bd194bd9cb1f"
      },
      "outputs": [
        {
          "output_type": "stream",
          "name": "stdout",
          "text": [
            "['Profession_8', -0.0016109785202863991]\n",
            "['Var_1_1', -0.0002983293556085953]\n",
            "['Ever_Married', -0.00023866348448686736]\n",
            "['Var_1_6', -0.00017899761336515052]\n",
            "['Var_1_4', 5.966587112171684e-05]\n",
            "['Var_1_5', 0.00011933174224343368]\n",
            "['Var_1_3', 0.0002983293556085842]\n",
            "['Spending_Score_3', 0.0004176610978520179]\n",
            "['Var_1_7', 0.0008353221957040468]\n",
            "['Profession_3', 0.0009546539379474917]\n",
            "['Gender', 0.0010143198090692084]\n",
            "['Profession_6', 0.0012529832935560758]\n",
            "['Profession_7', 0.0018496420047732776]\n",
            "['Profession_2', 0.0028639618138424972]\n",
            "['Var_1_2', 0.0034606205250596765]\n",
            "['Profession_9', 0.003699284009546533]\n",
            "['Profession_4', 0.0038782816229116944]\n",
            "['Work_Experience', 0.004474940334128874]\n",
            "['Profession_1', 0.006503579952267313]\n",
            "['Spending_Score_2', 0.008711217183770891]\n",
            "['Family_Size', 0.010023866348448696]\n",
            "['Graduated', 0.014140811455847247]\n",
            "['Profession_5', 0.024701670644391403]\n",
            "['Spending_Score_1', 0.031861575178997625]\n",
            "['Age', 0.06957040572792364]\n"
          ]
        }
      ],
      "source": [
        "sorted_idx = perm_importance.importances_mean.argsort()\n",
        "for index in sorted_idx:\n",
        "    print([X_train.columns[index], perm_importance.importances_mean[index]]) "
      ]
    },
    {
      "cell_type": "code",
      "execution_count": 29,
      "id": "2XjLe0GaBXEQ",
      "metadata": {
        "colab": {
          "base_uri": "https://localhost:8080/",
          "height": 408
        },
        "id": "2XjLe0GaBXEQ",
        "outputId": "7fdc8623-47d0-47f7-d255-b1d5a976a356"
      },
      "outputs": [
        {
          "output_type": "execute_result",
          "data": {
            "text/plain": [
              "Text(0.5, 1.0, 'Permutation Importance')"
            ]
          },
          "metadata": {},
          "execution_count": 29
        },
        {
          "output_type": "display_data",
          "data": {
            "text/plain": [
              "<Figure size 864x432 with 1 Axes>"
            ],
            "image/png": "[encoded data removed]"
          },
          "metadata": {
            "needs_background": "light"
          }
        }
      ],
      "source": [
        "perm_importance = permutation_importance(model_1, X_test, y_test)\n",
        "sorted_idx = perm_importance.importances_mean.argsort()\n",
        "fig = plt.figure(figsize=(12, 6))\n",
        "plt.barh(range(len(sorted_idx)), perm_importance.importances_mean[sorted_idx], align='center')\n",
        "plt.yticks(range(len(sorted_idx)), np.array(X_test.columns)[sorted_idx])\n",
        "plt.title('Permutation Importance')"
      ]
    },
    {
      "cell_type": "markdown",
      "id": "ArQvv5oDFYeG",
      "metadata": {
        "id": "ArQvv5oDFYeG"
      },
      "source": [
        "Shap\n"
      ]
    },
    {
      "cell_type": "code",
      "execution_count": 30,
      "id": "iirHqYf-B8l2",
      "metadata": {
        "id": "iirHqYf-B8l2"
      },
      "outputs": [],
      "source": [
        "explainer = shap.TreeExplainer(model)\n",
        "shap_values = explainer.shap_values(X_test)"
      ]
    },
    {
      "cell_type": "code",
      "execution_count": 31,
      "id": "Vq5Ks_LzB8jQ",
      "metadata": {
        "colab": {
          "base_uri": "https://localhost:8080/",
          "height": 581
        },
        "id": "Vq5Ks_LzB8jQ",
        "outputId": "5e464769-a6be-4dce-dd82-aa824e01b1c4"
      },
      "outputs": [
        {
          "output_type": "display_data",
          "data": {
            "text/plain": [
              "<Figure size 576x684 with 1 Axes>"
            ],
            "image/png": "[encoded data removed]"
          },
          "metadata": {
            "needs_background": "light"
          }
        }
      ],
      "source": [
        "shap.summary_plot(shap_values, X_test, plot_type=\"bar\")"
      ]
    },
    {
      "cell_type": "code",
      "execution_count": 32,
      "id": "CLYDUhKIPNnZ",
      "metadata": {
        "id": "CLYDUhKIPNnZ"
      },
      "outputs": [],
      "source": [
        "features_imp = ['Age', 'Spending_Score_1', 'Profession_5', 'Graduated', 'Profession_1', 'Family_Size', 'Spending_Score_2', 'Work_Experience', 'Profession_4', 'Var_1_1', 'Var_1_2', 'Profession_9', 'Profession_2', 'Gender', 'Ever_Married', 'Profession_6']"
      ]
    },
    {
      "cell_type": "code",
      "execution_count": 33,
      "id": "zO09frIZR_jR",
      "metadata": {
        "colab": {
          "base_uri": "https://localhost:8080/"
        },
        "id": "zO09frIZR_jR",
        "outputId": "20e769e0-050a-49c0-a6af-669667c8d52e"
      },
      "outputs": [
        {
          "output_type": "execute_result",
          "data": {
            "text/plain": [
              "['Age',\n",
              " 'Spending_Score_1',\n",
              " 'Profession_5',\n",
              " 'Graduated',\n",
              " 'Profession_1',\n",
              " 'Family_Size',\n",
              " 'Spending_Score_2',\n",
              " 'Work_Experience',\n",
              " 'Profession_4',\n",
              " 'Var_1_1',\n",
              " 'Var_1_2',\n",
              " 'Profession_9',\n",
              " 'Profession_2',\n",
              " 'Gender',\n",
              " 'Ever_Married',\n",
              " 'Profession_6']"
            ]
          },
          "metadata": {},
          "execution_count": 33
        }
      ],
      "source": [
        "features_imp"
      ]
    },
    {
      "cell_type": "code",
      "execution_count": 34,
      "id": "1rMADo4HPNg4",
      "metadata": {
        "id": "1rMADo4HPNg4"
      },
      "outputs": [],
      "source": [
        "train_imp = X_train[features_imp]\n",
        "test_imp = X_test[features_imp]"
      ]
    },
    {
      "cell_type": "code",
      "execution_count": 35,
      "id": "EV1KPOvgUP_2",
      "metadata": {
        "id": "EV1KPOvgUP_2"
      },
      "outputs": [],
      "source": [
        "# Saving train dataset \n",
        "train_imp.to_csv('TrainImportantVars.csv', index=False)"
      ]
    },
    {
      "cell_type": "code",
      "execution_count": 36,
      "id": "WTuCbBILUP9M",
      "metadata": {
        "id": "WTuCbBILUP9M"
      },
      "outputs": [],
      "source": [
        "#Saving train dataset \n",
        "test_imp.to_csv('TestImportantVars.csv', index=False)"
      ]
    },
    {
      "cell_type": "code",
      "execution_count": 37,
      "id": "r-HucLpa3O7F",
      "metadata": {
        "colab": {
          "base_uri": "https://localhost:8080/"
        },
        "id": "r-HucLpa3O7F",
        "outputId": "5f14329c-5b73-4f03-c3a5-f058c8b97f6a"
      },
      "outputs": [
        {
          "output_type": "execute_result",
          "data": {
            "text/plain": [
              "(6805,)"
            ]
          },
          "metadata": {},
          "execution_count": 37
        }
      ],
      "source": [
        "y_train.shape"
      ]
    },
    {
      "cell_type": "code",
      "execution_count": 38,
      "id": "DlScqrMvFkzt",
      "metadata": {
        "id": "DlScqrMvFkzt"
      },
      "outputs": [],
      "source": [
        "X_train = train_imp\n",
        "X_test = test_imp"
      ]
    },
    {
      "cell_type": "code",
      "source": [
        ""
      ],
      "metadata": {
        "id": "3-3t7khUVxiR"
      },
      "id": "3-3t7khUVxiR",
      "execution_count": 38,
      "outputs": []
    },
    {
      "cell_type": "code",
      "source": [
        "from sklearn.metrics import precision_score\n",
        "from sklearn.metrics import recall_score\n",
        "from sklearn.metrics import f1_score"
      ],
      "metadata": {
        "id": "TLpzTxvWV6l-"
      },
      "id": "TLpzTxvWV6l-",
      "execution_count": 39,
      "outputs": []
    },
    {
      "cell_type": "code",
      "source": [
        ""
      ],
      "metadata": {
        "id": "PRiIno-2WlQg"
      },
      "id": "PRiIno-2WlQg",
      "execution_count": 39,
      "outputs": []
    },
    {
      "cell_type": "code",
      "source": [
        "\n",
        "from sklearn import neighbors\n",
        "\n",
        "#Trying different neighbors\n",
        "n_neighbors = [1, 2, 3, 4, 5, 6, 7, 8, 9, 10, 11, 12, 13, 14, 15]\n",
        "print(\"Testing neighbors:\")\n",
        "for a in n_neighbors:\n",
        "    model_knn = neighbors.KNeighborsClassifier(n_neighbors=a).fit(X_train, y_train)\n",
        "    y_preds_train = model_knn.predict(X_train)\n",
        "    y_preds_test = model_knn.predict(X_test)\n",
        "    accuracy_train = accuracy_score(y_train, y_preds_train)\n",
        "    accuracy_test = accuracy_score(y_test, y_preds_test)\n",
        "    precision_train = precision_score(y_train, y_preds_train, average=\"weighted\")\n",
        "    precision_test = precision_score(y_test, y_preds_test, average=\"weighted\")\n",
        "    recall_train = recall_score(y_train, y_preds_train, average=\"weighted\")\n",
        "    recall_test = recall_score(y_test, y_preds_test, average=\"weighted\")\n",
        "    f1_train = f1_score(y_train, y_preds_train, average=\"weighted\")\n",
        "    f1_test = f1_score(y_test, y_preds_test, average=\"weighted\")\n",
        "    print(\"Train: Neighbors:{0:,.0f}, Accuracy:{1:,.3f}, Precision:{2:,.3f}, Recall:{3:,.3f}, F1:{4:,.3f}\".format(a, accuracy_train, precision_train, recall_train, f1_train))\n",
        "    print(\"Test : Neighbors:{0:,.0f}, Accuracy:{1:,.3f}, Precision:{2:,.3f}, Recall:{3:,.3f}, F1:{4:,.3f}\".format(a, accuracy_test, precision_test, recall_test, f1_test))\n",
        "print(\"\")\n"
      ],
      "metadata": {
        "colab": {
          "base_uri": "https://localhost:8080/"
        },
        "id": "p_dsY9F7VxhI",
        "outputId": "c95a4006-0915-4207-bcb2-c77f8c3b7a84"
      },
      "id": "p_dsY9F7VxhI",
      "execution_count": 40,
      "outputs": [
        {
          "output_type": "stream",
          "name": "stdout",
          "text": [
            "Testing neighbors:\n",
            "Train: Neighbors:1, Accuracy:0.945, Precision:0.945, Recall:0.945, F1:0.945\n",
            "Test : Neighbors:1, Accuracy:0.370, Precision:0.369, Recall:0.370, F1:0.369\n",
            "Train: Neighbors:2, Accuracy:0.684, Precision:0.750, Recall:0.684, F1:0.674\n",
            "Test : Neighbors:2, Accuracy:0.348, Precision:0.400, Recall:0.348, F1:0.349\n",
            "Train: Neighbors:3, Accuracy:0.648, Precision:0.670, Recall:0.648, F1:0.649\n",
            "Test : Neighbors:3, Accuracy:0.396, Precision:0.409, Recall:0.396, F1:0.396\n",
            "Train: Neighbors:4, Accuracy:0.621, Precision:0.631, Recall:0.621, F1:0.622\n",
            "Test : Neighbors:4, Accuracy:0.401, Precision:0.407, Recall:0.401, F1:0.401\n",
            "Train: Neighbors:5, Accuracy:0.602, Precision:0.612, Recall:0.602, F1:0.603\n",
            "Test : Neighbors:5, Accuracy:0.415, Precision:0.423, Recall:0.415, F1:0.416\n",
            "Train: Neighbors:6, Accuracy:0.581, Precision:0.591, Recall:0.581, F1:0.582\n",
            "Test : Neighbors:6, Accuracy:0.416, Precision:0.424, Recall:0.416, F1:0.416\n",
            "Train: Neighbors:7, Accuracy:0.566, Precision:0.571, Recall:0.566, F1:0.566\n",
            "Test : Neighbors:7, Accuracy:0.416, Precision:0.419, Recall:0.416, F1:0.415\n",
            "Train: Neighbors:8, Accuracy:0.555, Precision:0.560, Recall:0.555, F1:0.555\n",
            "Test : Neighbors:8, Accuracy:0.426, Precision:0.429, Recall:0.426, F1:0.425\n",
            "Train: Neighbors:9, Accuracy:0.544, Precision:0.548, Recall:0.544, F1:0.544\n",
            "Test : Neighbors:9, Accuracy:0.418, Precision:0.420, Recall:0.418, F1:0.416\n",
            "Train: Neighbors:10, Accuracy:0.536, Precision:0.539, Recall:0.536, F1:0.535\n",
            "Test : Neighbors:10, Accuracy:0.424, Precision:0.424, Recall:0.424, F1:0.422\n",
            "Train: Neighbors:11, Accuracy:0.531, Precision:0.533, Recall:0.531, F1:0.531\n",
            "Test : Neighbors:11, Accuracy:0.425, Precision:0.425, Recall:0.425, F1:0.422\n",
            "Train: Neighbors:12, Accuracy:0.527, Precision:0.528, Recall:0.527, F1:0.526\n",
            "Test : Neighbors:12, Accuracy:0.429, Precision:0.428, Recall:0.429, F1:0.426\n",
            "Train: Neighbors:13, Accuracy:0.521, Precision:0.523, Recall:0.521, F1:0.520\n",
            "Test : Neighbors:13, Accuracy:0.428, Precision:0.425, Recall:0.428, F1:0.425\n",
            "Train: Neighbors:14, Accuracy:0.520, Precision:0.520, Recall:0.520, F1:0.519\n",
            "Test : Neighbors:14, Accuracy:0.433, Precision:0.429, Recall:0.433, F1:0.429\n",
            "Train: Neighbors:15, Accuracy:0.515, Precision:0.514, Recall:0.515, F1:0.513\n",
            "Test : Neighbors:15, Accuracy:0.428, Precision:0.423, Recall:0.428, F1:0.423\n",
            "\n"
          ]
        }
      ]
    },
    {
      "cell_type": "markdown",
      "id": "O02ZPaiFYrqY",
      "metadata": {
        "id": "O02ZPaiFYrqY"
      },
      "source": [
        "### Parameter Tunning"
      ]
    },
    {
      "cell_type": "code",
      "execution_count": 41,
      "id": "FE8gPzJC2ZUy",
      "metadata": {
        "id": "FE8gPzJC2ZUy"
      },
      "outputs": [],
      "source": [
        "data_train = pd.read_csv(\"Train.csv\", sep=\",\")\n",
        "data_test = pd.read_csv(\"Test.csv\", sep=\",\")\n",
        "data = pd.concat([data_train, data_test])"
      ]
    },
    {
      "cell_type": "code",
      "execution_count": 42,
      "id": "E3ZTDePa2ZSk",
      "metadata": {
        "colab": {
          "base_uri": "https://localhost:8080/"
        },
        "id": "E3ZTDePa2ZSk",
        "outputId": "c39334b8-bb3c-4211-e445-550ef8c6b505"
      },
      "outputs": [
        {
          "output_type": "execute_result",
          "data": {
            "text/plain": [
              "ID                 0\n",
              "Gender             0\n",
              "Ever_Married       0\n",
              "Age                0\n",
              "Graduated          0\n",
              "Profession         0\n",
              "Work_Experience    0\n",
              "Spending_Score     0\n",
              "Family_Size        0\n",
              "Var_1              0\n",
              "Segmentation       0\n",
              "dtype: int64"
            ]
          },
          "metadata": {},
          "execution_count": 42
        }
      ],
      "source": [
        "data.dropna(axis=0,inplace=True)\n",
        "data.isnull().sum()"
      ]
    },
    {
      "cell_type": "code",
      "execution_count": 43,
      "id": "gecRamRqAaB6",
      "metadata": {
        "id": "gecRamRqAaB6"
      },
      "outputs": [],
      "source": [
        "#Gettting binary form of some columns\n",
        "\n",
        "data[\"Ever_Married\"] = label_binarize(data[\"Ever_Married\"], classes = [\"Yes\", \"No\"])\n",
        "data[\"Graduated\"] = label_binarize(data[\"Graduated\"], classes = [\"Yes\", \"No\"])\n",
        "data[\"Gender\"] = label_binarize(data[\"Gender\"], classes = [\"Male\", \"Female\"])"
      ]
    },
    {
      "cell_type": "code",
      "execution_count": 44,
      "id": "KAQUTpkn2ZQU",
      "metadata": {
        "id": "KAQUTpkn2ZQU"
      },
      "outputs": [],
      "source": [
        "X = data.drop('Segmentation', axis= 1)\n",
        "y = data.Segmentation"
      ]
    },
    {
      "cell_type": "code",
      "execution_count": 45,
      "id": "FY9PJH9b2ZNQ",
      "metadata": {
        "id": "FY9PJH9b2ZNQ"
      },
      "outputs": [],
      "source": [
        "encoder = ce.OneHotEncoder(cols=['Spending_Score', 'Profession', 'Var_1'])\n",
        "encoder.fit(X, y)\n",
        "X_cleaned = encoder.transform(X)"
      ]
    },
    {
      "cell_type": "code",
      "execution_count": 46,
      "id": "g88sFMYv2ZKX",
      "metadata": {
        "id": "g88sFMYv2ZKX"
      },
      "outputs": [],
      "source": [
        "label_encoder = LabelEncoder()\n",
        "y = label_encoder.fit_transform(y)\n"
      ]
    },
    {
      "cell_type": "code",
      "execution_count": 47,
      "id": "rhLtFpMY2ydG",
      "metadata": {
        "id": "rhLtFpMY2ydG"
      },
      "outputs": [],
      "source": [
        "X_train, X_test, y_train, y_test = train_test_split(X_cleaned, y, test_size= 0.33, random_state=0)"
      ]
    },
    {
      "cell_type": "code",
      "source": [
        "len = [0.1, 0.01, 0.001]\n",
        "for a in len:\n",
        "    model_xgbc = XGBClassifier(max_depth=5, n_estimators = 1000, learning_rate = a, objective=\"multi:softmax\", num_class=4, random_state=0).fit(X_cleaned, y)\n",
        "    y_preds_train = model_xgbc.predict(X_train)\n",
        "    y_preds_test = model_xgbc.predict(X_test)\n",
        "    accuracy_train = accuracy_score(y_train, y_preds_train)\n",
        "    accuracy_test = accuracy_score(y_test, y_preds_test)\n",
        "    precision_train = precision_score(y_train, y_preds_train, average=\"weighted\")\n",
        "    precision_test = precision_score(y_test, y_preds_test, average=\"weighted\")\n",
        "    recall_train = recall_score(y_train, y_preds_train, average=\"weighted\")\n",
        "    recall_test = recall_score(y_test, y_preds_test, average=\"weighted\")\n",
        "    f1_train = f1_score(y_train, y_preds_train, average=\"weighted\")\n",
        "    f1_test = f1_score(y_test, y_preds_test, average=\"weighted\")\n",
        "    print(\"Train: Learning_Score:{0:,.0f}, Accuracy:{1:,.3f}, Precision:{2:,.3f}, Recall:{3:,.3f}, F1:{4:,.3f}\".format(a, accuracy_train, precision_train, recall_train, f1_train))\n",
        "    print(\"Test : Learning_Score:{0:,.0f}, Accuracy:{1:,.3f}, Precision:{2:,.3f}, Recall:{3:,.3f}, F1:{4:,.3f}\".format(a, accuracy_test, precision_test, recall_test, f1_test))\n",
        "print(\"\")\n",
        "\n"
      ],
      "metadata": {
        "colab": {
          "base_uri": "https://localhost:8080/"
        },
        "id": "He70VYhzbAx9",
        "outputId": "a8d1c3a3-67cf-46e0-c7dd-ce530cd8ae14"
      },
      "id": "He70VYhzbAx9",
      "execution_count": 48,
      "outputs": [
        {
          "output_type": "stream",
          "name": "stdout",
          "text": [
            "Train: Learning_Score:0, Accuracy:0.858, Precision:0.858, Recall:0.858, F1:0.858\n",
            "Test : Learning_Score:0, Accuracy:0.859, Precision:0.860, Recall:0.859, F1:0.858\n",
            "Train: Learning_Score:0, Accuracy:0.604, Precision:0.601, Recall:0.604, F1:0.599\n",
            "Test : Learning_Score:0, Accuracy:0.599, Precision:0.600, Recall:0.599, F1:0.595\n",
            "Train: Learning_Score:0, Accuracy:0.509, Precision:0.497, Recall:0.509, F1:0.498\n",
            "Test : Learning_Score:0, Accuracy:0.505, Precision:0.494, Recall:0.505, F1:0.494\n",
            "\n"
          ]
        }
      ]
    },
    {
      "cell_type": "code",
      "source": [
        "#Choosing the best learning rate\n",
        "len = 0.1\n",
        "model_xgbc = XGBClassifier(max_depth=5, learning_rate = len, n_estimators = 1000, objective=\"multi:softmax\", num_class=4, random_state=0).fit(X_cleaned, y)\n",
        "y_preds_train = model_xgbc.predict(X_train)\n",
        "y_preds_test = model_xgbc.predict(X_test)\n",
        "accuracy_train = accuracy_score(y_train, y_preds_train)\n",
        "accuracy_test = accuracy_score(y_test, y_preds_test)\n",
        "precision_train = precision_score(y_train, y_preds_train, average=\"weighted\")\n",
        "precision_test = precision_score(y_test, y_preds_test, average=\"weighted\")\n",
        "recall_train = recall_score(y_train, y_preds_train, average=\"weighted\")\n",
        "recall_test = recall_score(y_test, y_preds_test, average=\"weighted\")\n",
        "f1_train = f1_score(y_train, y_preds_train, average=\"weighted\")\n",
        "f1_test = f1_score(y_test, y_preds_test, average=\"weighted\")\n",
        "print(\"Train: Learning_rate:{0:,.0f}, Accuracy:{1:,.3f}, Precision:{2:,.3f}, Recall:{3:,.3f}, F1:{4:,.3f}\".format(len, accuracy_train, precision_train, recall_train, f1_train))\n",
        "print(\"Test : Learning_rate:{0:,.0f}, Accuracy:{1:,.3f}, Precision:{2:,.3f}, Recall:{3:,.3f}, F1:{4:,.3f}\".format(len, accuracy_test, precision_test, recall_test, f1_test))\n",
        "print(\"\\nConfusion matrix:\")\n",
        "confusion_matrix = pd.crosstab(y_test, y_preds_test, rownames=[\"Actual\"], colnames=[\"Predicted\"])\n",
        "print(f\"{confusion_matrix}, \\n\")\n",
        "sns.heatmap(confusion_matrix, annot=True, fmt='0f')"
      ],
      "metadata": {
        "colab": {
          "base_uri": "https://localhost:8080/",
          "height": 493
        },
        "id": "atoCBkEozEVC",
        "outputId": "0950e017-1456-40ea-f560-bf4858620206"
      },
      "id": "atoCBkEozEVC",
      "execution_count": 49,
      "outputs": [
        {
          "output_type": "stream",
          "name": "stdout",
          "text": [
            "Train: Learning_rate:0, Accuracy:0.858, Precision:0.858, Recall:0.858, F1:0.858\n",
            "Test : Learning_rate:0, Accuracy:0.859, Precision:0.860, Recall:0.859, F1:0.858\n",
            "\n",
            "Confusion matrix:\n",
            "Predicted    0    1    2    3\n",
            "Actual                       \n",
            "0          639   36   46   37\n",
            "1           60  552   59   20\n",
            "2           23   20  645   24\n",
            "3           39   26   21  664, \n",
            "\n"
          ]
        },
        {
          "output_type": "execute_result",
          "data": {
            "text/plain": [
              "<matplotlib.axes._subplots.AxesSubplot at 0x7ff847cae250>"
            ]
          },
          "metadata": {},
          "execution_count": 49
        },
        {
          "output_type": "display_data",
          "data": {
            "text/plain": [
              "<Figure size 432x288 with 2 Axes>"
            ],
            "image/png": "[encoded data removed]"
          },
          "metadata": {
            "needs_background": "light"
          }
        }
      ]
    },
    {
      "cell_type": "code",
      "execution_count": 50,
      "id": "rZcyJLIG5E9q",
      "metadata": {
        "id": "rZcyJLIG5E9q"
      },
      "outputs": [],
      "source": [
        "data_train = pd.read_csv(\"Train.csv\", sep=\",\")\n",
        "data_test = pd.read_csv(\"Test.csv\", sep=\",\")\n",
        "data_ = pd.concat([data_train, data_test])"
      ]
    },
    {
      "cell_type": "code",
      "execution_count": 51,
      "id": "uoJWInYH5VmK",
      "metadata": {
        "colab": {
          "base_uri": "https://localhost:8080/"
        },
        "id": "uoJWInYH5VmK",
        "outputId": "8b440844-2a8b-40d0-9d56-29e9116a97f5"
      },
      "outputs": [
        {
          "output_type": "execute_result",
          "data": {
            "text/plain": [
              "ID                 0\n",
              "Gender             0\n",
              "Ever_Married       0\n",
              "Age                0\n",
              "Graduated          0\n",
              "Profession         0\n",
              "Work_Experience    0\n",
              "Spending_Score     0\n",
              "Family_Size        0\n",
              "Var_1              0\n",
              "Segmentation       0\n",
              "dtype: int64"
            ]
          },
          "metadata": {},
          "execution_count": 51
        }
      ],
      "source": [
        "#Filling nans with the mean \n",
        "mean_value_1 = data_['Family_Size'].mean()\n",
        "data_['Family_Size'].fillna(value = mean_value_1,  inplace=True)\n",
        "\n",
        "#Filling nans with the mean \n",
        "mean_value_2 = data_['Work_Experience'].mean()\n",
        "data_['Work_Experience'].fillna(value = mean_value_2,  inplace=True)\n",
        "\n",
        "#Dropping all nans as they are not numeric and cant be replaced by nans or 0s\n",
        "data_.dropna(axis=0,inplace=True)\n",
        "data_.isnull().sum()"
      ]
    },
    {
      "cell_type": "code",
      "execution_count": 52,
      "id": "LfZa3pYs5ma_",
      "metadata": {
        "id": "LfZa3pYs5ma_"
      },
      "outputs": [],
      "source": [
        "data_[\"Ever_Married\"] = label_binarize(data_[\"Ever_Married\"], classes = [\"Yes\", \"No\"])\n",
        "data_[\"Graduated\"] = label_binarize(data_[\"Graduated\"], classes = [\"Yes\", \"No\"])\n",
        "data_[\"Gender\"] = label_binarize(data_[\"Gender\"], classes = [\"Male\", \"Female\"])\n"
      ]
    },
    {
      "cell_type": "code",
      "execution_count": 53,
      "id": "IHeHwjzi5wOU",
      "metadata": {
        "id": "IHeHwjzi5wOU"
      },
      "outputs": [],
      "source": [
        "X = data_.drop('Segmentation', axis= 1)\n",
        "y = data_.Segmentation"
      ]
    },
    {
      "cell_type": "code",
      "execution_count": 54,
      "id": "tLxd0z0F5VkP",
      "metadata": {
        "id": "tLxd0z0F5VkP"
      },
      "outputs": [],
      "source": [
        "encoder = ce.OneHotEncoder(cols=['Spending_Score', 'Profession', 'Var_1'])\n",
        "encoder.fit(X, y)\n",
        "X_cleaned = encoder.transform(X)\n"
      ]
    },
    {
      "cell_type": "code",
      "execution_count": 55,
      "id": "ceIK0PSI5ViJ",
      "metadata": {
        "id": "ceIK0PSI5ViJ"
      },
      "outputs": [],
      "source": [
        "label_encoder = LabelEncoder()\n",
        "y = label_encoder.fit_transform(y)\n"
      ]
    },
    {
      "cell_type": "code",
      "execution_count": 56,
      "id": "47A_tLwF5VgR",
      "metadata": {
        "id": "47A_tLwF5VgR"
      },
      "outputs": [],
      "source": [
        "X_train, X_test, y_train, y_test = train_test_split(X_cleaned, y, test_size= 0.33, random_state=0)"
      ]
    },
    {
      "cell_type": "code",
      "execution_count": 57,
      "id": "k3cytc7q5Vc6",
      "metadata": {
        "colab": {
          "base_uri": "https://localhost:8080/"
        },
        "id": "k3cytc7q5Vc6",
        "outputId": "c17eadd2-3f8c-487a-e4c6-95ff08eaca6b"
      },
      "outputs": [
        {
          "output_type": "execute_result",
          "data": {
            "text/plain": [
              "0.877983293556086"
            ]
          },
          "metadata": {},
          "execution_count": 57
        }
      ],
      "source": [
        "xgb_cl = XGBClassifier(\n",
        "    learning_rate = 0.1,\n",
        "    max_depth = 5,\n",
        "    n_estimators= 1000,\n",
        "    min_child_weight = 1,\n",
        "    gamma = 0,\n",
        "    subsample = 0.8)\n",
        "\n",
        "#Fit\n",
        "xgb_cl.fit(X_cleaned, y)\n",
        "\n",
        "#Predict\n",
        "preds = xgb_cl.predict(X_test)\n",
        "\n",
        "#Score \n",
        "accuracy_score(y_test, preds)"
      ]
    },
    {
      "cell_type": "code",
      "source": [
        "# Train\n",
        "xgb_cl = XGBClassifier(\n",
        "    learning_rate = 0.1,\n",
        "    max_depth = 5,\n",
        "    n_estimators= 1000,\n",
        "    min_child_weight = 1,\n",
        "    gamma = 0,\n",
        "    subsample = 0.8)\n",
        "\n",
        "#Fit\n",
        "xgb_cl.fit(X_cleaned, y)\n",
        "\n",
        "#Predict\n",
        "preds = xgb_cl.predict(X_train)\n",
        "\n",
        "#Score \n",
        "accuracy_score(y_train, preds)"
      ],
      "metadata": {
        "colab": {
          "base_uri": "https://localhost:8080/"
        },
        "id": "4VPJrNn71BTF",
        "outputId": "28945e4b-278b-4e36-bdcf-5787974de072"
      },
      "id": "4VPJrNn71BTF",
      "execution_count": 58,
      "outputs": [
        {
          "output_type": "execute_result",
          "data": {
            "text/plain": [
              "0.8855253490080823"
            ]
          },
          "metadata": {},
          "execution_count": 58
        }
      ]
    },
    {
      "cell_type": "markdown",
      "id": "RgBCkpV9GJ9M",
      "metadata": {
        "id": "RgBCkpV9GJ9M"
      },
      "source": [
        "When i modify the Nan values, in some columns i put the\n",
        "mean and for others just deleted the nans, the accuracy of XGBClassifier gives me 0.877 accuracy meanwhile when i drop all NANs it gives 0,897 accuracy. And also while tried to check for only importance features it gives lower accuracy score. "
      ]
    },
    {
      "cell_type": "markdown",
      "id": "ljT1aJivQRTO",
      "metadata": {
        "id": "ljT1aJivQRTO"
      },
      "source": [
        "## Keras"
      ]
    },
    {
      "cell_type": "code",
      "source": [
        "pip install keras"
      ],
      "metadata": {
        "colab": {
          "base_uri": "https://localhost:8080/"
        },
        "id": "UIAOmE0j0cQk",
        "outputId": "92c02815-5307-4ba3-a7f3-efa934d0dbc1"
      },
      "id": "UIAOmE0j0cQk",
      "execution_count": 59,
      "outputs": [
        {
          "output_type": "stream",
          "name": "stdout",
          "text": [
            "Requirement already satisfied: keras in /usr/local/lib/python3.7/dist-packages (2.8.0)\n"
          ]
        }
      ]
    },
    {
      "cell_type": "code",
      "execution_count": 60,
      "id": "H8aLuN-Ligqi",
      "metadata": {
        "id": "H8aLuN-Ligqi"
      },
      "outputs": [],
      "source": [
        "import keras\n",
        "from keras.models import Sequential\n",
        "from keras.layers import Dense\n",
        "from keras.wrappers.scikit_learn import KerasClassifier\n",
        "from keras.utils import np_utils\n",
        "from tensorflow.keras.utils import to_categorical\n"
      ]
    },
    {
      "cell_type": "code",
      "execution_count": 61,
      "id": "PiVo_QZlign8",
      "metadata": {
        "id": "PiVo_QZlign8"
      },
      "outputs": [],
      "source": [
        "data_train = pd.read_csv(\"Train.csv\", sep=\",\")\n",
        "data_test = pd.read_csv(\"Test.csv\", sep=\",\")\n",
        "\n",
        "data = pd.concat([data_train, data_test])"
      ]
    },
    {
      "cell_type": "code",
      "execution_count": 62,
      "id": "Yhs6_doTigla",
      "metadata": {
        "colab": {
          "base_uri": "https://localhost:8080/"
        },
        "id": "Yhs6_doTigla",
        "outputId": "e261ed6e-51ca-4b59-ca14-7c4d548577f7"
      },
      "outputs": [
        {
          "output_type": "execute_result",
          "data": {
            "text/plain": [
              "ID                 0\n",
              "Gender             0\n",
              "Ever_Married       0\n",
              "Age                0\n",
              "Graduated          0\n",
              "Profession         0\n",
              "Work_Experience    0\n",
              "Spending_Score     0\n",
              "Family_Size        0\n",
              "Var_1              0\n",
              "Segmentation       0\n",
              "dtype: int64"
            ]
          },
          "metadata": {},
          "execution_count": 62
        }
      ],
      "source": [
        "mean_value_1 = data['Family_Size'].mean()\n",
        "data['Family_Size'].fillna(value = mean_value_1,  inplace=True)\n",
        "\n",
        "mean_value_2 = data['Work_Experience'].mean()\n",
        "data['Work_Experience'].fillna(value = mean_value_2,  inplace=True)\n",
        "\n",
        "data.dropna(axis=0,inplace=True)\n",
        "data.isnull().sum()"
      ]
    },
    {
      "cell_type": "code",
      "execution_count": 63,
      "id": "YBix_OXD1pgW",
      "metadata": {
        "colab": {
          "base_uri": "https://localhost:8080/",
          "height": 423
        },
        "id": "YBix_OXD1pgW",
        "outputId": "8206031a-79e5-4bd9-8c31-8146ac52bdbd"
      },
      "outputs": [
        {
          "output_type": "execute_result",
          "data": {
            "text/plain": [
              "          ID  Gender Ever_Married  Age Graduated     Profession  \\\n",
              "0     462809    Male           No   22        No     Healthcare   \n",
              "1     462643  Female          Yes   38       Yes       Engineer   \n",
              "2     466315  Female          Yes   67       Yes       Engineer   \n",
              "3     461735    Male          Yes   67       Yes         Lawyer   \n",
              "4     462669  Female          Yes   40       Yes  Entertainment   \n",
              "...      ...     ...          ...  ...       ...            ...   \n",
              "2622  467954    Male           No   29        No     Healthcare   \n",
              "2623  467958  Female           No   35       Yes         Doctor   \n",
              "2624  467960  Female           No   53       Yes  Entertainment   \n",
              "2625  467961    Male          Yes   47       Yes      Executive   \n",
              "2626  467968  Female           No   43       Yes     Healthcare   \n",
              "\n",
              "      Work_Experience Spending_Score  Family_Size  Var_1 Segmentation  \n",
              "0            1.000000            Low          4.0  Cat_4            D  \n",
              "1            2.619777        Average          3.0  Cat_4            A  \n",
              "2            1.000000            Low          1.0  Cat_6            B  \n",
              "3            0.000000           High          2.0  Cat_6            B  \n",
              "4            2.619777           High          6.0  Cat_6            A  \n",
              "...               ...            ...          ...    ...          ...  \n",
              "2622         9.000000            Low          4.0  Cat_6            B  \n",
              "2623         1.000000            Low          1.0  Cat_6            A  \n",
              "2624         2.619777            Low          2.0  Cat_6            C  \n",
              "2625         1.000000           High          5.0  Cat_4            C  \n",
              "2626         9.000000            Low          3.0  Cat_7            A  \n",
              "\n",
              "[10157 rows x 11 columns]"
            ],
            "text/html": [
              "\n",
              "  <div id=\"df-4553ab5f-627e-483c-bb98-fa2c86d51c15\">\n",
              "    <div class=\"colab-df-container\">\n",
              "      <div>\n",
              "<style scoped>\n",
              "    .dataframe tbody tr th:only-of-type {\n",
              "        vertical-align: middle;\n",
              "    }\n",
              "\n",
              "    .dataframe tbody tr th {\n",
              "        vertical-align: top;\n",
              "    }\n",
              "\n",
              "    .dataframe thead th {\n",
              "        text-align: right;\n",
              "    }\n",
              "</style>\n",
              "<table border=\"1\" class=\"dataframe\">\n",
              "  <thead>\n",
              "    <tr style=\"text-align: right;\">\n",
              "      <th></th>\n",
              "      <th>ID</th>\n",
              "      <th>Gender</th>\n",
              "      <th>Ever_Married</th>\n",
              "      <th>Age</th>\n",
              "      <th>Graduated</th>\n",
              "      <th>Profession</th>\n",
              "      <th>Work_Experience</th>\n",
              "      <th>Spending_Score</th>\n",
              "      <th>Family_Size</th>\n",
              "      <th>Var_1</th>\n",
              "      <th>Segmentation</th>\n",
              "    </tr>\n",
              "  </thead>\n",
              "  <tbody>\n",
              "    <tr>\n",
              "      <th>0</th>\n",
              "      <td>462809</td>\n",
              "      <td>Male</td>\n",
              "      <td>No</td>\n",
              "      <td>22</td>\n",
              "      <td>No</td>\n",
              "      <td>Healthcare</td>\n",
              "      <td>1.000000</td>\n",
              "      <td>Low</td>\n",
              "      <td>4.0</td>\n",
              "      <td>Cat_4</td>\n",
              "      <td>D</td>\n",
              "    </tr>\n",
              "    <tr>\n",
              "      <th>1</th>\n",
              "      <td>462643</td>\n",
              "      <td>Female</td>\n",
              "      <td>Yes</td>\n",
              "      <td>38</td>\n",
              "      <td>Yes</td>\n",
              "      <td>Engineer</td>\n",
              "      <td>2.619777</td>\n",
              "      <td>Average</td>\n",
              "      <td>3.0</td>\n",
              "      <td>Cat_4</td>\n",
              "      <td>A</td>\n",
              "    </tr>\n",
              "    <tr>\n",
              "      <th>2</th>\n",
              "      <td>466315</td>\n",
              "      <td>Female</td>\n",
              "      <td>Yes</td>\n",
              "      <td>67</td>\n",
              "      <td>Yes</td>\n",
              "      <td>Engineer</td>\n",
              "      <td>1.000000</td>\n",
              "      <td>Low</td>\n",
              "      <td>1.0</td>\n",
              "      <td>Cat_6</td>\n",
              "      <td>B</td>\n",
              "    </tr>\n",
              "    <tr>\n",
              "      <th>3</th>\n",
              "      <td>461735</td>\n",
              "      <td>Male</td>\n",
              "      <td>Yes</td>\n",
              "      <td>67</td>\n",
              "      <td>Yes</td>\n",
              "      <td>Lawyer</td>\n",
              "      <td>0.000000</td>\n",
              "      <td>High</td>\n",
              "      <td>2.0</td>\n",
              "      <td>Cat_6</td>\n",
              "      <td>B</td>\n",
              "    </tr>\n",
              "    <tr>\n",
              "      <th>4</th>\n",
              "      <td>462669</td>\n",
              "      <td>Female</td>\n",
              "      <td>Yes</td>\n",
              "      <td>40</td>\n",
              "      <td>Yes</td>\n",
              "      <td>Entertainment</td>\n",
              "      <td>2.619777</td>\n",
              "      <td>High</td>\n",
              "      <td>6.0</td>\n",
              "      <td>Cat_6</td>\n",
              "      <td>A</td>\n",
              "    </tr>\n",
              "    <tr>\n",
              "      <th>...</th>\n",
              "      <td>...</td>\n",
              "      <td>...</td>\n",
              "      <td>...</td>\n",
              "      <td>...</td>\n",
              "      <td>...</td>\n",
              "      <td>...</td>\n",
              "      <td>...</td>\n",
              "      <td>...</td>\n",
              "      <td>...</td>\n",
              "      <td>...</td>\n",
              "      <td>...</td>\n",
              "    </tr>\n",
              "    <tr>\n",
              "      <th>2622</th>\n",
              "      <td>467954</td>\n",
              "      <td>Male</td>\n",
              "      <td>No</td>\n",
              "      <td>29</td>\n",
              "      <td>No</td>\n",
              "      <td>Healthcare</td>\n",
              "      <td>9.000000</td>\n",
              "      <td>Low</td>\n",
              "      <td>4.0</td>\n",
              "      <td>Cat_6</td>\n",
              "      <td>B</td>\n",
              "    </tr>\n",
              "    <tr>\n",
              "      <th>2623</th>\n",
              "      <td>467958</td>\n",
              "      <td>Female</td>\n",
              "      <td>No</td>\n",
              "      <td>35</td>\n",
              "      <td>Yes</td>\n",
              "      <td>Doctor</td>\n",
              "      <td>1.000000</td>\n",
              "      <td>Low</td>\n",
              "      <td>1.0</td>\n",
              "      <td>Cat_6</td>\n",
              "      <td>A</td>\n",
              "    </tr>\n",
              "    <tr>\n",
              "      <th>2624</th>\n",
              "      <td>467960</td>\n",
              "      <td>Female</td>\n",
              "      <td>No</td>\n",
              "      <td>53</td>\n",
              "      <td>Yes</td>\n",
              "      <td>Entertainment</td>\n",
              "      <td>2.619777</td>\n",
              "      <td>Low</td>\n",
              "      <td>2.0</td>\n",
              "      <td>Cat_6</td>\n",
              "      <td>C</td>\n",
              "    </tr>\n",
              "    <tr>\n",
              "      <th>2625</th>\n",
              "      <td>467961</td>\n",
              "      <td>Male</td>\n",
              "      <td>Yes</td>\n",
              "      <td>47</td>\n",
              "      <td>Yes</td>\n",
              "      <td>Executive</td>\n",
              "      <td>1.000000</td>\n",
              "      <td>High</td>\n",
              "      <td>5.0</td>\n",
              "      <td>Cat_4</td>\n",
              "      <td>C</td>\n",
              "    </tr>\n",
              "    <tr>\n",
              "      <th>2626</th>\n",
              "      <td>467968</td>\n",
              "      <td>Female</td>\n",
              "      <td>No</td>\n",
              "      <td>43</td>\n",
              "      <td>Yes</td>\n",
              "      <td>Healthcare</td>\n",
              "      <td>9.000000</td>\n",
              "      <td>Low</td>\n",
              "      <td>3.0</td>\n",
              "      <td>Cat_7</td>\n",
              "      <td>A</td>\n",
              "    </tr>\n",
              "  </tbody>\n",
              "</table>\n",
              "<p>10157 rows × 11 columns</p>\n",
              "</div>\n",
              "      <button class=\"colab-df-convert\" onclick=\"convertToInteractive('df-4553ab5f-627e-483c-bb98-fa2c86d51c15')\"\n",
              "              title=\"Convert this dataframe to an interactive table.\"\n",
              "              style=\"display:none;\">\n",
              "        \n",
              "  <svg xmlns=\"http://www.w3.org/2000/svg\" height=\"24px\"viewBox=\"0 0 24 24\"\n",
              "       width=\"24px\">\n",
              "    <path d=\"M0 0h24v24H0V0z\" fill=\"none\"/>\n",
              "    <path d=\"M18.56 5.44l.94 2.06.94-2.06 2.06-.94-2.06-.94-.94-2.06-.94 2.06-2.06.94zm-11 1L8.5 8.5l.94-2.06 2.06-.94-2.06-.94L8.5 2.5l-.94 2.06-2.06.94zm10 10l.94 2.06.94-2.06 2.06-.94-2.06-.94-.94-2.06-.94 2.06-2.06.94z\"/><path d=\"M17.41 7.96l-1.37-1.37c-.4-.4-.92-.59-1.43-.59-.52 0-1.04.2-1.43.59L10.3 9.45l-7.72 7.72c-.78.78-.78 2.05 0 2.83L4 21.41c.39.39.9.59 1.41.59.51 0 1.02-.2 1.41-.59l7.78-7.78 2.81-2.81c.8-.78.8-2.07 0-2.86zM5.41 20L4 18.59l7.72-7.72 1.47 1.35L5.41 20z\"/>\n",
              "  </svg>\n",
              "      </button>\n",
              "      \n",
              "  <style>\n",
              "    .colab-df-container {\n",
              "      display:flex;\n",
              "      flex-wrap:wrap;\n",
              "      gap: 12px;\n",
              "    }\n",
              "\n",
              "    .colab-df-convert {\n",
              "      background-color: #E8F0FE;\n",
              "      border: none;\n",
              "      border-radius: 50%;\n",
              "      cursor: pointer;\n",
              "      display: none;\n",
              "      fill: #1967D2;\n",
              "      height: 32px;\n",
              "      padding: 0 0 0 0;\n",
              "      width: 32px;\n",
              "    }\n",
              "\n",
              "    .colab-df-convert:hover {\n",
              "      background-color: #E2EBFA;\n",
              "      box-shadow: 0px 1px 2px rgba(60, 64, 67, 0.3), 0px 1px 3px 1px rgba(60, 64, 67, 0.15);\n",
              "      fill: #174EA6;\n",
              "    }\n",
              "\n",
              "    [theme=dark] .colab-df-convert {\n",
              "      background-color: #3B4455;\n",
              "      fill: #D2E3FC;\n",
              "    }\n",
              "\n",
              "    [theme=dark] .colab-df-convert:hover {\n",
              "      background-color: #434B5C;\n",
              "      box-shadow: 0px 1px 3px 1px rgba(0, 0, 0, 0.15);\n",
              "      filter: drop-shadow(0px 1px 2px rgba(0, 0, 0, 0.3));\n",
              "      fill: #FFFFFF;\n",
              "    }\n",
              "  </style>\n",
              "\n",
              "      <script>\n",
              "        const buttonEl =\n",
              "          document.querySelector('#df-4553ab5f-627e-483c-bb98-fa2c86d51c15 button.colab-df-convert');\n",
              "        buttonEl.style.display =\n",
              "          google.colab.kernel.accessAllowed ? 'block' : 'none';\n",
              "\n",
              "        async function convertToInteractive(key) {\n",
              "          const element = document.querySelector('#df-4553ab5f-627e-483c-bb98-fa2c86d51c15');\n",
              "          const dataTable =\n",
              "            await google.colab.kernel.invokeFunction('convertToInteractive',\n",
              "                                                     [key], {});\n",
              "          if (!dataTable) return;\n",
              "\n",
              "          const docLinkHtml = 'Like what you see? Visit the ' +\n",
              "            '<a target=\"_blank\" href=https://colab.research.google.com/notebooks/data_table.ipynb>data table notebook</a>'\n",
              "            + ' to learn more about interactive tables.';\n",
              "          element.innerHTML = '';\n",
              "          dataTable['output_type'] = 'display_data';\n",
              "          await google.colab.output.renderOutput(dataTable, element);\n",
              "          const docLink = document.createElement('div');\n",
              "          docLink.innerHTML = docLinkHtml;\n",
              "          element.appendChild(docLink);\n",
              "        }\n",
              "      </script>\n",
              "    </div>\n",
              "  </div>\n",
              "  "
            ]
          },
          "metadata": {},
          "execution_count": 63
        }
      ],
      "source": [
        "data"
      ]
    },
    {
      "cell_type": "code",
      "execution_count": 64,
      "id": "MH5-PoIR4QXA",
      "metadata": {
        "id": "MH5-PoIR4QXA"
      },
      "outputs": [],
      "source": [
        "from sklearn.preprocessing import label_binarize\n",
        "data[\"Ever_Married\"] = label_binarize(data[\"Ever_Married\"], classes = [\"Yes\", \"No\"])\n",
        "data[\"Profession\"] = label_binarize(data[\"Profession\"], classes = [\"Healthcare\", \"Engineer\", \"Lawyer\", \"Artist\", \"Doctor\", \"Homemaker\", \"Entertainment\", \"Marketing\", \"Executive\"])\n",
        "data[\"Graduated\"] = label_binarize(data[\"Graduated\"], classes = [\"Yes\", \"No\"])\n",
        "data[\"Spending_Score\"] = label_binarize(data[\"Graduated\"], classes = [\"Low\", \"High\", \"Average\"])\n",
        "data[\"Var_1\"] = label_binarize(data[\"Var_1\"], classes = [\"Cat_1\",\"Cat_2\",\"Cat_3\",\"Cat_4\",\"Cat_5\",\"Cat_6\",\"Cat_7\"])\n",
        "data[\"Gender\"] = label_binarize(data[\"Gender\"], classes = [\"Male\", \"Female\"])\n",
        "data[\"Segmentation\"] = label_binarize(data[\"Segmentation\"], classes = [\"A\", \"B\", \"C\" \"D\"])\n"
      ]
    },
    {
      "cell_type": "code",
      "execution_count": 65,
      "id": "zzEG0Vnu9xyd",
      "metadata": {
        "colab": {
          "base_uri": "https://localhost:8080/"
        },
        "id": "zzEG0Vnu9xyd",
        "outputId": "58d540e9-f466-4863-adfe-c002557da89d"
      },
      "outputs": [
        {
          "output_type": "stream",
          "name": "stdout",
          "text": [
            "<class 'pandas.core.frame.DataFrame'>\n",
            "Int64Index: 10157 entries, 0 to 2626\n",
            "Data columns (total 11 columns):\n",
            " #   Column           Non-Null Count  Dtype  \n",
            "---  ------           --------------  -----  \n",
            " 0   ID               10157 non-null  int64  \n",
            " 1   Gender           10157 non-null  int64  \n",
            " 2   Ever_Married     10157 non-null  int64  \n",
            " 3   Age              10157 non-null  int64  \n",
            " 4   Graduated        10157 non-null  int64  \n",
            " 5   Profession       10157 non-null  int64  \n",
            " 6   Work_Experience  10157 non-null  float64\n",
            " 7   Spending_Score   10157 non-null  int64  \n",
            " 8   Family_Size      10157 non-null  float64\n",
            " 9   Var_1            10157 non-null  int64  \n",
            " 10  Segmentation     10157 non-null  int64  \n",
            "dtypes: float64(2), int64(9)\n",
            "memory usage: 952.2 KB\n"
          ]
        }
      ],
      "source": [
        "data.info()"
      ]
    },
    {
      "cell_type": "code",
      "execution_count": 66,
      "id": "7KlmYYckPAOq",
      "metadata": {
        "id": "7KlmYYckPAOq"
      },
      "outputs": [],
      "source": [
        "dataset = data.values\n",
        "\n",
        "X = dataset[:,0:10].astype(float)\n",
        "y = dataset[:,10:11]"
      ]
    },
    {
      "cell_type": "code",
      "execution_count": 67,
      "id": "KqVTVr_HQ6G_",
      "metadata": {
        "colab": {
          "base_uri": "https://localhost:8080/"
        },
        "id": "KqVTVr_HQ6G_",
        "outputId": "e8ad8ee5-8dfb-43cc-eacd-54e34b48cd0e"
      },
      "outputs": [
        {
          "output_type": "execute_result",
          "data": {
            "text/plain": [
              "(10157, 10)"
            ]
          },
          "metadata": {},
          "execution_count": 67
        }
      ],
      "source": [
        "X.shape"
      ]
    },
    {
      "cell_type": "code",
      "execution_count": 68,
      "id": "3k_qlIcSQ9SP",
      "metadata": {
        "colab": {
          "base_uri": "https://localhost:8080/"
        },
        "id": "3k_qlIcSQ9SP",
        "outputId": "a5c40f18-caf6-48c5-a4f1-6a228205e329"
      },
      "outputs": [
        {
          "output_type": "execute_result",
          "data": {
            "text/plain": [
              "(10157, 1)"
            ]
          },
          "metadata": {},
          "execution_count": 68
        }
      ],
      "source": [
        "y.shape"
      ]
    },
    {
      "cell_type": "code",
      "execution_count": 69,
      "id": "-KCi9z8OPALP",
      "metadata": {
        "colab": {
          "base_uri": "https://localhost:8080/"
        },
        "id": "-KCi9z8OPALP",
        "outputId": "9e85a37e-266e-4fbf-9e42-fdee89f87316"
      },
      "outputs": [
        {
          "output_type": "stream",
          "name": "stdout",
          "text": [
            "(10157, 10) (10157, 1)\n",
            "[4.62809e+05 0.00000e+00 1.00000e+00 2.20000e+01 1.00000e+00 1.00000e+00\n",
            " 1.00000e+00 0.00000e+00 4.00000e+00 0.00000e+00] [0.]\n",
            "[4.62643000e+05 1.00000000e+00 0.00000000e+00 3.80000000e+01\n",
            " 0.00000000e+00 0.00000000e+00 2.61977701e+00 0.00000000e+00\n",
            " 3.00000000e+00 0.00000000e+00] [1.]\n",
            "[4.66315e+05 1.00000e+00 0.00000e+00 6.70000e+01 0.00000e+00 0.00000e+00\n",
            " 1.00000e+00 0.00000e+00 1.00000e+00 0.00000e+00] [0.]\n",
            "[4.61735e+05 0.00000e+00 0.00000e+00 6.70000e+01 0.00000e+00 0.00000e+00\n",
            " 0.00000e+00 0.00000e+00 2.00000e+00 0.00000e+00] [0.]\n",
            "[4.62669000e+05 1.00000000e+00 0.00000000e+00 4.00000000e+01\n",
            " 0.00000000e+00 0.00000000e+00 2.61977701e+00 0.00000000e+00\n",
            " 6.00000000e+00 0.00000000e+00] [1.]\n",
            "[4.61319e+05 0.00000e+00 0.00000e+00 5.60000e+01 1.00000e+00 0.00000e+00\n",
            " 0.00000e+00 0.00000e+00 2.00000e+00 0.00000e+00] [0.]\n",
            "[4.60156e+05 0.00000e+00 1.00000e+00 3.20000e+01 0.00000e+00 1.00000e+00\n",
            " 1.00000e+00 0.00000e+00 3.00000e+00 0.00000e+00] [0.]\n",
            "[4.64347e+05 1.00000e+00 1.00000e+00 3.30000e+01 0.00000e+00 1.00000e+00\n",
            " 1.00000e+00 0.00000e+00 3.00000e+00 0.00000e+00] [0.]\n",
            "[4.65015e+05 1.00000e+00 0.00000e+00 6.10000e+01 0.00000e+00 0.00000e+00\n",
            " 0.00000e+00 0.00000e+00 3.00000e+00 0.00000e+00] [0.]\n",
            "[4.65176e+05 1.00000e+00 0.00000e+00 5.50000e+01 0.00000e+00 0.00000e+00\n",
            " 1.00000e+00 0.00000e+00 4.00000e+00 0.00000e+00] [0.]\n"
          ]
        }
      ],
      "source": [
        "# summarize dataset shape\n",
        "print(X.shape, y.shape)\n",
        "# summarize first few examples\n",
        "for i in range(10):\n",
        "    print(X[i], y[i])\n"
      ]
    },
    {
      "cell_type": "code",
      "execution_count": 70,
      "id": "3mmCUaOmPAH9",
      "metadata": {
        "id": "3mmCUaOmPAH9"
      },
      "outputs": [],
      "source": [
        "# define the model\n",
        "model = Sequential()\n",
        "model.add(Dense(20, input_dim = 11, kernel_initializer='he_uniform', activation='relu'))\n",
        "model.add(Dense(1, activation='sigmoid'))\n",
        "model.compile(loss='binary_crossentropy', optimizer='adam')"
      ]
    },
    {
      "cell_type": "code",
      "execution_count": 71,
      "id": "ZDPEug8ZPAFN",
      "metadata": {
        "id": "ZDPEug8ZPAFN"
      },
      "outputs": [],
      "source": [
        "# get the model\n",
        "def get_model(n_inputs, n_outputs):\n",
        "    model = Sequential()\n",
        "    model.add(Dense(20, input_dim=n_inputs, kernel_initializer='he_uniform', activation='relu'))\n",
        "    model.add(Dense(n_outputs, activation='sigmoid'))\n",
        "    model.compile(loss='binary_crossentropy', optimizer='adam')\n",
        "    return model"
      ]
    },
    {
      "cell_type": "code",
      "execution_count": 72,
      "id": "SgmVXhuYRwRh",
      "metadata": {
        "id": "SgmVXhuYRwRh"
      },
      "outputs": [],
      "source": [
        "def evaluate_model(X, y):\n",
        "    results = list()\n",
        "    n_inputs, n_outputs = X.shape[1], y.shape[1]\n",
        "    # define evaluation procedure\n",
        "    cv = RepeatedKFold(n_splits=10, n_repeats=3, random_state=1)\n",
        "    # enumerate folds\n",
        "    for train_ix, test_ix in cv.split(X):\n",
        "        # prepare data\n",
        "        X_train, X_test = X[train_ix], X[test_ix]\n",
        "        y_train, y_test = y[train_ix], y[test_ix]\n",
        "        # define model\n",
        "        model = get_model(n_inputs, n_outputs)\n",
        "        # fit model\n",
        "        model.fit(X_train, y_train, verbose=0, epochs=100)\n",
        "        # make a prediction on the test set\n",
        "        yhat = model.predict(X_test)\n",
        "        # round probabilities to class labels\n",
        "        yhat = yhat.round()\n",
        "        # calculate accuracy\n",
        "        acc = accuracy_score(y_test, yhat)\n",
        "        # store result\n",
        "        print('>%.3f' % acc)\n",
        "        results.append(acc)\n",
        "    return results"
      ]
    },
    {
      "cell_type": "code",
      "execution_count": 73,
      "id": "Kwkin0vnRwPE",
      "metadata": {
        "colab": {
          "base_uri": "https://localhost:8080/"
        },
        "id": "Kwkin0vnRwPE",
        "outputId": "4d64692c-e3b8-4dd6-ca06-f4054c18ba82"
      },
      "outputs": [
        {
          "output_type": "stream",
          "name": "stdout",
          "text": [
            ">0.741\n",
            ">0.747\n",
            ">0.743\n",
            ">0.740\n",
            ">0.727\n",
            ">0.731\n",
            ">0.748\n",
            ">0.727\n",
            ">0.741\n",
            ">0.734\n",
            ">0.265\n",
            ">0.741\n",
            ">0.751\n",
            ">0.741\n",
            ">0.752\n",
            ">0.273\n",
            ">0.280\n",
            ">0.729\n",
            ">0.269\n",
            ">0.752\n",
            ">0.257\n",
            ">0.269\n",
            ">0.739\n",
            ">0.249\n",
            ">0.739\n",
            ">0.720\n",
            ">0.744\n",
            ">0.737\n",
            ">0.738\n",
            ">0.263\n"
          ]
        }
      ],
      "source": [
        "results = evaluate_model(X, y)"
      ]
    },
    {
      "cell_type": "code",
      "execution_count": 74,
      "id": "iH32NYMPO__Y",
      "metadata": {
        "colab": {
          "base_uri": "https://localhost:8080/"
        },
        "id": "iH32NYMPO__Y",
        "outputId": "efc46439-573d-4454-8886-1618dbb3dc12"
      },
      "outputs": [
        {
          "output_type": "stream",
          "name": "stdout",
          "text": [
            "Accuracy: 0.613 (0.210)\n"
          ]
        }
      ],
      "source": [
        "print('Accuracy: %.3f (%.3f)' % (mean(results), std(results)))"
      ]
    },
    {
      "cell_type": "code",
      "execution_count": 75,
      "id": "7mphDKujUAKp",
      "metadata": {
        "id": "7mphDKujUAKp"
      },
      "outputs": [],
      "source": [
        "dataset = data.values\n",
        "# split into input (X) and output (Y) variables\n",
        "X = dataset[:,0:10].astype(float)\n",
        "y = dataset[:,10:11]\n"
      ]
    },
    {
      "cell_type": "code",
      "execution_count": 76,
      "id": "1ieC9pEgbaco",
      "metadata": {
        "colab": {
          "base_uri": "https://localhost:8080/"
        },
        "id": "1ieC9pEgbaco",
        "outputId": "8a21f07f-04bd-4d3e-f6d9-6a877123095f"
      },
      "outputs": [
        {
          "output_type": "stream",
          "name": "stdout",
          "text": [
            "Epoch 1/100\n",
            "681/681 [==============================] - 2s 3ms/step - loss: 617.5336 - accuracy: 0.6198 - val_loss: 260.9505 - val_accuracy: 0.2965\n",
            "Epoch 2/100\n",
            "681/681 [==============================] - 1s 2ms/step - loss: 181.6039 - accuracy: 0.6282 - val_loss: 182.9317 - val_accuracy: 0.7035\n",
            "Epoch 3/100\n",
            "681/681 [==============================] - 1s 2ms/step - loss: 127.6136 - accuracy: 0.6339 - val_loss: 33.2455 - val_accuracy: 0.2965\n",
            "Epoch 4/100\n",
            "681/681 [==============================] - 2s 2ms/step - loss: 150.6531 - accuracy: 0.6325 - val_loss: 48.4797 - val_accuracy: 0.2965\n",
            "Epoch 5/100\n",
            "681/681 [==============================] - 1s 2ms/step - loss: 135.2480 - accuracy: 0.6294 - val_loss: 360.2696 - val_accuracy: 0.7035\n",
            "Epoch 6/100\n",
            "681/681 [==============================] - 2s 2ms/step - loss: 174.7753 - accuracy: 0.6323 - val_loss: 410.1077 - val_accuracy: 0.2965\n",
            "Epoch 7/100\n",
            "681/681 [==============================] - 2s 2ms/step - loss: 139.4469 - accuracy: 0.6300 - val_loss: 29.4323 - val_accuracy: 0.7035\n",
            "Epoch 8/100\n",
            "681/681 [==============================] - 2s 3ms/step - loss: 122.0206 - accuracy: 0.6294 - val_loss: 61.0513 - val_accuracy: 0.7035\n",
            "Epoch 9/100\n",
            "681/681 [==============================] - 1s 2ms/step - loss: 137.6488 - accuracy: 0.6226 - val_loss: 129.9519 - val_accuracy: 0.7035\n",
            "Epoch 10/100\n",
            "681/681 [==============================] - 1s 2ms/step - loss: 112.6926 - accuracy: 0.6375 - val_loss: 29.6556 - val_accuracy: 0.2965\n",
            "Epoch 11/100\n",
            "681/681 [==============================] - 2s 2ms/step - loss: 132.5801 - accuracy: 0.6276 - val_loss: 104.7542 - val_accuracy: 0.7035\n",
            "Epoch 12/100\n",
            "681/681 [==============================] - 2s 2ms/step - loss: 109.8298 - accuracy: 0.6289 - val_loss: 137.3350 - val_accuracy: 0.2965\n",
            "Epoch 13/100\n",
            "681/681 [==============================] - 2s 2ms/step - loss: 118.5808 - accuracy: 0.6259 - val_loss: 62.3177 - val_accuracy: 0.7035\n",
            "Epoch 14/100\n",
            "681/681 [==============================] - 2s 2ms/step - loss: 105.4947 - accuracy: 0.6303 - val_loss: 135.0865 - val_accuracy: 0.7035\n",
            "Epoch 15/100\n",
            "681/681 [==============================] - 1s 2ms/step - loss: 93.9492 - accuracy: 0.6395 - val_loss: 54.5788 - val_accuracy: 0.2965\n",
            "Epoch 16/100\n",
            "681/681 [==============================] - 2s 2ms/step - loss: 103.0784 - accuracy: 0.6366 - val_loss: 318.4441 - val_accuracy: 0.7035\n",
            "Epoch 17/100\n",
            "681/681 [==============================] - 2s 2ms/step - loss: 105.5186 - accuracy: 0.6341 - val_loss: 465.1125 - val_accuracy: 0.7035\n",
            "Epoch 18/100\n",
            "681/681 [==============================] - 1s 2ms/step - loss: 115.5711 - accuracy: 0.6294 - val_loss: 101.1658 - val_accuracy: 0.7035\n",
            "Epoch 19/100\n",
            "681/681 [==============================] - 1s 2ms/step - loss: 109.5740 - accuracy: 0.6381 - val_loss: 214.9119 - val_accuracy: 0.7035\n",
            "Epoch 20/100\n",
            "681/681 [==============================] - 2s 2ms/step - loss: 111.2627 - accuracy: 0.6272 - val_loss: 81.7501 - val_accuracy: 0.7035\n",
            "Epoch 21/100\n",
            "681/681 [==============================] - 2s 2ms/step - loss: 109.3538 - accuracy: 0.6351 - val_loss: 40.0025 - val_accuracy: 0.7035\n",
            "Epoch 22/100\n",
            "681/681 [==============================] - 2s 2ms/step - loss: 113.1974 - accuracy: 0.6267 - val_loss: 42.1566 - val_accuracy: 0.2965\n",
            "Epoch 23/100\n",
            "681/681 [==============================] - 2s 3ms/step - loss: 111.8876 - accuracy: 0.6322 - val_loss: 64.0242 - val_accuracy: 0.7035\n",
            "Epoch 24/100\n",
            "681/681 [==============================] - 1s 2ms/step - loss: 84.6110 - accuracy: 0.6335 - val_loss: 68.5660 - val_accuracy: 0.7035\n",
            "Epoch 25/100\n",
            "681/681 [==============================] - 1s 2ms/step - loss: 89.2575 - accuracy: 0.6317 - val_loss: 226.9457 - val_accuracy: 0.7035\n",
            "Epoch 26/100\n",
            "681/681 [==============================] - 2s 2ms/step - loss: 94.2828 - accuracy: 0.6319 - val_loss: 48.9474 - val_accuracy: 0.7035\n",
            "Epoch 27/100\n",
            "681/681 [==============================] - 2s 2ms/step - loss: 105.4303 - accuracy: 0.6226 - val_loss: 97.8814 - val_accuracy: 0.7035\n",
            "Epoch 28/100\n",
            "681/681 [==============================] - 2s 2ms/step - loss: 111.3458 - accuracy: 0.6266 - val_loss: 37.1624 - val_accuracy: 0.2965\n",
            "Epoch 29/100\n",
            "681/681 [==============================] - 1s 2ms/step - loss: 96.0057 - accuracy: 0.6307 - val_loss: 132.3144 - val_accuracy: 0.7035\n",
            "Epoch 30/100\n",
            "681/681 [==============================] - 1s 2ms/step - loss: 85.7064 - accuracy: 0.6351 - val_loss: 15.6680 - val_accuracy: 0.7035\n",
            "Epoch 31/100\n",
            "681/681 [==============================] - 2s 2ms/step - loss: 111.3893 - accuracy: 0.6353 - val_loss: 79.6661 - val_accuracy: 0.2965\n",
            "Epoch 32/100\n",
            "681/681 [==============================] - 2s 2ms/step - loss: 87.1243 - accuracy: 0.6294 - val_loss: 159.0783 - val_accuracy: 0.7035\n",
            "Epoch 33/100\n",
            "681/681 [==============================] - 1s 2ms/step - loss: 102.8238 - accuracy: 0.6206 - val_loss: 15.7682 - val_accuracy: 0.7035\n",
            "Epoch 34/100\n",
            "681/681 [==============================] - 2s 2ms/step - loss: 93.8938 - accuracy: 0.6273 - val_loss: 182.0289 - val_accuracy: 0.7035\n",
            "Epoch 35/100\n",
            "681/681 [==============================] - 1s 2ms/step - loss: 108.4884 - accuracy: 0.6313 - val_loss: 30.1676 - val_accuracy: 0.2965\n",
            "Epoch 36/100\n",
            "681/681 [==============================] - 1s 2ms/step - loss: 102.5316 - accuracy: 0.6309 - val_loss: 91.3485 - val_accuracy: 0.7035\n",
            "Epoch 37/100\n",
            "681/681 [==============================] - 1s 2ms/step - loss: 100.9847 - accuracy: 0.6265 - val_loss: 68.6355 - val_accuracy: 0.2965\n",
            "Epoch 38/100\n",
            "681/681 [==============================] - 1s 2ms/step - loss: 99.0290 - accuracy: 0.6314 - val_loss: 61.2040 - val_accuracy: 0.7035\n",
            "Epoch 39/100\n",
            "681/681 [==============================] - 2s 2ms/step - loss: 91.1903 - accuracy: 0.6257 - val_loss: 220.9014 - val_accuracy: 0.7035\n",
            "Epoch 40/100\n",
            "681/681 [==============================] - 1s 2ms/step - loss: 85.8954 - accuracy: 0.6382 - val_loss: 120.6564 - val_accuracy: 0.7035\n",
            "Epoch 41/100\n",
            "681/681 [==============================] - 2s 2ms/step - loss: 94.5141 - accuracy: 0.6363 - val_loss: 24.0439 - val_accuracy: 0.7035\n",
            "Epoch 42/100\n",
            "681/681 [==============================] - 2s 2ms/step - loss: 65.0136 - accuracy: 0.6417 - val_loss: 107.4110 - val_accuracy: 0.7035\n",
            "Epoch 43/100\n",
            "681/681 [==============================] - 2s 2ms/step - loss: 95.6538 - accuracy: 0.6278 - val_loss: 84.0881 - val_accuracy: 0.7035\n",
            "Epoch 44/100\n",
            "681/681 [==============================] - 1s 2ms/step - loss: 116.9127 - accuracy: 0.6389 - val_loss: 192.0220 - val_accuracy: 0.7035\n",
            "Epoch 45/100\n",
            "681/681 [==============================] - 2s 2ms/step - loss: 91.9891 - accuracy: 0.6328 - val_loss: 59.7795 - val_accuracy: 0.7035\n",
            "Epoch 46/100\n",
            "681/681 [==============================] - 2s 2ms/step - loss: 94.4494 - accuracy: 0.6356 - val_loss: 150.0510 - val_accuracy: 0.7035\n",
            "Epoch 47/100\n",
            "681/681 [==============================] - 2s 3ms/step - loss: 86.8239 - accuracy: 0.6301 - val_loss: 46.8819 - val_accuracy: 0.7035\n",
            "Epoch 48/100\n",
            "681/681 [==============================] - 2s 2ms/step - loss: 79.1504 - accuracy: 0.6345 - val_loss: 18.6254 - val_accuracy: 0.7035\n",
            "Epoch 49/100\n",
            "681/681 [==============================] - 2s 2ms/step - loss: 92.5408 - accuracy: 0.6244 - val_loss: 34.7223 - val_accuracy: 0.7035\n",
            "Epoch 50/100\n",
            "681/681 [==============================] - 1s 2ms/step - loss: 74.9143 - accuracy: 0.6235 - val_loss: 264.4810 - val_accuracy: 0.7035\n",
            "Epoch 51/100\n",
            "681/681 [==============================] - 2s 2ms/step - loss: 95.7790 - accuracy: 0.6287 - val_loss: 96.4916 - val_accuracy: 0.7035\n",
            "Epoch 52/100\n",
            "681/681 [==============================] - 1s 2ms/step - loss: 67.3339 - accuracy: 0.6292 - val_loss: 9.3696 - val_accuracy: 0.7032\n",
            "Epoch 53/100\n",
            "681/681 [==============================] - 1s 2ms/step - loss: 80.2500 - accuracy: 0.6292 - val_loss: 109.5279 - val_accuracy: 0.7035\n",
            "Epoch 54/100\n",
            "681/681 [==============================] - 2s 2ms/step - loss: 85.6425 - accuracy: 0.6338 - val_loss: 6.7735 - val_accuracy: 0.7020\n",
            "Epoch 55/100\n",
            "681/681 [==============================] - 1s 2ms/step - loss: 90.7983 - accuracy: 0.6297 - val_loss: 21.0549 - val_accuracy: 0.7035\n",
            "Epoch 56/100\n",
            "681/681 [==============================] - 1s 2ms/step - loss: 80.7022 - accuracy: 0.6295 - val_loss: 44.0528 - val_accuracy: 0.7035\n",
            "Epoch 57/100\n",
            "681/681 [==============================] - 2s 2ms/step - loss: 87.6503 - accuracy: 0.6369 - val_loss: 10.0284 - val_accuracy: 0.3661\n",
            "Epoch 58/100\n",
            "681/681 [==============================] - 2s 3ms/step - loss: 67.0921 - accuracy: 0.6313 - val_loss: 66.6302 - val_accuracy: 0.2965\n",
            "Epoch 59/100\n",
            "681/681 [==============================] - 1s 2ms/step - loss: 82.4729 - accuracy: 0.6337 - val_loss: 262.4944 - val_accuracy: 0.2965\n",
            "Epoch 60/100\n",
            "681/681 [==============================] - 1s 2ms/step - loss: 86.2189 - accuracy: 0.6370 - val_loss: 123.0634 - val_accuracy: 0.2965\n",
            "Epoch 61/100\n",
            "681/681 [==============================] - 1s 2ms/step - loss: 77.3832 - accuracy: 0.6288 - val_loss: 27.0630 - val_accuracy: 0.7035\n",
            "Epoch 62/100\n",
            "681/681 [==============================] - 2s 2ms/step - loss: 78.4989 - accuracy: 0.6367 - val_loss: 62.8730 - val_accuracy: 0.2965\n",
            "Epoch 63/100\n",
            "681/681 [==============================] - 2s 2ms/step - loss: 77.3414 - accuracy: 0.6353 - val_loss: 70.0882 - val_accuracy: 0.7035\n",
            "Epoch 64/100\n",
            "681/681 [==============================] - 1s 2ms/step - loss: 65.5071 - accuracy: 0.6259 - val_loss: 160.0126 - val_accuracy: 0.7035\n",
            "Epoch 65/100\n",
            "681/681 [==============================] - 1s 2ms/step - loss: 62.7492 - accuracy: 0.6309 - val_loss: 38.2811 - val_accuracy: 0.7035\n",
            "Epoch 66/100\n",
            "681/681 [==============================] - 2s 2ms/step - loss: 69.5687 - accuracy: 0.6300 - val_loss: 22.0519 - val_accuracy: 0.7035\n",
            "Epoch 67/100\n",
            "681/681 [==============================] - 2s 2ms/step - loss: 71.3394 - accuracy: 0.6364 - val_loss: 138.1136 - val_accuracy: 0.7035\n",
            "Epoch 68/100\n",
            "681/681 [==============================] - 2s 2ms/step - loss: 67.9644 - accuracy: 0.6351 - val_loss: 206.4299 - val_accuracy: 0.7035\n",
            "Epoch 69/100\n",
            "681/681 [==============================] - 1s 2ms/step - loss: 80.6151 - accuracy: 0.6363 - val_loss: 143.2959 - val_accuracy: 0.2965\n",
            "Epoch 70/100\n",
            "681/681 [==============================] - 2s 2ms/step - loss: 89.9535 - accuracy: 0.6251 - val_loss: 62.1184 - val_accuracy: 0.7035\n",
            "Epoch 71/100\n",
            "681/681 [==============================] - 1s 2ms/step - loss: 78.5892 - accuracy: 0.6350 - val_loss: 106.8387 - val_accuracy: 0.2965\n",
            "Epoch 72/100\n",
            "681/681 [==============================] - 2s 2ms/step - loss: 57.8948 - accuracy: 0.6357 - val_loss: 176.3952 - val_accuracy: 0.2965\n",
            "Epoch 73/100\n",
            "681/681 [==============================] - 2s 3ms/step - loss: 64.9712 - accuracy: 0.6317 - val_loss: 95.9060 - val_accuracy: 0.7035\n",
            "Epoch 74/100\n",
            "681/681 [==============================] - 2s 2ms/step - loss: 76.6909 - accuracy: 0.6247 - val_loss: 4.3580 - val_accuracy: 0.6313\n",
            "Epoch 75/100\n",
            "681/681 [==============================] - 1s 2ms/step - loss: 69.8796 - accuracy: 0.6292 - val_loss: 36.8531 - val_accuracy: 0.7035\n",
            "Epoch 76/100\n",
            "681/681 [==============================] - 1s 2ms/step - loss: 76.4994 - accuracy: 0.6275 - val_loss: 35.9446 - val_accuracy: 0.7035\n",
            "Epoch 77/100\n",
            "681/681 [==============================] - 2s 2ms/step - loss: 72.8010 - accuracy: 0.6328 - val_loss: 148.7838 - val_accuracy: 0.7035\n",
            "Epoch 78/100\n",
            "681/681 [==============================] - 2s 2ms/step - loss: 70.4755 - accuracy: 0.6341 - val_loss: 73.9960 - val_accuracy: 0.7035\n",
            "Epoch 79/100\n",
            "681/681 [==============================] - 1s 2ms/step - loss: 65.7858 - accuracy: 0.6309 - val_loss: 96.2534 - val_accuracy: 0.2965\n",
            "Epoch 80/100\n",
            "681/681 [==============================] - 2s 2ms/step - loss: 59.6425 - accuracy: 0.6342 - val_loss: 15.1336 - val_accuracy: 0.7035\n",
            "Epoch 81/100\n",
            "681/681 [==============================] - 1s 2ms/step - loss: 80.4366 - accuracy: 0.6454 - val_loss: 205.2281 - val_accuracy: 0.2965\n",
            "Epoch 82/100\n",
            "681/681 [==============================] - 1s 2ms/step - loss: 72.1900 - accuracy: 0.6294 - val_loss: 10.5604 - val_accuracy: 0.7032\n",
            "Epoch 83/100\n",
            "681/681 [==============================] - 2s 3ms/step - loss: 58.4277 - accuracy: 0.6292 - val_loss: 78.7714 - val_accuracy: 0.2965\n",
            "Epoch 84/100\n",
            "681/681 [==============================] - 1s 2ms/step - loss: 77.6912 - accuracy: 0.6317 - val_loss: 36.1670 - val_accuracy: 0.7035\n",
            "Epoch 85/100\n",
            "681/681 [==============================] - 2s 3ms/step - loss: 70.2601 - accuracy: 0.6344 - val_loss: 5.1321 - val_accuracy: 0.4737\n",
            "Epoch 86/100\n",
            "681/681 [==============================] - 2s 2ms/step - loss: 65.5976 - accuracy: 0.6272 - val_loss: 76.4483 - val_accuracy: 0.7035\n",
            "Epoch 87/100\n",
            "681/681 [==============================] - 1s 2ms/step - loss: 63.1619 - accuracy: 0.6287 - val_loss: 27.3722 - val_accuracy: 0.2968\n",
            "Epoch 88/100\n",
            "681/681 [==============================] - 1s 2ms/step - loss: 60.4412 - accuracy: 0.6266 - val_loss: 204.3626 - val_accuracy: 0.2965\n",
            "Epoch 89/100\n",
            "681/681 [==============================] - 2s 2ms/step - loss: 52.2012 - accuracy: 0.6267 - val_loss: 72.9369 - val_accuracy: 0.7035\n",
            "Epoch 90/100\n",
            "681/681 [==============================] - 2s 2ms/step - loss: 56.1966 - accuracy: 0.6357 - val_loss: 61.4712 - val_accuracy: 0.7035\n",
            "Epoch 91/100\n",
            "681/681 [==============================] - 2s 2ms/step - loss: 65.4671 - accuracy: 0.6425 - val_loss: 90.7744 - val_accuracy: 0.7035\n",
            "Epoch 92/100\n",
            "681/681 [==============================] - 2s 3ms/step - loss: 48.8384 - accuracy: 0.6322 - val_loss: 167.6808 - val_accuracy: 0.7035\n",
            "Epoch 93/100\n",
            "681/681 [==============================] - 2s 2ms/step - loss: 45.6367 - accuracy: 0.6363 - val_loss: 36.2297 - val_accuracy: 0.7035\n",
            "Epoch 94/100\n",
            "681/681 [==============================] - 2s 2ms/step - loss: 61.4765 - accuracy: 0.6329 - val_loss: 84.9724 - val_accuracy: 0.7035\n",
            "Epoch 95/100\n",
            "681/681 [==============================] - 2s 3ms/step - loss: 65.8249 - accuracy: 0.6270 - val_loss: 102.5934 - val_accuracy: 0.2965\n",
            "Epoch 96/100\n",
            "681/681 [==============================] - 1s 2ms/step - loss: 57.7057 - accuracy: 0.6386 - val_loss: 5.8453 - val_accuracy: 0.4433\n",
            "Epoch 97/100\n",
            "681/681 [==============================] - 2s 2ms/step - loss: 69.2083 - accuracy: 0.6331 - val_loss: 44.2058 - val_accuracy: 0.7035\n",
            "Epoch 98/100\n",
            "681/681 [==============================] - 1s 2ms/step - loss: 71.1739 - accuracy: 0.6366 - val_loss: 47.8999 - val_accuracy: 0.7035\n",
            "Epoch 99/100\n",
            "681/681 [==============================] - 2s 2ms/step - loss: 66.0286 - accuracy: 0.6334 - val_loss: 89.5095 - val_accuracy: 0.7035\n",
            "Epoch 100/100\n",
            "681/681 [==============================] - 1s 2ms/step - loss: 63.6975 - accuracy: 0.6329 - val_loss: 99.8341 - val_accuracy: 0.2965\n",
            "318/318 [==============================] - 0s 1ms/step - loss: 104.2714 - accuracy: 0.2620\n",
            "Accuracy: 26.20\n"
          ]
        }
      ],
      "source": [
        "# define the keras model\n",
        "model = Sequential()\n",
        "model.add(Dense(12, input_dim=10, activation='relu'))\n",
        "model.add(Dense(8, activation='relu'))\n",
        "model.add(Dense(1, activation='sigmoid'))\n",
        "# compile the keras model\n",
        "model.compile(loss='binary_crossentropy', optimizer='adam', metrics=['accuracy'])\n",
        "# fit the keras model on the dataset\n",
        "history = model.fit(X, y, epochs=100, batch_size=10, validation_split=0.33)\n",
        "# evaluate the keras model\n",
        "_, accuracy = model.evaluate(X, y)\n",
        "print('Accuracy: %.2f' % (accuracy*100))"
      ]
    },
    {
      "cell_type": "code",
      "execution_count": 77,
      "id": "1KdJWyPhhLkM",
      "metadata": {
        "colab": {
          "base_uri": "https://localhost:8080/"
        },
        "id": "1KdJWyPhhLkM",
        "outputId": "9991f4c6-b7c8-433b-c2df-e499e30d60b2"
      },
      "outputs": [
        {
          "output_type": "stream",
          "name": "stdout",
          "text": [
            "dict_keys(['loss', 'accuracy', 'val_loss', 'val_accuracy'])\n"
          ]
        }
      ],
      "source": [
        "print(history.history.keys())"
      ]
    },
    {
      "cell_type": "code",
      "execution_count": 78,
      "id": "xOcMaEoYhLhs",
      "metadata": {
        "colab": {
          "base_uri": "https://localhost:8080/",
          "height": 569
        },
        "id": "xOcMaEoYhLhs",
        "outputId": "9f266e28-cf79-4ccb-fcef-e8bb9c83b30c"
      },
      "outputs": [
        {
          "output_type": "display_data",
          "data": {
            "text/plain": [
              "<Figure size 432x288 with 1 Axes>"
            ],
            "image/png": "[encoded data removed]"
          },
          "metadata": {
            "needs_background": "light"
          }
        },
        {
          "output_type": "display_data",
          "data": {
            "text/plain": [
              "<Figure size 432x288 with 1 Axes>"
            ],
            "image/png": "[encoded data removed]"
          },
          "metadata": {
            "needs_background": "light"
          }
        }
      ],
      "source": [
        "# summarize history for accuracy\n",
        "plt.plot(history.history['accuracy'])\n",
        "plt.plot(history.history['val_accuracy'])\n",
        "plt.title('model accuracy', fontsize=16)\n",
        "plt.ylabel('accuracy', fontsize=16)\n",
        "plt.xlabel('epoch', fontsize=16)\n",
        "plt.legend(['train', 'test'], loc='upper left')\n",
        "plt.show()\n",
        "# summarize history for loss\n",
        "plt.plot(history.history['loss'])\n",
        "plt.plot(history.history['val_loss'])\n",
        "plt.title('model loss', fontsize=6)\n",
        "plt.ylabel('loss', fontsize=6)\n",
        "plt.xlabel('epoch', fontsize=6)\n",
        "plt.legend(['train', 'test'], loc='upper left')\n",
        "plt.show()"
      ]
    }
  ],
  "metadata": {
    "colab": {
      "collapsed_sections": [],
      "name": "Iren_Aghajanyan_Capstone.ipynb",
      "provenance": []
    },
    "kernelspec": {
      "display_name": "Python 3",
      "language": "python",
      "name": "python3"
    },
    "language_info": {
      "codemirror_mode": {
        "name": "ipython",
        "version": 3
      },
      "file_extension": ".py",
      "mimetype": "text/x-python",
      "name": "python",
      "nbconvert_exporter": "python",
      "pygments_lexer": "ipython3",
      "version": "3.8.8"
    }
  },
  "nbformat": 4,
  "nbformat_minor": 5
}